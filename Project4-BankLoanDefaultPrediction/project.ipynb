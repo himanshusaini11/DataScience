{
 "cells": [
  {
   "cell_type": "markdown",
   "metadata": {},
   "source": [
    "# Bank Loan Defaulter Hackathon Project\n",
    "### Submitted by Himanshu Saini\n",
    "#### Dataset Link: https://www.kaggle.com/datasets/ankitkalauni/bank-loan-defaulter-prediction-hackathon"
   ]
  },
  {
   "cell_type": "code",
   "execution_count": 215,
   "metadata": {},
   "outputs": [],
   "source": [
    "import warnings\n",
    "warnings.filterwarnings(\"ignore\", category = DeprecationWarning)\n",
    "warnings.filterwarnings(\"ignore\", category = FutureWarning)\n",
    "warnings.filterwarnings(\"ignore\", category = UserWarning)"
   ]
  },
  {
   "cell_type": "code",
   "execution_count": 216,
   "metadata": {},
   "outputs": [],
   "source": [
    "import numpy as np\n",
    "import pandas as pd\n",
    "import seaborn as sns\n",
    "import matplotlib.pyplot as plt\n",
    "from scipy import stats"
   ]
  },
  {
   "cell_type": "code",
   "execution_count": 217,
   "metadata": {},
   "outputs": [],
   "source": [
    "# Download the data\n",
    "df_train = pd.read_csv(\"train.csv\")"
   ]
  },
  {
   "cell_type": "markdown",
   "metadata": {},
   "source": [
    "## Data Exploration"
   ]
  },
  {
   "cell_type": "code",
   "execution_count": 218,
   "metadata": {},
   "outputs": [],
   "source": [
    "print (\"First 5 rows:\\n\", df_train.head())"
   ]
  },
  {
   "cell_type": "code",
   "execution_count": 219,
   "metadata": {},
   "outputs": [],
   "source": [
    "# Shape of the dataset\n",
    "print (\"Dataset shape:\", df_train.shape)"
   ]
  },
  {
   "cell_type": "code",
   "execution_count": 220,
   "metadata": {},
   "outputs": [],
   "source": [
    "# Display column types and null counts\n",
    "print (\"Column types and null counts:\\n\", df_train.info())"
   ]
  },
  {
   "cell_type": "code",
   "execution_count": 221,
   "metadata": {},
   "outputs": [],
   "source": [
    "# Null counts\n",
    "print (\"Null counts:\\n\", df_train.isnull().sum())"
   ]
  },
  {
   "cell_type": "code",
   "execution_count": 222,
   "metadata": {},
   "outputs": [],
   "source": [
    "# Data types counts grouopby columns\n",
    "for dtype, cols in df_train.groupby(df_train.dtypes, axis=1):\n",
    "    print(f\"{dtype} ({len(cols.columns)} columns):\")\n",
    "    print(list(cols.columns))"
   ]
  },
  {
   "cell_type": "code",
   "execution_count": 223,
   "metadata": {},
   "outputs": [],
   "source": [
    "# Summary statistics\n",
    "print (\"Summary statistics:\\n\", df_train.describe())"
   ]
  },
  {
   "cell_type": "markdown",
   "metadata": {},
   "source": [
    "### Train dataset basic information\n",
    "#### 1. There are 35 columns.\n",
    "#### 2. 67463 entries.\n",
    "#### 3. Null counts zero.\n",
    "#### 4. Datatype distribution:\n",
    "```\n",
    "int64 (17 columns):\n",
    "['ID', 'Loan Amount', 'Funded Amount', 'Term', 'Delinquency - two years', 'Inquires - six months', 'Open Account', 'Public Record', 'Revolving Balance', 'Total Accounts', 'Collection 12 months Medical', 'Last week Pay', 'Accounts Delinquent', 'Total Collection Amount', 'Total Current Balance', 'Total Revolving Credit Limit', 'Loan Status']\n",
    "\n",
    "float64 (9 columns):\n",
    "['Funded Amount Investor', 'Interest Rate', 'Home Ownership', 'Debit to Income', 'Revolving Utilities', 'Total Received Interest', 'Total Received Late Fee', 'Recoveries', 'Collection Recovery Fee']\n",
    "\n",
    "object (9 columns):\n",
    "['Batch Enrolled', 'Grade', 'Sub Grade', 'Employment Duration', 'Verification Status', 'Payment Plan', 'Loan Title', 'Initial List Status', 'Application Type']\n",
    "```"
   ]
  },
  {
   "cell_type": "code",
   "execution_count": 224,
   "metadata": {},
   "outputs": [],
   "source": [
    "# Identify train dataset column types.\n",
    "df_train_categorical_cols = df_train.select_dtypes(include=\"object\").columns.tolist()\n",
    "df_train_numerical_cols = df_train.select_dtypes(include=[\"int64\", \"float64\"]).columns.tolist()"
   ]
  },
  {
   "cell_type": "code",
   "execution_count": 225,
   "metadata": {},
   "outputs": [],
   "source": [
    "# Display unique counts for train dataset columns.\n",
    "for col in df_train_numerical_cols:\n",
    "    if df_train[col].nunique()<=200:\n",
    "        print (col, df_train[col].nunique())\n",
    "\n",
    "for col in df_train_categorical_cols:\n",
    "    if df_train[col].nunique()<=200:\n",
    "        print (col, df_train[col].nunique())"
   ]
  },
  {
   "cell_type": "code",
   "execution_count": 226,
   "metadata": {},
   "outputs": [],
   "source": [
    "df_train.nunique().sort_values().plot(kind=\"barh\", figsize=(10, 12))\n",
    "plt.xscale(\"log\")\n",
    "plt.title(\"Unique Values per Column\")\n",
    "plt.axvline(x=40, color='red', linestyle='--', label='Threshold')\n",
    "plt.legend()\n",
    "plt.tight_layout()\n",
    "plt.show()"
   ]
  },
  {
   "cell_type": "code",
   "execution_count": 227,
   "metadata": {},
   "outputs": [],
   "source": [
    "df_train.columns"
   ]
  },
  {
   "cell_type": "code",
   "execution_count": 228,
   "metadata": {},
   "outputs": [],
   "source": [
    "# Get all the categorical features out from train data.\n",
    "df_train_filter = df_train.loc[:, df_train.nunique() <= 40]\n",
    "df_train_filter.info()"
   ]
  },
  {
   "cell_type": "code",
   "execution_count": 229,
   "metadata": {},
   "outputs": [],
   "source": [
    "df_train_numerical_cols"
   ]
  },
  {
   "cell_type": "code",
   "execution_count": 230,
   "metadata": {},
   "outputs": [],
   "source": [
    "df_train.columns"
   ]
  },
  {
   "cell_type": "code",
   "execution_count": 232,
   "metadata": {},
   "outputs": [],
   "source": [
    "\"\"\"\n",
    "for col in df_train_numerical_cols:\n",
    "    sns.boxplot(data=df_train, x=\"Loan Status\", y=col)\n",
    "    plt.title(f\"{col} vs Loan Status\")\n",
    "    plt.show()\n",
    "\"\"\""
   ]
  },
  {
   "cell_type": "code",
   "execution_count": 233,
   "metadata": {},
   "outputs": [],
   "source": [
    "# Define outlier capping function (calling and flooring).\n",
    "def outlier_processing(x):\n",
    "     x = x.clip(lower=x.quantile(0.05), upper=x.quantile(0.95))\n",
    "     return x"
   ]
  },
  {
   "cell_type": "code",
   "execution_count": 234,
   "metadata": {},
   "outputs": [],
   "source": [
    "# Apply Capping to Numeric Columns of train dataset.\n",
    "#df_train[df_train_numerical_cols] = df_train[df_train_numerical_cols].apply(lambda x : outlier_processing(x))\n",
    "df_train[df_train_numerical_cols] = df_train[df_train_numerical_cols].apply(outlier_processing)"
   ]
  },
  {
   "cell_type": "code",
   "execution_count": 235,
   "metadata": {},
   "outputs": [],
   "source": [
    "# Describe Data After Capping\n",
    "df_train[df_train_numerical_cols].describe(percentiles=[0.01,0.05,0.25,0.50,0.75,0.95,0.99])"
   ]
  },
  {
   "cell_type": "code",
   "execution_count": 236,
   "metadata": {},
   "outputs": [],
   "source": [
    "# Variance of Columns\n",
    "df_train[df_test_numerical_cols].var().sort_values()"
   ]
  },
  {
   "cell_type": "code",
   "execution_count": 237,
   "metadata": {},
   "outputs": [],
   "source": [
    "# Define thresholds\n",
    "drop_threshold = 0.0001\n",
    "flag_threshold = 0.05\n",
    "\n",
    "# Drop zero/near-zero variance columns\n",
    "zero_var_cols = df_train[df_train_numerical_cols].var(numeric_only=True)\n",
    "zero_var_cols = zero_var_cols[zero_var_cols < drop_threshold].index.tolist()\n",
    "\n",
    "# Flag low-variance columns for review (but not yet dropped)\n",
    "low_var_cols = df_train[df_train_numerical_cols].var(numeric_only=True)\n",
    "low_var_cols = low_var_cols[(low_var_cols >= drop_threshold) & (low_var_cols < flag_threshold)].index.tolist()\n",
    "\n",
    "print(\"Drop these (zero or near-zero variance):\", zero_var_cols)\n",
    "print(\"Review these (low variance):\", low_var_cols)"
   ]
  },
  {
   "cell_type": "code",
   "execution_count": 238,
   "metadata": {},
   "outputs": [],
   "source": [
    "# Initialize result dictionary\n",
    "cat_analysis = {}\n",
    "\n",
    "# Thresholds\n",
    "dominance_threshold = 0.95\n",
    "high_card_threshold = 100\n",
    "\n",
    "# Analyze each categorical column\n",
    "for col in df_train_categorical_cols:\n",
    "    n_unique = df_train[col].nunique(dropna=False)\n",
    "    top_freq = df_train[col].value_counts(normalize=True, dropna=False).iloc[0]\n",
    "    cat_analysis[col] = {\n",
    "        \"Unique Values\": n_unique,\n",
    "        \"Top Category %\": round(top_freq * 100, 2),\n",
    "        \"Drop (High Cardinality)\": n_unique > high_card_threshold,\n",
    "        \"Drop (Dominant Category)\": top_freq > dominance_threshold\n",
    "    }\n",
    "\n",
    "# Convert to DataFrame\n",
    "cat_analysis_df = pd.DataFrame(cat_analysis).T.sort_values(by=\"Unique Values\")"
   ]
  },
  {
   "cell_type": "code",
   "execution_count": 239,
   "metadata": {},
   "outputs": [],
   "source": [
    "cat_analysis_df"
   ]
  },
  {
   "cell_type": "markdown",
   "metadata": {},
   "source": [
    "### From the above analysis we found the following:\n",
    "### 1. Drop numerical col \"Collection 12 months Medical\", \"Accounts Delinquent\" because they have zero variance therefore, should drop.\n",
    "### 2. Drop categorical col \"Payment Plan\", \"Application Type\" because constant values and highly imbalance."
   ]
  },
  {
   "cell_type": "code",
   "execution_count": 240,
   "metadata": {},
   "outputs": [],
   "source": [
    "drop_col = ['ID', 'Collection 12 months Medical', 'Accounts Delinquent', 'Payment Plan', 'Application Type']\n",
    "df_train.drop(columns=drop_col, inplace=True)"
   ]
  },
  {
   "cell_type": "code",
   "execution_count": 241,
   "metadata": {},
   "outputs": [],
   "source": [
    "df_train.columns"
   ]
  },
  {
   "cell_type": "code",
   "execution_count": 242,
   "metadata": {},
   "outputs": [],
   "source": [
    "# Here we will analyze the categorical columns and suggest encoding methods based on their characteristics.\n",
    "# Select categorical columns\n",
    "cat_cols = df_train.select_dtypes(include=['object', 'category']).columns\n",
    "\n",
    "# Prepare summary\n",
    "encoding_suggestions = []\n",
    "\n",
    "for col in cat_cols:\n",
    "    unique_vals = df_train[col].nunique(dropna=False)\n",
    "    top_cat_pct = df_train[col].value_counts(normalize=True, dropna=False).iloc[0] # The percentage of rows that belong to the most frequent category in a given column.\n",
    "\n",
    "    if unique_vals <= 10:\n",
    "        if col in ['Grade']:  # Known ordinal from domain\n",
    "            encoding_type = \"Ordinal Encoding\"\n",
    "        else:\n",
    "            encoding_type = \"One-Hot Encoding\"\n",
    "    elif 10 < unique_vals <= 50:\n",
    "        encoding_type = \"Label Encoding\"\n",
    "    elif unique_vals > 50:\n",
    "        encoding_type = \"Frequency Encoding / Target Encoding\"\n",
    "    else:\n",
    "        encoding_type = \"Review Manually\"\n",
    "\n",
    "    dominance_flag = \"Dominant Category\" if top_cat_pct > 0.95 else \"\"\n",
    "    \n",
    "    encoding_suggestions.append({\n",
    "        \"Column\": col,\n",
    "        \"Unique Values\": unique_vals,\n",
    "        \"Top Category %\": round(top_cat_pct * 100, 2),\n",
    "        \"Suggested Encoding\": encoding_type,\n",
    "        \"Note\": dominance_flag\n",
    "    })\n",
    "\n",
    "# Convert to DataFrame\n",
    "encoding_df = pd.DataFrame(encoding_suggestions).sort_values(by=\"Unique Values\")"
   ]
  },
  {
   "cell_type": "code",
   "execution_count": 243,
   "metadata": {},
   "outputs": [],
   "source": [
    "encoding_df"
   ]
  },
  {
   "cell_type": "code",
   "execution_count": 244,
   "metadata": {},
   "outputs": [],
   "source": [
    "# Implemnting encoding\n",
    "\n",
    "from sklearn.preprocessing import LabelEncoder\n",
    "\n",
    "# --- 1. Ordinal Encoding for 'Grade'\n",
    "grade_order = {\"A\": 1, \"B\": 2, \"C\": 3, \"D\": 4, \"E\": 5, \"F\": 6, \"G\": 7}\n",
    "df_train[\"Grade\"] = df_train[\"Grade\"].map(grade_order)\n",
    "\n",
    "# --- 2. Label Encoding for 'Sub Grade' and 'Batch Enrolled'\n",
    "label_cols = [\"Sub Grade\", \"Batch Enrolled\"]\n",
    "le = LabelEncoder()\n",
    "for col in label_cols:\n",
    "    df_train[col] = le.fit_transform(df_train[col])\n",
    "\n",
    "# --- 3. Frequency Encoding for 'Loan Title'\n",
    "freq_map = df_train[\"Loan Title\"].value_counts().to_dict()\n",
    "df_train[\"Loan Title\"] = df_train[\"Loan Title\"].map(freq_map)\n",
    "\n",
    "# --- 4. One-Hot Encoding for 'Initial List Status', 'Employment Duration', 'Verification Status'\n",
    "one_hot_cols = [\"Initial List Status\", \"Employment Duration\", \"Verification Status\"]\n",
    "df_train_encoded = pd.get_dummies(df_train, columns=one_hot_cols, drop_first=True)"
   ]
  },
  {
   "cell_type": "code",
   "execution_count": 245,
   "metadata": {},
   "outputs": [],
   "source": [
    "df_train_encoded.head()"
   ]
  },
  {
   "cell_type": "code",
   "execution_count": 246,
   "metadata": {},
   "outputs": [],
   "source": [
    "df_train_encoded.columns"
   ]
  },
  {
   "cell_type": "code",
   "execution_count": 247,
   "metadata": {},
   "outputs": [],
   "source": [
    "print (\"Loan Status\" in df_train_encoded.columns)"
   ]
  },
  {
   "cell_type": "markdown",
   "metadata": {},
   "source": [
    "### Feature Engineering."
   ]
  },
  {
   "cell_type": "code",
   "execution_count": 248,
   "metadata": {},
   "outputs": [],
   "source": [
    "# --- 1. Imports ---\n",
    "from imblearn.over_sampling import SMOTE\n",
    "from imblearn.under_sampling import NearMiss\n",
    "from collections import Counter\n",
    "import pandas as pd\n",
    "import matplotlib.pyplot as plt"
   ]
  },
  {
   "cell_type": "code",
   "execution_count": 249,
   "metadata": {},
   "outputs": [],
   "source": [
    "# --- 2. Split the train and test datasets ---\n",
    "from sklearn.model_selection import train_test_split\n",
    "\n",
    "X = df_train_encoded.drop(columns=[\"Loan Status\"])\n",
    "y = df_train_encoded[\"Loan Status\"]\n",
    "\n",
    "X_train, X_test, y_train, y_test = train_test_split(X, y, test_size=0.2, random_state=42, stratify=y)"
   ]
  },
  {
   "cell_type": "code",
   "execution_count": 250,
   "metadata": {},
   "outputs": [],
   "source": [
    "X_train.info()"
   ]
  },
  {
   "cell_type": "code",
   "execution_count": 251,
   "metadata": {},
   "outputs": [],
   "source": [
    "# --- 3. Check the class distribution ---\n",
    "print(\"Original Class Distribution:\")\n",
    "print(Counter(y_train))"
   ]
  },
  {
   "cell_type": "code",
   "execution_count": 252,
   "metadata": {},
   "outputs": [],
   "source": [
    "# --- 3. Apply SMOTE ---\n",
    "smote = SMOTE(random_state=42)\n",
    "X_train_smote, y_train_smote = smote.fit_resample(X_train, y_train)\n",
    "print(\"Distribution after SMOTE:\")  \n",
    "print(Counter(y_train_smote))"
   ]
  },
  {
   "cell_type": "code",
   "execution_count": 253,
   "metadata": {},
   "outputs": [],
   "source": [
    "# --- 4. Apply NearMiss ---\n",
    "nearmiss = NearMiss(version=1)\n",
    "X_train_nm, y_train_nm = nearmiss.fit_resample(X_train, y_train)\n",
    "print(\"Distribution after NearMiss:\")\n",
    "print(Counter(y_train_nm))"
   ]
  },
  {
   "cell_type": "code",
   "execution_count": 254,
   "metadata": {},
   "outputs": [],
   "source": [
    "# --- 5. Compare in Table ---\n",
    "comparison_df = pd.DataFrame({\n",
    "    \"Original\": pd.Series(Counter(y_train)),\n",
    "    \"SMOTE\": pd.Series(Counter(y_train_smote)),\n",
    "    \"NearMiss\": pd.Series(Counter(y_train_nm))\n",
    "}).T\n",
    "comparison_df.columns = [\"Non-Defaulter (0)\", \"Defaulter (1)\"]\n",
    "print(\"Class Distribution Comparison:\")\n",
    "display(comparison_df)"
   ]
  },
  {
   "cell_type": "code",
   "execution_count": 255,
   "metadata": {},
   "outputs": [],
   "source": [
    "# --- 6. Plotting ---\n",
    "comparison_df.plot(kind=\"bar\", figsize=(8, 4), colormap=\"viridis\")\n",
    "plt.title(\"Class Distribution: Original vs SMOTE vs NearMiss\")\n",
    "plt.ylabel(\"Number of Samples\")\n",
    "plt.xticks(rotation=0)\n",
    "plt.grid(axis='y')\n",
    "plt.tight_layout()\n",
    "plt.show()"
   ]
  },
  {
   "cell_type": "markdown",
   "metadata": {},
   "source": [
    "# Machine Learning Modeling"
   ]
  },
  {
   "cell_type": "markdown",
   "metadata": {},
   "source": [
    "## 1. Logistic Regression"
   ]
  },
  {
   "cell_type": "code",
   "execution_count": 304,
   "metadata": {},
   "outputs": [],
   "source": [
    "# Models\n",
    "from sklearn.linear_model import LogisticRegression\n",
    "from sklearn.tree import DecisionTreeClassifier\n",
    "from sklearn.ensemble import RandomForestClassifier\n",
    "from sklearn.svm import SVC\n",
    "from xgboost import XGBClassifier\n",
    "from lightgbm import LGBMClassifier\n",
    "from catboost import CatBoostClassifier\n",
    "\n",
    "# Metrics (for classification)\n",
    "from sklearn.metrics import accuracy_score, roc_auc_score, precision_score, recall_score, f1_score\n",
    "from sklearn.metrics import confusion_matrix, classification_report, ConfusionMatrixDisplay\n",
    "from sklearn.metrics import roc_curve, precision_recall_curve\n",
    "\n",
    "# Model Selection (Optional for tuning)\n",
    "from sklearn.model_selection import cross_val_score, GridSearchCV, RandomizedSearchCV, StratifiedKFold\n"
   ]
  },
  {
   "cell_type": "code",
   "execution_count": 277,
   "metadata": {},
   "outputs": [],
   "source": [
    "def evaluateModel(model, X_train, y_train, X_test, y_test, name=\"\", refit=True, positive_label=1):\n",
    "    # Fit only if requested\n",
    "    if refit:\n",
    "        model.fit(X_train, y_train)\n",
    "\n",
    "    # Get probabilities with the correct column for the positive class (I made a mistake here before.)\n",
    "    y_prob = None\n",
    "    if hasattr(model, \"predict_proba\"):\n",
    "        proba = model.predict_proba(X_test)\n",
    "        # Find the column index for the desired positive_label\n",
    "        pos_idx = np.where(model.classes_ == positive_label)[0][0]\n",
    "        y_prob = proba[:, pos_idx]\n",
    "\n",
    "    # Use sklearn's predict (which applies its own threshold consistently)\n",
    "    y_pred = model.predict(X_test)\n",
    "\n",
    "    # Metrics\n",
    "    acc = accuracy_score(y_test, y_pred)\n",
    "    prec = precision_score(y_test, y_pred, zero_division=0)\n",
    "    rec = recall_score(y_test, y_pred, zero_division=0)\n",
    "    f1 = f1_score(y_test, y_pred, zero_division=0)\n",
    "    roc_auc = roc_auc_score(y_test, y_prob) if y_prob is not None else None\n",
    "    con_mat = confusion_matrix(y_test, y_pred)\n",
    "\n",
    "    # Feature importance / coefficients\n",
    "    feature_importance = None\n",
    "    if hasattr(model, \"feature_importances_\"):\n",
    "        feature_importance = model.feature_importances_\n",
    "    elif hasattr(model, \"coef_\"):\n",
    "        try:\n",
    "            feature_importance = np.abs(model.coef_[0])\n",
    "        except Exception:\n",
    "            feature_importance = None\n",
    "\n",
    "    return {\n",
    "        \"Model\": name,\n",
    "        \"Accuracy\": acc,\n",
    "        \"Precision\": prec,\n",
    "        \"Recall\": rec,\n",
    "        \"F1 Score\": f1,\n",
    "        \"ROC AUC\": roc_auc,\n",
    "        \"Confusion Matrix\": con_mat,\n",
    "        \"Feature Importance\": feature_importance,\n",
    "        \"y_pred\": y_pred,      # include these for debugging/plots\n",
    "        \"y_prob\": y_prob,\n",
    "        # For debugging\n",
    "        \"classes_\": getattr(model, \"classes_\", None),\n",
    "        \"positive_label\": positive_label,\n",
    "        \"positive predicted\": (y_pred == positive_label).sum()\n",
    "    }"
   ]
  },
  {
   "cell_type": "code",
   "execution_count": 272,
   "metadata": {},
   "outputs": [],
   "source": [
    "y_test"
   ]
  },
  {
   "cell_type": "code",
   "execution_count": null,
   "metadata": {},
   "outputs": [],
   "source": [
    "# Create model\n",
    "lr = LogisticRegression(max_iter=1000, class_weight='balanced', random_state=42)\n",
    "\n",
    "# Evaluate on original data\n",
    "result_lr_orig = evaluateModel(lr, X_train, y_train, X_test, y_test, name=\"LogReg - Original\")\n",
    "\n",
    "# Evaluate on SMOTE-balanced data\n",
    "result_lr_smote = evaluateModel(lr, X_train_smote, y_train_smote, X_test, y_test, name=\"LogReg - SMOTE\")\n",
    "\n",
    "# Evaluate on NearMiss-balanced data\n",
    "result_lr_nm = evaluateModel(lr, X_train_nm, y_train_nm, X_test, y_test, name=\"LogReg - NearMiss\")"
   ]
  },
  {
   "cell_type": "code",
   "execution_count": 274,
   "metadata": {},
   "outputs": [],
   "source": [
    "result_lr_orig"
   ]
  },
  {
   "cell_type": "code",
   "execution_count": 275,
   "metadata": {},
   "outputs": [],
   "source": [
    "result_lr_smote"
   ]
  },
  {
   "cell_type": "code",
   "execution_count": 276,
   "metadata": {},
   "outputs": [],
   "source": [
    "result_lr_nm"
   ]
  },
  {
   "cell_type": "markdown",
   "metadata": {},
   "source": [
    "## Logistic Regression Model Evaluation\n",
    "\n",
    "| Resampling Strategy | Accuracy | Precision | Recall | F1 Score | ROC AUC | Comments                                                                            | Best Use Case                                                                                                         |\n",
    "| ------------------- | -------- | --------- | ------ | -------- | ------- | ----------------------------------------------------------------------------------- | --------------------------------------------------------------------------------------------------------------------- |\n",
    "| **Original**        | 0.5470   | 0.0984    | 0.4775 | 0.1632   | 0.5157  | Moderate recall with low precision; class imbalance still impacts performance, leading to many false positives and a low ROC AUC. | When you need a quick baseline and want moderate recall without complex preprocessing.                                |\n",
    "| **SMOTE**           | 0.5399   | 0.0984    | 0.4671 | 0.1581   | 0.5102  | Similar to original; oversampling improves class balance but doesn't significantly boost performance—model likely limited by feature separability. | Balanced datasets where you expect model behavior similar to original but want to avoid bias toward majority class.   |\n",
    "| **NearMiss**        | 0.3406   | 0.0948    | 0.7171 | 0.1674   | 0.5082  | Significantly increases recall (captures more positives) but at the cost of accuracy and precision; high false positive rate due to aggressive undersampling. | Situations where missing a positive case is more costly than false alarms (e.g., fraud detection, medical screening). |\n"
   ]
  },
  {
   "cell_type": "markdown",
   "metadata": {},
   "source": [
    "## 2. Decision Tree Classifier"
   ]
  },
  {
   "cell_type": "code",
   "execution_count": 278,
   "metadata": {},
   "outputs": [],
   "source": [
    "# Base model setup\n",
    "dt = DecisionTreeClassifier(\n",
    "                            random_state=42,\n",
    "                            class_weight='balanced',\n",
    "                            max_depth=8, # Adjust max_depth as needed (6-12 is a good range to start with, but you can tune it further if needed.\n",
    "                            min_samples_leaf=30,\n",
    "                            min_samples_split=50,\n",
    "                            max_features='sqrt',  # Use square root of features for splits\n",
    "                            )\n",
    "\n",
    "# Original\n",
    "result_dt_orig = evaluateModel(dt, X_train, y_train, X_test, y_test, name=\"DecisionTree - Original\")\n",
    "\n",
    "# SMOTE\n",
    "result_dt_smote = evaluateModel(dt, X_train_smote, y_train_smote, X_test, y_test, name=\"DecisionTree - SMOTE\")\n",
    "\n",
    "# NearMiss\n",
    "result_dt_nm = evaluateModel(dt, X_train_nm, y_train_nm, X_test, y_test, name=\"DecisionTree - NearMiss\")"
   ]
  },
  {
   "cell_type": "code",
   "execution_count": 279,
   "metadata": {},
   "outputs": [],
   "source": [
    "result_dt_orig"
   ]
  },
  {
   "cell_type": "code",
   "execution_count": 280,
   "metadata": {},
   "outputs": [],
   "source": [
    "result_dt_smote"
   ]
  },
  {
   "cell_type": "code",
   "execution_count": 281,
   "metadata": {},
   "outputs": [],
   "source": [
    "result_dt_nm"
   ]
  },
  {
   "cell_type": "markdown",
   "metadata": {},
   "source": [
    "## Decision Tree Classifier Model Evaluation\n",
    "\n",
    "| Resampling Strategy | Accuracy | Precision | Recall | F1 Score | ROC AUC | Comments                                                                                  | Best Use Case                                                             |\n",
    "| ------------------- | -------- | --------- | ------ | -------- | ------- | ----------------------------------------------------------------------------------------- | ------------------------------------------------------------------------- |\n",
    "| **Original**        | 0.5312   | 0.0934    | 0.4671 | 0.1557   | 0.5073  | Low precision and ROC AUC; tree overfitting likely; predicts many positives incorrectly.  | Balanced baseline; quick reference before resampling.                     |\n",
    "| **SMOTE**           | 0.6662   | 0.0914    | 0.2917 | 0.1391   | 0.4883  | Better accuracy from balancing classes, but recall dropped sharply; still poor precision. | When higher accuracy is more important than catching all positives.       |\n",
    "| **NearMiss**        | 0.3623   | 0.0934    | 0.6771 | 0.1642   | 0.5026  | High recall but accuracy suffers; many false positives due to aggressive undersampling.   | When maximizing recall is the top priority (e.g., catching all defaults). |\n"
   ]
  },
  {
   "cell_type": "markdown",
   "metadata": {},
   "source": [
    "## 3. Random Forest Classifier"
   ]
  },
  {
   "cell_type": "code",
   "execution_count": 282,
   "metadata": {},
   "outputs": [],
   "source": [
    "# Initialize with base settings\n",
    "rf = RandomForestClassifier(\n",
    "                            random_state=42,\n",
    "                            class_weight='balanced',\n",
    "                            n_estimators=300,  # Number of trees in the forest\n",
    "                            max_depth=8,      # Maximum depth of each tree\n",
    "                            min_samples_leaf=30,  # Minimum samples required to be at a leaf node\n",
    "                            min_samples_split=50,  # Minimum samples required to split an internal node\n",
    "                            max_features='sqrt'  # Use square root of features for splits\n",
    "                            )"
   ]
  },
  {
   "cell_type": "code",
   "execution_count": 283,
   "metadata": {},
   "outputs": [],
   "source": [
    "# Original\n",
    "result_rf_orig = evaluateModel(rf, X_train, y_train, X_test, y_test, name=\"RandomForest - Original\")\n",
    "\n",
    "# SMOTE\n",
    "result_rf_smote = evaluateModel(rf, X_train_smote, y_train_smote, X_test, y_test, name=\"RandomForest - SMOTE\")\n",
    "\n",
    "# NearMiss\n",
    "result_rf_nm = evaluateModel(rf, X_train_nm, y_train_nm, X_test, y_test, name=\"RandomForest - NearMiss\")"
   ]
  },
  {
   "cell_type": "code",
   "execution_count": 284,
   "metadata": {},
   "outputs": [],
   "source": [
    "result_rf_orig"
   ]
  },
  {
   "cell_type": "code",
   "execution_count": 285,
   "metadata": {},
   "outputs": [],
   "source": [
    "result_rf_smote"
   ]
  },
  {
   "cell_type": "code",
   "execution_count": 286,
   "metadata": {},
   "outputs": [],
   "source": [
    "result_rf_nm"
   ]
  },
  {
   "cell_type": "markdown",
   "metadata": {},
   "source": [
    "## Random Forest Classifier Model Evaluation\n",
    "\n",
    "| Resampling Strategy | Accuracy | Precision | Recall | F1 Score | ROC AUC | Comments                                                                                                                |\n",
    "| ------------------- | -------- | --------- | ------ | -------- | ------- | ----------------------------------------------------------------------------------------------------------------------- |\n",
    "| **Original**        | 0.7927   | 0.1114    | 0.1779 | 0.1370   | 0.5376  | Good overall accuracy, but still weak recall for minority class — many positives missed despite balanced class weights. |\n",
    "| **SMOTE**           | 0.7972   | 0.0926    | 0.1354 | 0.1100   | 0.4941  | Accuracy stays high, but SMOTE doesn’t improve recall here; possible overfitting to synthetic patterns.                 |\n",
    "| **NearMiss**        | 0.3035   | 0.0932    | 0.7484 | 0.1658   | 0.5053  | Very high recall (good at finding positives) but massive accuracy drop due to many false positives.                     |"
   ]
  },
  {
   "cell_type": "markdown",
   "metadata": {},
   "source": [
    "## 4. Support Vector Classifier (SVC)"
   ]
  },
  {
   "cell_type": "code",
   "execution_count": 287,
   "metadata": {},
   "outputs": [],
   "source": [
    "# Initialize with probability enabled for ROC AUC\n",
    "svc = SVC(\n",
    "            random_state=42,\n",
    "            probability=True,\n",
    "            class_weight='balanced',  # Use balanced class weights\n",
    "            kernel='rbf',  # Radial basis function kernel\n",
    "            C=1.0,  # Regularization parameter\n",
    "            gamma='scale'  # Kernel coefficient (1 / (n_features * X.var())) if 'scale' else 'auto'  # Use 'scale' for automatic scaling based on data\n",
    "            )"
   ]
  },
  {
   "cell_type": "code",
   "execution_count": 288,
   "metadata": {},
   "outputs": [],
   "source": [
    "# Original\n",
    "result_svc_orig = evaluateModel(svc, X_train, y_train, X_test, y_test, name=\"SVC - Original\")\n",
    "\n",
    "# SMOTE\n",
    "result_svc_smote = evaluateModel(svc, X_train_smote, y_train_smote, X_test, y_test, name=\"SVC - SMOTE\")\n",
    "\n",
    "# NearMiss\n",
    "result_svc_nm = evaluateModel(svc, X_train_nm, y_train_nm, X_test, y_test, name=\"SVC - NearMiss (Kaggle)\")"
   ]
  },
  {
   "cell_type": "code",
   "execution_count": 289,
   "metadata": {},
   "outputs": [],
   "source": [
    "result_svc_orig"
   ]
  },
  {
   "cell_type": "code",
   "execution_count": 290,
   "metadata": {},
   "outputs": [],
   "source": [
    "result_svc_smote"
   ]
  },
  {
   "cell_type": "code",
   "execution_count": 291,
   "metadata": {},
   "outputs": [],
   "source": [
    "result_svc_nm"
   ]
  },
  {
   "cell_type": "markdown",
   "metadata": {},
   "source": [
    "## Support Vector Classifier Model Evaluation\n",
    "\n",
    "| Resampling Strategy | Accuracy | Precision | Recall | F1 Score | ROC AUC | Comments                                                                                                                                      | Best Use Case                                                                                                                  |\n",
    "| ------------------- | -------- | --------- | ------ | -------- | ------- | --------------------------------------------------------------------------------------------------------------------------------------------- | ------------------------------------------------------------------------------------------------------------------------------ |\n",
    "| **Original**        | 0.5966   | 0.0993    | 0.4167 | 0.1604   | 0.5185  | Balanced performance with slightly higher recall than precision; accuracy better than Logistic Regression & Decision Tree in Original setting | Works well for smaller to medium datasets with clear margins between classes; can capture non-linear relationships via kernels |\n",
    "| **SMOTE**           | 0.4736   | 0.0953    | 0.5521 | 0.1625   | 0.5129  | Significant drop in accuracy; recall improves but precision stays low, indicating many false positives                                        | Suitable for imbalanced datasets when the minority class needs better recall, though accuracy may drop                         |\n",
    "| **NearMiss**        | 0.3420   | 0.0920    | 0.6891 | 0.1623   | 0.4977  | Recall is highest among SVC runs, but accuracy is very low; model overpredicts positives                                                      | Can be used when recall is the main priority at the expense of accuracy, especially in cost-sensitive scenarios                |\n"
   ]
  },
  {
   "cell_type": "markdown",
   "metadata": {},
   "source": [
    "## 5. XGBoost"
   ]
  },
  {
   "cell_type": "code",
   "execution_count": 297,
   "metadata": {},
   "outputs": [],
   "source": [
    "np.divide(np.sum(y_train == 0), np.sum(y_train == 1))"
   ]
  },
  {
   "cell_type": "code",
   "execution_count": 299,
   "metadata": {},
   "outputs": [],
   "source": [
    "# Initialize XGBoost\n",
    "xgb = XGBClassifier(\n",
    "                    random_state = 42,\n",
    "                    n_estimators=300,               # Number of boosting rounds\n",
    "                    learning_rate=0.05,             # Step size shrinkage\n",
    "                    max_depth=6,                    # Depth of each tree\n",
    "                    subsample=0.8,                  # Sample ratio for each tree\n",
    "                    colsample_bytree=0.8,           # Features ratio per tree\n",
    "                    reg_alpha=0.1,                  # L1 regularization\n",
    "                    reg_lambda=1,                   # L2 regularization\n",
    "                    scale_pos_weight=np.divide(np.sum(y_train == 0), np.sum(y_train == 1)),    # Adjust based on class imbalance\n",
    "                    use_label_encoder=False,        # Avoid warning for label encoder\n",
    "                    eval_metric=\"auc\",              # Track AUC during training\n",
    "                    tree_method='hist',             # Faster training\n",
    "                    gamma=1,                        # Minimum loss reduction required to make a further partition on a leaf node \n",
    "                    )"
   ]
  },
  {
   "cell_type": "code",
   "execution_count": 300,
   "metadata": {},
   "outputs": [],
   "source": [
    "# Evaluate on Original Data\n",
    "result_xgb_orig = evaluateModel(xgb, X_train, y_train, X_test, y_test, name=\"XGBoost - Original\")\n",
    "\n",
    "# Evaluate on SMOTE-balanced Data\n",
    "result_xgb_smote = evaluateModel(xgb, X_train_smote, y_train_smote, X_test, y_test, name=\"XGBoost - SMOTE\")\n",
    "\n",
    "# Evaluate on NearMiss-balanced Data\n",
    "result_xgb_nm = evaluateModel(xgb, X_train_nm, y_train_nm, X_test, y_test, name=\"XGBoost - NearMiss\")\n"
   ]
  },
  {
   "cell_type": "code",
   "execution_count": 301,
   "metadata": {},
   "outputs": [],
   "source": [
    "result_xgb_orig"
   ]
  },
  {
   "cell_type": "code",
   "execution_count": 302,
   "metadata": {},
   "outputs": [],
   "source": [
    "result_xgb_smote"
   ]
  },
  {
   "cell_type": "code",
   "execution_count": 303,
   "metadata": {},
   "outputs": [],
   "source": [
    "result_xgb_nm"
   ]
  },
  {
   "cell_type": "markdown",
   "metadata": {},
   "source": [
    "## XGBoost Model Evaluation\n",
    "\n",
    "| Model Variant                                | Accuracy | Precision | Recall | F1 Score | ROC AUC | Comment                                                                                                                                                                                | Best Use Case                                                                                                                    |\n",
    "| -------------------------------------------- | -------- | --------- | ------ | -------- | ------- | -------------------------------------------------------------------------------------------------------------------------------------------------------------------------------------- | -------------------------------------------------------------------------------------------------------------------------------- |\n",
    "| XGBoost – Original (with `scale_pos_weight`) | 0.7906   | 0.0916    | 0.1418 | 0.1113   | 0.5070  | Balanced class weight helped avoid predicting all negatives (unlike before), but recall is still low. Needs tuning of tree depth, learning rate, and regularization for better recall. | Suitable for structured/tabular data when explainability and feature importance are important, and imbalance handling is needed. |\n",
    "| XGBoost – SMOTE                              | 0.4439   | 0.0922    | 0.5665 | 0.1586   | 0.5012  | Recall improved significantly, but accuracy dropped sharply — typical with oversampling for imbalanced data. Still suffers from low precision, indicating many false positives.        | Useful when high recall is crucial (e.g., fraud detection, risk flagging) and you can tolerate false positives.                  |\n",
    "| XGBoost – NearMiss                           | 0.1507   | 0.0929    | 0.9335 | 0.1690   | 0.5064  | Extreme class balancing led to very high recall but almost unusable accuracy — predicts most cases as positive. Only viable if missing a positive is extremely costly.                 | Best when false negatives are unacceptable (e.g., safety-critical anomaly detection) and you can afford high false positives.    |"
   ]
  },
  {
   "cell_type": "markdown",
   "metadata": {},
   "source": [
    "# Hyperparameter Tuning"
   ]
  },
  {
   "cell_type": "markdown",
   "metadata": {},
   "source": [
    "## 1. GridSearchCV"
   ]
  },
  {
   "cell_type": "code",
   "execution_count": 305,
   "metadata": {},
   "outputs": [],
   "source": [
    "# Class imbalance ratio.\n",
    "pos_weight = np.divide(np.sum(y_train == 0), np.sum(y_train == 1))\n",
    "pos_weight"
   ]
  },
  {
   "cell_type": "code",
   "execution_count": 306,
   "metadata": {},
   "outputs": [],
   "source": [
    "# Cross-validation setup\n",
    "cv = StratifiedKFold(n_splits=5, shuffle=True, random_state=42)\n",
    "scoring = \"roc_auc\""
   ]
  },
  {
   "cell_type": "code",
   "execution_count": 307,
   "metadata": {},
   "outputs": [],
   "source": [
    "# XGBoost base model for tuning\n",
    "xgb = XGBClassifier(\n",
    "                    random_state = 42,\n",
    "                    tree_method='hist',\n",
    "                    eval_metric=\"auc\",\n",
    "                    n_jobs=-1\n",
    ")"
   ]
  },
  {
   "cell_type": "code",
   "execution_count": 310,
   "metadata": {},
   "outputs": [],
   "source": [
    "# GridSearchCV parameters\n",
    "xgb_grid = {\n",
    "            \"max_depth\": [4, 6, 8],\n",
    "            \"learning_rate\": [0.03, 0.1],\n",
    "            \"n_estimators\": [300, 600],\n",
    "            \"subsample\": [0.8, 1.0],\n",
    "            \"colsample_bytree\": [0.8, 1.0],\n",
    "            \"min_child_weight\": [1, 3],\n",
    "            \"gamma\": [0, 1],\n",
    "            \"scale_pos_weight\": [pos_weight]\n",
    "}"
   ]
  },
  {
   "cell_type": "code",
   "execution_count": 308,
   "metadata": {},
   "outputs": [],
   "source": [
    "# LightGBM base model for tuning\n",
    "lgbm = LGBMClassifier(\n",
    "                    random_state = 42,\n",
    "                    n_jobs=-1\n",
    ")"
   ]
  },
  {
   "cell_type": "code",
   "execution_count": 311,
   "metadata": {},
   "outputs": [],
   "source": [
    "# GridSearchCV parameters\n",
    "lgbm_grid = {\n",
    "            \"max_depth\": [-1, 6, 8],\n",
    "            \"learning_rate\": [0.03, 0.1],\n",
    "            \"n_estimators\": [300, 600],\n",
    "            \"num_leaves\": [31, 63, 127],\n",
    "            \"subsample\": [0.8, 1.0],\n",
    "            \"colsample_bytree\": [0.8, 1.0],\n",
    "            \"reg_alpha\": [0.0, 0.1],\n",
    "            \"reg_lambda\": [0.0, 1.0],\n",
    "            \"scale_pos_weight\": [pos_weight]   # LightGBM supports this too\n",
    "}"
   ]
  },
  {
   "cell_type": "code",
   "execution_count": 314,
   "metadata": {},
   "outputs": [],
   "source": [
    "# CatBoost base model for tuning\n",
    "cat = CatBoostClassifier(\n",
    "                    random_state = 42,\n",
    "                    verbose=False,\n",
    "                    eval_metric=\"AUC\",\n",
    "                    loss_function='Logloss'\n",
    ")"
   ]
  },
  {
   "cell_type": "code",
   "execution_count": 312,
   "metadata": {},
   "outputs": [],
   "source": [
    "# GridSearchCV parameters\n",
    "cat_grid = {\n",
    "            \"depth\": [6, 8, 10],\n",
    "            \"learning_rate\": [0.03, 0.1],\n",
    "            \"iterations\": [300, 600],\n",
    "            \"l2_leaf_reg\": [1, 3, 5],\n",
    "            \"subsample\": [0.8, 1.0],\n",
    "            \"class_weights\": [[1.0, pos_weight]]  # [weight_for_class_0, weight_for_class_1]\n",
    "}"
   ]
  },
  {
   "cell_type": "code",
   "execution_count": 313,
   "metadata": {},
   "outputs": [],
   "source": [
    "# Function to run GridSearchCV\n",
    "def run_grid(estimator, param_grid, name):\n",
    "    grid = GridSearchCV(\n",
    "        estimator=estimator,\n",
    "        param_grid=param_grid,\n",
    "        scoring=scoring,\n",
    "        cv=cv,\n",
    "        n_jobs=-1,\n",
    "        refit=True,     # refit best model on full training set\n",
    "        verbose=1\n",
    "    )\n",
    "    grid.fit(X_train, y_train)\n",
    "    print(f\"\\n{name} — best AUC: {grid.best_score_:.4f}\")\n",
    "    print(\"Best params:\", grid.best_params_)\n",
    "    best_model = grid.best_estimator_\n",
    "    return name, best_model, grid.best_params_, grid.best_score_"
   ]
  },
  {
   "cell_type": "code",
   "execution_count": 315,
   "metadata": {},
   "outputs": [],
   "source": [
    "results = []\n",
    "for name, est, grid in [\n",
    "    (\"XGBoost (Grid)\", xgb, xgb_grid),\n",
    "    (\"LightGBM (Grid)\", lgbm, lgbm_grid),\n",
    "    (\"CatBoost (Grid)\", cat, cat_grid),\n",
    "]:\n",
    "    results.append(run_grid(est, grid, name))"
   ]
  },
  {
   "cell_type": "code",
   "execution_count": 316,
   "metadata": {},
   "outputs": [],
   "source": [
    "results"
   ]
  },
  {
   "cell_type": "code",
   "execution_count": 317,
   "metadata": {},
   "outputs": [],
   "source": [
    "# Evaluate best models on your held-out validation set\n",
    "rows = []\n",
    "for name, best_model, best_params, cv_auc in results:\n",
    "    out = evaluateModel(best_model, X_train, y_train, X_test, y_test, name=name, refit=False, positive_label=1)\n",
    "    rows.append({\n",
    "        \"Model\": name,\n",
    "        \"Val Accuracy\": out[\"Accuracy\"],\n",
    "        \"Val Precision\": out[\"Precision\"],\n",
    "        \"Val Recall\": out[\"Recall\"],\n",
    "        \"Val F1\": out[\"F1 Score\"],\n",
    "        \"Val ROC AUC\": out[\"ROC AUC\"],\n",
    "        \"CV ROC AUC (best)\": cv_auc,\n",
    "        \"Best Params\": best_params\n",
    "    })"
   ]
  },
  {
   "cell_type": "code",
   "execution_count": 318,
   "metadata": {},
   "outputs": [],
   "source": [
    "grid_report = pd.DataFrame(rows).sort_values(\"Val ROC AUC\", ascending=False)\n",
    "grid_report"
   ]
  },
  {
   "cell_type": "markdown",
   "metadata": {},
   "source": [
    "### Hyperparameter fine-tuning with RandomForest Classifier."
   ]
  },
  {
   "cell_type": "code",
   "execution_count": 319,
   "metadata": {},
   "outputs": [],
   "source": [
    "# Search around the current settings defined in RandomForestClassifier model `rf`\n",
    "param_grid = {\n",
    "    'n_estimators': [300, 500, 800],              # try a bit larger forests\n",
    "    'max_depth': [8, 10, None],                   # keep shallow vs deep\n",
    "    'min_samples_leaf': [20, 30, 50],             # slightly smaller/larger leaves\n",
    "    'min_samples_split': [30, 50, 70],            # slightly smaller/larger splits\n",
    "    'max_features': ['sqrt', 0.5, None],          # vary feature sampling\n",
    "    'criterion': ['gini', 'log_loss']             # try log_loss for prob calibration\n",
    "}"
   ]
  },
  {
   "cell_type": "code",
   "execution_count": 320,
   "metadata": {},
   "outputs": [],
   "source": [
    "cv = StratifiedKFold(n_splits=5, shuffle=True, random_state=42)"
   ]
  },
  {
   "cell_type": "code",
   "execution_count": 321,
   "metadata": {},
   "outputs": [],
   "source": [
    "grid_search = GridSearchCV(\n",
    "    estimator=rf,\n",
    "    param_grid=param_grid,\n",
    "    scoring='neg_log_loss',  # optimizing for better probability quality\n",
    "    n_jobs=-1,\n",
    "    cv=cv,\n",
    "    verbose=2\n",
    ")"
   ]
  },
  {
   "cell_type": "code",
   "execution_count": 322,
   "metadata": {},
   "outputs": [],
   "source": [
    "grid_search.fit(X_train, y_train)"
   ]
  },
  {
   "cell_type": "code",
   "execution_count": 324,
   "metadata": {},
   "outputs": [],
   "source": [
    "grid_search.best_params_"
   ]
  },
  {
   "cell_type": "code",
   "execution_count": 325,
   "metadata": {},
   "outputs": [],
   "source": [
    "grid_search.best_score_"
   ]
  },
  {
   "cell_type": "markdown",
   "metadata": {},
   "source": [
    "### 1. Rebulid the RF Classifier with the optimized parameters from GridSeacrCV"
   ]
  },
  {
   "cell_type": "code",
   "execution_count": 327,
   "metadata": {},
   "outputs": [],
   "source": [
    "best_params = {\n",
    "                'criterion': 'log_loss',\n",
    "                'max_depth': None,\n",
    "                'max_features': None,\n",
    "                'min_samples_leaf': 20,\n",
    "                'min_samples_split': 30,\n",
    "                'n_estimators': 800\n",
    "            }"
   ]
  },
  {
   "cell_type": "code",
   "execution_count": 328,
   "metadata": {},
   "outputs": [],
   "source": [
    "best_rf = RandomForestClassifier(\n",
    "                                    random_state=42,\n",
    "                                    class_weight='balanced',\n",
    "                                    n_jobs=-1,\n",
    "                                    bootstrap=True,\n",
    "                                    **best_params\n",
    "                                )"
   ]
  },
  {
   "cell_type": "code",
   "execution_count": 329,
   "metadata": {},
   "outputs": [],
   "source": [
    "best_rf.fit(X_train, y_train)"
   ]
  },
  {
   "cell_type": "markdown",
   "metadata": {},
   "source": [
    "### 2. Evaluate the model."
   ]
  },
  {
   "cell_type": "code",
   "execution_count": 330,
   "metadata": {},
   "outputs": [],
   "source": [
    "result_best_rf = evaluateModel(best_rf, X_train, y_train, X_test, y_test, name=\"RandomForest (Grid - neg_log_loss)\", refit=False, positive_label=1)"
   ]
  },
  {
   "cell_type": "code",
   "execution_count": 331,
   "metadata": {},
   "outputs": [],
   "source": [
    "result_best_rf"
   ]
  },
  {
   "cell_type": "code",
   "execution_count": 333,
   "metadata": {},
   "outputs": [],
   "source": [
    "y_prob = result_best_rf[\"y_prob\"]           # probs for class 1 from evaluate_model\n",
    "prec, rec, thr = precision_recall_curve(y_test, y_prob)\n",
    "\n",
    "# Best-F1 threshold\n",
    "f1 = 2 * (prec * rec) / (prec + rec + 1e-12)\n",
    "best_idx = np.argmax(f1)\n",
    "best_thr = thr[best_idx]\n",
    "print(\"Best-F1 threshold:\", best_thr, \"F1:\", f1[best_idx])"
   ]
  },
  {
   "cell_type": "code",
   "execution_count": 334,
   "metadata": {},
   "outputs": [],
   "source": [
    "# Apply custom threshold\n",
    "y_pred_opt = (y_prob >= best_thr).astype(int)"
   ]
  },
  {
   "cell_type": "code",
   "execution_count": 335,
   "metadata": {},
   "outputs": [],
   "source": [
    "opt_metrics = {\n",
    "    \"Accuracy\": (y_pred_opt == y_test).mean(),\n",
    "    \"Precision\": precision_score(y_test, y_pred_opt, zero_division=0),\n",
    "    \"Recall\": recall_score(y_test, y_pred_opt, zero_division=0),\n",
    "    \"F1 Score\": f1_score(y_test, y_pred_opt, zero_division=0),\n",
    "    \"ROC AUC\": roc_auc_score(y_test, y_prob),\n",
    "    \"Confusion Matrix\": confusion_matrix(y_test, y_pred_opt)\n",
    "}"
   ]
  },
  {
   "cell_type": "code",
   "execution_count": 336,
   "metadata": {},
   "outputs": [],
   "source": [
    "opt_metrics"
   ]
  },
  {
   "cell_type": "code",
   "execution_count": 337,
   "metadata": {},
   "outputs": [],
   "source": [
    "from sklearn.calibration import CalibratedClassifierCV\n",
    "\n",
    "cal_rf = CalibratedClassifierCV(best_rf, method=\"isotonic\", cv=5)\n",
    "cal_rf.fit(X_train, y_train)\n",
    "\n",
    "res_rf_cal = evaluateModel(\n",
    "    cal_rf, X_train, y_train, X_test, y_test,\n",
    "    name=\"RandomForest (Calibrated - neg_log_loss)\",\n",
    "    refit=False, positive_label=1\n",
    ")\n",
    "res_rf_cal"
   ]
  },
  {
   "cell_type": "code",
   "execution_count": null,
   "metadata": {},
   "outputs": [],
   "source": []
  },
  {
   "cell_type": "code",
   "execution_count": 155,
   "metadata": {},
   "outputs": [],
   "source": [
    "%matplotlib"
   ]
  },
  {
   "cell_type": "code",
   "execution_count": 216,
   "metadata": {},
   "outputs": [],
   "source": [
    "model_metrices = pd.DataFrame([result_lr_orig, result_lr_smote, result_lr_nm, result_dt_orig, result_dt_smote, result_dt_nm, result_rf_orig, result_rf_smote, result_rf_nm, result_svc_orig, result_svc_smote, result_svc_nm, result_xgb_orig, result_xgb_smote, result_xgb_nm])"
   ]
  },
  {
   "cell_type": "code",
   "execution_count": 217,
   "metadata": {},
   "outputs": [],
   "source": [
    "model_metrices"
   ]
  },
  {
   "cell_type": "markdown",
   "metadata": {},
   "source": [
    "## Accuracy in Classification Models\n",
    "\n",
    "**Accuracy** is a commonly used evaluation metric in classification tasks. It measures the **proportion of correct predictions** (both true positives and true negatives) over the **total number of predictions**.\n",
    "\n",
    "### Formula\n",
    "\n",
    "\\[\n",
    "\\text{Accuracy} = \\frac{\\text{TP} + \\text{TN}}{\\text{TP} + \\text{TN} + \\text{FP} + \\text{FN}}\n",
    "\\]\n",
    "\n",
    "Where:\n",
    "- **TP**: True Positives – Model correctly predicts class 1\n",
    "- **TN**: True Negatives – Model correctly predicts class 0\n",
    "- **FP**: False Positives – Model incorrectly predicts class 1\n",
    "- **FN**: False Negatives – Model incorrectly predicts class 0\n",
    "\n",
    "---\n",
    "\n",
    "### Example\n",
    "\n",
    "Imagine a binary classification task with the following confusion matrix:\n",
    "\n",
    "|               | Predicted 0 | Predicted 1 |\n",
    "|---------------|-------------|-------------|\n",
    "| **Actual 0**  |     90      |      10     |\n",
    "| **Actual 1**  |     30      |      70     |\n",
    "\n",
    "In this case:\n",
    "- TP = 70\n",
    "- TN = 90\n",
    "- FP = 10\n",
    "- FN = 30\n",
    "\n",
    "So,\n",
    "\n",
    "\\[\n",
    "\\text{Accuracy} = \\frac{70 + 90}{70 + 90 + 10 + 30} = \\frac{160}{200} = 0.80\n",
    "\\]\n",
    "\n",
    "The model has an **accuracy of 80%**.\n",
    "\n",
    "---\n",
    "\n",
    "### When Accuracy Can Be Misleading\n",
    "\n",
    "Accuracy can be **misleading when classes are imbalanced**.\n",
    "\n",
    "Example: If 95% of samples are class 0, a model that always predicts class 0 will have 95% accuracy – but **zero recall and precision for class 1** (the minority class). Hence, **other metrics like F1 Score or ROC AUC** are preferred in such cases.\n",
    "\n",
    "---\n",
    "\n",
    "### Use Accuracy When:\n",
    "- Classes are balanced\n",
    "- Both false positives and false negatives carry equal cost\n"
   ]
  },
  {
   "cell_type": "code",
   "execution_count": 323,
   "metadata": {},
   "outputs": [],
   "source": [
    "# PLot the Accuracies of the different models\n",
    "# Sort models by Accuracy for better visualization\n",
    "\n",
    "plt.figure(figsize=(10, 6))\n",
    "bars = plt.barh(model_metrices.sort_values(by=\"Accuracy\", ascending=True)[\"Model\"], model_metrices.sort_values(by=\"Accuracy\", ascending=True)[\"Accuracy\"], color=\"dimgray\")\n",
    "plt.xlabel(\"Accuracy\")\n",
    "plt.title(\"Model Accuracy Comparison (Kaggle Test Set)\")\n",
    "plt.grid(axis='x', linestyle=\"--\", alpha=0.7)\n",
    "\n",
    "# Annotate bars\n",
    "for bar in bars:\n",
    "    width = bar.get_width()\n",
    "    plt.text(width + 0.005, bar.get_y() + bar.get_height() / 2, f\"{width:.2f}\", va='center')\n",
    "\n",
    "plt.tight_layout()\n",
    "plt.show()"
   ]
  },
  {
   "cell_type": "markdown",
   "metadata": {},
   "source": [
    "## Precision in Classification Models\n",
    "\n",
    "**Precision** is a metric that tells us **how many of the predicted positive instances were actually positive**. It answers the question:\n",
    "\n",
    "> _\"When the model predicts positive (class = 1), how often is it correct?\"_\n",
    "\n",
    "---\n",
    "\n",
    "### Formula\n",
    "\n",
    "\\[\n",
    "\\text{Precision} = \\frac{\\text{TP}}{\\text{TP} + \\text{FP}}\n",
    "\\]\n",
    "\n",
    "Where:\n",
    "- **TP (True Positives)**: Model correctly predicts class 1\n",
    "- **FP (False Positives)**: Model incorrectly predicts class 1 when it's actually 0\n",
    "\n",
    "---\n",
    "\n",
    "### Example\n",
    "\n",
    "Imagine this confusion matrix for a binary classifier:\n",
    "\n",
    "|               | Predicted 0 | Predicted 1 |\n",
    "|---------------|-------------|-------------|\n",
    "| **Actual 0**  |     85      |      15     |\n",
    "| **Actual 1**  |     30      |      70     |\n",
    "\n",
    "- **TP = 70** (actual 1, predicted 1)\n",
    "- **FP = 15** (actual 0, predicted 1)\n",
    "\n",
    "\\[\n",
    "\\text{Precision} = \\frac{70}{70 + 15} = \\frac{70}{85} \\approx 0.82\n",
    "\\]\n",
    "\n",
    "The precision is **82%**, meaning 82% of all predictions for the positive class were correct.\n",
    "\n",
    "---\n",
    "\n",
    "### When to Focus on Precision\n",
    "\n",
    "Use **Precision** when:\n",
    "- **False positives are costly** (e.g., in spam detection, a non-spam email predicted as spam is annoying).\n",
    "- You want to **minimize false alarms**.\n",
    "\n",
    "### NOTE\n",
    "\n",
    "High precision doesn't mean high recall. You can have **high precision but low recall** if the model is very selective in predicting positives.\n",
    "\n",
    "---\n",
    "\n",
    "### Use Precision When:\n",
    "- You want **fewer false positives**\n",
    "- Examples: Spam filters, medical tests for rare diseases, fraud detection\n"
   ]
  },
  {
   "cell_type": "code",
   "execution_count": 219,
   "metadata": {},
   "outputs": [],
   "source": [
    "# PLot the Precision of the different models\n",
    "# Sort models by Accuracy for better visualization\n",
    "\n",
    "plt.figure(figsize=(10, 6))\n",
    "bars = plt.barh(model_metrices.sort_values(by=\"Precision\", ascending=True)[\"Model\"], model_metrices.sort_values(by=\"Precision\", ascending=True)[\"Precision\"], color=\"dimgray\")\n",
    "plt.xlabel(\"Precision\")\n",
    "plt.title(\"Model Precision Comparison (Kaggle Test Set)\")\n",
    "plt.grid(axis='x', linestyle=\"--\", alpha=0.7)\n",
    "\n",
    "# Annotate bars\n",
    "for bar in bars:\n",
    "    width = bar.get_width()\n",
    "    plt.text(width + 0.005, bar.get_y() + bar.get_height() / 2, f\"{width:.2f}\", va='center')\n",
    "\n",
    "plt.tight_layout()\n",
    "plt.show()"
   ]
  },
  {
   "cell_type": "markdown",
   "metadata": {},
   "source": [
    "## Recall in Classification Models\n",
    "\n",
    "**Recall** (also known as **Sensitivity** or **True Positive Rate**) measures the ability of a model to identify **all relevant instances** of a class.\n",
    "\n",
    "It answers the question:\n",
    "\n",
    "> _\"Of all the actual positives, how many did the model correctly identify?\"_\n",
    "\n",
    "---\n",
    "\n",
    "### Formula\n",
    "\n",
    "\\[\n",
    "\\text{Recall} = \\frac{\\text{TP}}{\\text{TP} + \\text{FN}}\n",
    "\\]\n",
    "\n",
    "Where:\n",
    "- **TP (True Positives)**: Correctly predicted positive cases\n",
    "- **FN (False Negatives)**: Actual positives incorrectly predicted as negatives\n",
    "\n",
    "---\n",
    "\n",
    "### Example\n",
    "\n",
    "Using the following confusion matrix:\n",
    "\n",
    "|               | Predicted 0 | Predicted 1 |\n",
    "|---------------|-------------|-------------|\n",
    "| **Actual 0**  |     85      |      15     |\n",
    "| **Actual 1**  |     30      |      70     |\n",
    "\n",
    "- **TP = 70**  \n",
    "- **FN = 30**\n",
    "\n",
    "\\[\n",
    "\\text{Recall} = \\frac{70}{70 + 30} = \\frac{70}{100} = 0.70\n",
    "\\]\n",
    "\n",
    "So the recall is **70%**, meaning the model identified 70% of all actual positive cases.\n",
    "\n",
    "---\n",
    "\n",
    "### When to Focus on Recall\n",
    "\n",
    "Use **Recall** when:\n",
    "- **False negatives are costly**  \n",
    "- You're okay with capturing more false positives, but want to **avoid missing any actual positives**\n",
    "\n",
    "### Tip\n",
    "\n",
    "You can have **high recall but low precision** if the model predicts too many positives (including wrong ones).\n",
    "\n",
    "---\n",
    "\n",
    "### Use Recall When:\n",
    "- You want **fewer false negatives**\n",
    "- Examples: Cancer detection, fraud detection, system alarms\n"
   ]
  },
  {
   "cell_type": "code",
   "execution_count": 220,
   "metadata": {},
   "outputs": [],
   "source": [
    "# PLot the Recall of the different models\n",
    "# Sort models by Recall for better visualization\n",
    "\n",
    "plt.figure(figsize=(10, 6))\n",
    "bars = plt.barh(model_metrices.sort_values(by=\"Recall\", ascending=True)[\"Model\"], model_metrices.sort_values(by=\"Recall\", ascending=True)[\"Recall\"], color=\"dimgray\")\n",
    "plt.xlabel(\"Recall\")\n",
    "plt.title(\"Model Recall Comparison (Kaggle Test Set)\")\n",
    "plt.grid(axis='x', linestyle=\"--\", alpha=0.7)\n",
    "\n",
    "# Annotate bars\n",
    "for bar in bars:\n",
    "    width = bar.get_width()\n",
    "    plt.text(width + 0.005, bar.get_y() + bar.get_height() / 2, f\"{width:.2f}\", va='center')\n",
    "\n",
    "plt.tight_layout()\n",
    "plt.show()"
   ]
  },
  {
   "cell_type": "markdown",
   "metadata": {},
   "source": [
    "## F1 Score in Classification Models\n",
    "\n",
    "**F1 Score** is the **harmonic mean** of **Precision** and **Recall**, offering a balanced metric when you want to consider both false positives and false negatives.\n",
    "\n",
    "It is particularly useful in **imbalanced classification problems**, where one class occurs more frequently than the other.\n",
    "\n",
    "---\n",
    "\n",
    "### Formula\n",
    "\n",
    "\\[\n",
    "\\text{F1 Score} = 2 \\times \\frac{\\text{Precision} \\times \\text{Recall}}{\\text{Precision} + \\text{Recall}}\n",
    "\\]\n",
    "\n",
    "---\n",
    "\n",
    "### Example\n",
    "\n",
    "Let’s say your model has:\n",
    "- **Precision = 0.82**\n",
    "- **Recall = 0.70**\n",
    "\n",
    "\\[\n",
    "\\text{F1 Score} = 2 \\times \\frac{0.82 \\times 0.70}{0.82 + 0.70} = 2 \\times \\frac{0.574}{1.52} \\approx 0.755\n",
    "\\]\n",
    "\n",
    "So the **F1 Score is 0.755**, representing a trade-off between precision and recall.\n",
    "\n",
    "---\n",
    "\n",
    "### Why Harmonic Mean?\n",
    "\n",
    "The harmonic mean punishes extreme values more than the arithmetic mean. For example:\n",
    "- If precision is 1.0 but recall is 0.0 → F1 = 0.0\n",
    "- If precision and recall are both 0.5 → F1 = 0.5\n",
    "\n",
    "Thus, F1 is high **only when both precision and recall are reasonably high**.\n",
    "\n",
    "---\n",
    "\n",
    "### Use F1 Score When:\n",
    "- You want a **balance between precision and recall**\n",
    "- The **class distribution is imbalanced**\n",
    "- Examples: Fraud detection, medical diagnosis, anomaly detection\n",
    "\n",
    "---\n",
    "\n",
    "### F1 Score vs Accuracy\n",
    "\n",
    "In imbalanced datasets, **accuracy may be misleading**, while **F1 Score gives better insight** into model performance on the minority class.\n"
   ]
  },
  {
   "cell_type": "code",
   "execution_count": 221,
   "metadata": {},
   "outputs": [],
   "source": [
    "# PLot the F1 Score of the different models\n",
    "# Sort models by Recall for better visualization\n",
    "\n",
    "plt.figure(figsize=(10, 6))\n",
    "bars = plt.barh(model_metrices.sort_values(by=\"F1 Score\", ascending=True)[\"Model\"], model_metrices.sort_values(by=\"F1 Score\", ascending=True)[\"F1 Score\"], color=\"dimgray\")\n",
    "plt.xlabel(\"F1 Score\")\n",
    "plt.title(\"Model F1 Score Comparison (Kaggle Test Set)\")\n",
    "plt.grid(axis='x', linestyle=\"--\", alpha=0.7)\n",
    "\n",
    "# Annotate bars\n",
    "for bar in bars:\n",
    "    width = bar.get_width()\n",
    "    plt.text(width + 0.005, bar.get_y() + bar.get_height() / 2, f\"{width:.2f}\", va='center')\n",
    "\n",
    "plt.tight_layout()\n",
    "plt.show()"
   ]
  },
  {
   "cell_type": "markdown",
   "metadata": {},
   "source": [
    "## ROC AUC Score (Receiver Operating Characteristic – Area Under Curve)\n",
    "\n",
    "**ROC AUC** is a powerful metric that evaluates how well a binary classification model distinguishes between two classes.\n",
    "\n",
    "- **ROC Curve** plots the **True Positive Rate (Recall)** against the **False Positive Rate** at various threshold settings.\n",
    "- **AUC (Area Under the Curve)** summarizes the curve into a single number between **0 and 1**.\n",
    "\n",
    "---\n",
    "\n",
    "### Formula (Conceptual)\n",
    "\n",
    "- **True Positive Rate (TPR)** = Recall = TP / (TP + FN)\n",
    "- **False Positive Rate (FPR)** = FP / (FP + TN)\n",
    "\n",
    "The **ROC curve** is plotted by:\n",
    "- Varying the decision threshold (e.g., from 0.0 to 1.0)\n",
    "- Calculating TPR and FPR for each threshold\n",
    "\n",
    "\\[\n",
    "\\text{AUC} = \\int_0^1 TPR(FPR^{-1}(x)) \\, dx\n",
    "\\]\n",
    "\n",
    "This integral represents the **probability that a randomly chosen positive example ranks higher than a randomly chosen negative one**.\n",
    "\n",
    "---\n",
    "\n",
    "### Example (Interpretation)\n",
    "\n",
    "| AUC Score | Interpretation               |\n",
    "|-----------|-------------------------------|\n",
    "| 0.5       | No discrimination (random)    |\n",
    "| 0.6–0.7   | Poor                          |\n",
    "| 0.7–0.8   | Fair                          |\n",
    "| 0.8–0.9   | Good                          |\n",
    "| 0.9–1.0   | Excellent                     |\n",
    "\n",
    "- A model with **AUC = 0.85** is likely to rank a positive instance higher than a negative instance **85% of the time**.\n",
    "\n",
    "---\n",
    "\n",
    "### Use ROC AUC When:\n",
    "- You want to **evaluate classification performance across all thresholds**\n",
    "- You are dealing with **imbalanced data**\n",
    "- You want to **compare multiple models objectively**\n",
    "\n",
    "---\n",
    "\n",
    "### Caution\n",
    "- ROC AUC assumes ranking ability — it doesn’t tell you where your decision threshold should be.\n",
    "- In extremely imbalanced datasets, **Precision-Recall AUC** may be more informative.\n",
    "\n",
    "---\n",
    "\n",
    "### Visualization Tip\n",
    "A perfect model has an AUC of **1.0** with the curve passing through the **top-left corner** (TPR = 1, FPR = 0).\n"
   ]
  },
  {
   "cell_type": "code",
   "execution_count": 222,
   "metadata": {},
   "outputs": [],
   "source": [
    "# PLot the ROC AUC of the different models\n",
    "# Sort models by Recall for better visualization\n",
    "\n",
    "plt.figure(figsize=(10, 6))\n",
    "bars = plt.barh(model_metrices.sort_values(by=\"ROC AUC\", ascending=True)[\"Model\"], model_metrices.sort_values(by=\"ROC AUC\", ascending=True)[\"ROC AUC\"], color=\"dimgray\")\n",
    "plt.xlabel(\"ROC AUC\")\n",
    "plt.title(\"Model ROC AUC Comparison (Kaggle Test Set)\")\n",
    "plt.grid(axis='x', linestyle=\"--\", alpha=0.7)\n",
    "\n",
    "# Annotate bars\n",
    "for bar in bars:\n",
    "    width = bar.get_width()\n",
    "    plt.text(width + 0.005, bar.get_y() + bar.get_height() / 2, f\"{width:.2f}\", va='center')\n",
    "\n",
    "plt.tight_layout()\n",
    "plt.show()"
   ]
  },
  {
   "cell_type": "markdown",
   "metadata": {},
   "source": [
    "## Why Plot Feature Importance?\n",
    "\n",
    "Feature importance helps to:\n",
    "1. **Understand model behavior** – See which variables the model relies on most.\n",
    "2. **Interpretability** – Gain trust in the model by identifying key decision drivers.\n",
    "3. **Feature selection** – Reduce dimensionality by eliminating less important features.\n",
    "4. **Improve performance** – Remove noisy or irrelevant features to improve generalization.\n",
    "5. **Communicate results** – Visuals of top features help stakeholders make data-driven decisions.\n",
    "\n",
    "---\n",
    "\n",
    "### How It Works\n",
    "\n",
    "For models like:\n",
    "- **Decision Trees, Random Forest, XGBoost**: Importance is based on how much a feature decreases impurity (e.g., Gini, Entropy).\n",
    "- **Linear Models**: Coefficients represent weights (magnitude matters, but scale needs normalization).\n",
    "- **SHAP/Permutation**: Model-agnostic approaches that evaluate feature impact more robustly.\n",
    "\n",
    "---\n",
    "\n",
    "### Example Insight\n",
    "\n",
    "> If **\"Interest Rate\"** and **\"Loan Amount\"** are top features in predicting default, the bank can revise loan approval criteria or interest policies accordingly.\n",
    "\n",
    "---\n",
    "\n",
    "### Best Practice\n",
    "\n",
    "After training your model (especially tree-based):\n",
    "- Use `.feature_importances_` (Random Forest, XGBoost)\n",
    "- Sort and plot top N features\n",
    "- Optionally use SHAP for deeper interpretability\n"
   ]
  },
  {
   "cell_type": "markdown",
   "metadata": {},
   "source": [
    "## Feature Importance Analysis\n",
    "\n",
    "We compare the top 10 most important features across the following models:\n",
    "- Random Forest (Original)\n",
    "- Random Forest (SMOTE)\n",
    "- Random Forest (NearMiss)\n",
    "- SVC (using permutation importance or SHAP)\n",
    "- Decision Tree (for comparison)\n",
    "\n",
    "This helps us assess which features are consistently influential and whether resampling changes feature reliance."
   ]
  },
  {
   "cell_type": "markdown",
   "metadata": {},
   "source": [
    "## Feature Importance: Random Forest (Original)\n",
    "\n",
    "Understanding which features influence model predictions is essential, especially when using tree-based algorithms like Random Forest. \n",
    "\n",
    "We use `.feature_importances_` to extract the importance score of each feature. These scores are derived from the **average reduction in impurity** (e.g., Gini) contributed by each feature across all trees in the forest.\n",
    "\n",
    "Below, we plot the **Top 10 most important features** from the **Random Forest model trained on the original data** (before SMOTE or NearMiss).\n",
    "\n",
    "This helps us:\n",
    "- Interpret model behavior\n",
    "- Identify key drivers of loan default\n",
    "- Prepare for further feature selection and comparison\n",
    "\n",
    "We’ll later compare this with feature importance plots from SMOTE and NearMiss models.\n"
   ]
  },
  {
   "cell_type": "code",
   "execution_count": 223,
   "metadata": {},
   "outputs": [],
   "source": [
    "# === Step 1: Filter tree-based models with valid feature importance ===\n",
    "tree_models = model_metrices[model_metrices[\"Feature Importance\"].notnull()].copy()\n",
    "\n",
    "# === Step 2: Plot each model's top N important features ===\n",
    "N = 10  # Top N features to display (change if needed)\n",
    "feature_names = X_full.columns  # Ensure you're using correct feature list\n",
    "\n",
    "for idx, row in tree_models.iterrows():\n",
    "    importances = np.array(row[\"Feature Importance\"])\n",
    "    \n",
    "    # Get indices of top N features\n",
    "    top_idx = np.argsort(importances)[-N:][::-1]\n",
    "    top_features = feature_names[top_idx]\n",
    "    top_importances = importances[top_idx]\n",
    "    \n",
    "    # Plot\n",
    "    plt.figure(figsize=(8, 5))\n",
    "    plt.barh(top_features[::-1], top_importances[::-1])  # Reversed for descending bars\n",
    "    plt.title(f\"Feature Importance: {row['Model']}\")\n",
    "    plt.xlabel(\"Importance Score\")\n",
    "    plt.tight_layout()\n",
    "    plt.grid(axis='x', linestyle='--', alpha=0.5)\n",
    "    plt.show()"
   ]
  },
  {
   "cell_type": "markdown",
   "metadata": {},
   "source": [
    "## Hyperparameter Tuning: Support Vector Classifier (SVC) with SMOTE\n",
    "\n",
    "To improve the performance of our best-performing model (SVC with SMOTE), we use **GridSearchCV** to find the optimal combination of hyperparameters.\n",
    "\n",
    "### Why Tune?\n",
    "SVC is sensitive to hyperparameters such as:\n",
    "- `C`: Regularization strength\n",
    "- `kernel`: Linear vs. nonlinear boundaries (e.g., 'linear', 'rbf')\n",
    "- `gamma`: Controls influence of points (for 'rbf' kernel)\n",
    "\n",
    "### Steps\n",
    "1. **Define Parameter Grid** for exploration.\n",
    "2. **Fit GridSearchCV** on resampled training data.\n",
    "3. **Evaluate** on the Kaggle-style test set.\n",
    "\n",
    "---"
   ]
  },
  {
   "cell_type": "code",
   "execution_count": 224,
   "metadata": {},
   "outputs": [],
   "source": [
    "from sklearn.model_selection import GridSearchCV\n",
    "from sklearn.svm import SVC\n",
    "from sklearn.pipeline import Pipeline\n",
    "from imblearn.pipeline import Pipeline as ImbPipeline\n",
    "from imblearn.over_sampling import SMOTE"
   ]
  },
  {
   "cell_type": "code",
   "execution_count": 225,
   "metadata": {},
   "outputs": [],
   "source": [
    "# Define pipeline: SMOTE + SVC\n",
    "svc_pipeline = ImbPipeline([\n",
    "    (\"smote\", SMOTE(random_state=42)),\n",
    "    (\"svc\", SVC(probability=True, random_state=42))\n",
    "])"
   ]
  },
  {
   "cell_type": "code",
   "execution_count": 226,
   "metadata": {},
   "outputs": [],
   "source": [
    "# Define param grid\n",
    "param_grid = {\n",
    "    \"svc__C\": [0.1, 1, 10],\n",
    "    \"svc__kernel\": [\"linear\", \"rbf\"],\n",
    "    \"svc__gamma\": [\"scale\", \"auto\"]\n",
    "}"
   ]
  },
  {
   "cell_type": "code",
   "execution_count": 227,
   "metadata": {},
   "outputs": [],
   "source": [
    "X = df_train_encoded.drop(columns=[\"Loan Status\"])\n",
    "y = df_train_encoded[\"Loan Status\"]"
   ]
  },
  {
   "cell_type": "code",
   "execution_count": 228,
   "metadata": {},
   "outputs": [],
   "source": [
    "# Grid Search\n",
    "grid_svc = GridSearchCV(svc_pipeline, param_grid, cv=5, scoring=\"f1\", verbose=1, n_jobs=-1)\n",
    "grid_svc.fit(X, y)  # X and y = original train set"
   ]
  },
  {
   "cell_type": "code",
   "execution_count": 235,
   "metadata": {},
   "outputs": [],
   "source": [
    "import warnings\n",
    "warnings.filterwarnings(\"ignore\", category=FutureWarning)\n",
    "\n",
    "from sklearn.model_selection import GridSearchCV, StratifiedShuffleSplit\n",
    "from sklearn.svm import SVC\n",
    "from imblearn.pipeline import Pipeline as ImbPipeline\n",
    "from imblearn.over_sampling import SMOTE\n",
    "from sklearn.metrics import f1_score\n",
    "\n",
    "# Step 1: Subsample for tuning (10K examples, stratified)\n",
    "sss = StratifiedShuffleSplit(n_splits=1, test_size=10000, random_state=42)\n",
    "for small_idx, _ in sss.split(X, y):\n",
    "    X_small, y_small = X.iloc[small_idx], y.iloc[small_idx]\n",
    "\n",
    "# Step 2: Define pipeline\n",
    "svc_pipeline = ImbPipeline([\n",
    "    (\"smote\", SMOTE(random_state=42)),\n",
    "    (\"svc\", SVC(probability=True, random_state=42))\n",
    "])\n",
    "\n",
    "# Step 3: Refined param grid (only 4 fits now)\n",
    "param_grid = {\n",
    "    \"svc__C\": [1, 10],\n",
    "    \"svc__kernel\": [\"rbf\"],\n",
    "    \"svc__gamma\": [\"scale\"]\n",
    "}\n",
    "\n",
    "# Step 4: Grid Search (CV=3)\n",
    "grid_svc = GridSearchCV(\n",
    "    svc_pipeline, \n",
    "    param_grid, \n",
    "    cv=3, \n",
    "    scoring=\"f1\", \n",
    "    verbose=3, \n",
    "    n_jobs=-1\n",
    ")\n",
    "grid_svc.fit(X_small, y_small)\n",
    "\n",
    "# Step 5: Best Params + Score\n",
    "print(\"✅ Best Params:\", grid_svc.best_params_)\n",
    "print(\"🎯 Best F1 Score on subset:\", grid_svc.best_score_)"
   ]
  },
  {
   "cell_type": "code",
   "execution_count": 236,
   "metadata": {},
   "outputs": [],
   "source": [
    "from sklearn.ensemble import RandomForestClassifier\n",
    "from sklearn.model_selection import GridSearchCV\n",
    "from sklearn.model_selection import StratifiedKFold\n",
    "X = df_train_encoded.drop(columns=[\"Loan Status\"])\n",
    "y = df_train_encoded[\"Loan Status\"]\n",
    "cv = StratifiedKFold(n_splits = 5, shuffle = True)\n",
    "param_grid = {'max_depth': [3,4,5], 'max_features': ['int','float','auto','log2']} \n",
    "modelgrid= GridSearchCV(RandomForestClassifier(),param_grid,refit=True,verbose=3, cv=cv, scoring='neg_log_loss')\n",
    "modelgrid.fit(X,y)"
   ]
  },
  {
   "cell_type": "code",
   "execution_count": null,
   "metadata": {},
   "outputs": [],
   "source": [
    "from sklearn.ensemble import RandomForestClassifier\n",
    "from sklearn.model_selection import GridSearchCV, StratifiedKFold\n",
    "\n",
    "# Define features and target\n",
    "X = df_train_encoded.drop(columns=[\"Loan Status\"])\n",
    "y = df_train_encoded[\"Loan Status\"]\n",
    "\n",
    "# Use Stratified K-Fold cross-validation\n",
    "cv = StratifiedKFold(n_splits=5, shuffle=True, random_state=42)\n",
    "\n",
    "# Define the parameter grid\n",
    "param_grid = {\n",
    "    \"max_depth\": [3, 4, 5],\n",
    "    \"max_features\": [\"sqrt\", \"log2\", None]  # Correct options for max_features\n",
    "}\n",
    "\n",
    "# Initialize GridSearchCV\n",
    "modelgrid = GridSearchCV(\n",
    "    estimator=RandomForestClassifier(random_state=42),\n",
    "    param_grid=param_grid,\n",
    "    refit=True,\n",
    "    verbose=3,\n",
    "    cv=cv,\n",
    "    scoring=\"neg_log_loss\",  # Change scoring metric here as needed\n",
    "    n_jobs=-1\n",
    ")\n",
    "\n",
    "# Fit the model\n",
    "modelgrid.fit(X, y)\n",
    "\n",
    "# Output best parameters and score\n",
    "print(\" Best Parameters:\", modelgrid.best_params_)\n",
    "print(\" Best Score (neg_log_loss):\", modelgrid.best_score_)"
   ]
  },
  {
   "cell_type": "code",
   "execution_count": 238,
   "metadata": {},
   "outputs": [],
   "source": [
    "from sklearn.svm import SVC\n",
    "from imblearn.pipeline import Pipeline as ImbPipeline\n",
    "from imblearn.over_sampling import SMOTE\n",
    "from sklearn.model_selection import GridSearchCV, StratifiedKFold\n",
    "\n",
    "# Define X and y from original training data\n",
    "X = df_train_encoded.drop(columns=[\"Loan Status\"])\n",
    "y = df_train_encoded[\"Loan Status\"]\n",
    "\n",
    "# Define Stratified K-Fold for balanced validation\n",
    "cv = StratifiedKFold(n_splits=3, shuffle=True, random_state=42)\n",
    "\n",
    "# Define pipeline: SMOTE + SVC\n",
    "svc_pipeline = ImbPipeline([\n",
    "    (\"smote\", SMOTE(random_state=42)),\n",
    "    (\"svc\", SVC(probability=True, random_state=42))\n",
    "])\n",
    "\n",
    "# Define a tighter param grid to speed up computation\n",
    "param_grid = {\n",
    "    \"svc__C\": [1, 10],\n",
    "    \"svc__kernel\": [\"linear\", \"rbf\"],\n",
    "    \"svc__gamma\": [\"scale\"]\n",
    "}\n",
    "\n",
    "# Initialize GridSearchCV\n",
    "grid_svc = GridSearchCV(\n",
    "    svc_pipeline,\n",
    "    param_grid,\n",
    "    cv=cv,\n",
    "    scoring=\"f1\",\n",
    "    verbose=3,\n",
    "    n_jobs=-1\n",
    ")\n",
    "\n",
    "# Fit the model\n",
    "grid_svc.fit(X, y)\n",
    "\n",
    "# Best model\n",
    "print(\"✅ Best Parameters:\", grid_svc.best_params_)\n",
    "print(\"✅ Best F1 Score:\", grid_svc.best_score_)"
   ]
  },
  {
   "cell_type": "markdown",
   "metadata": {},
   "source": [
    "## 📤 Final Submission Generation\n",
    "\n",
    "After training and tuning the `RandomForestClassifier`, we generate the final predictions for the test set and prepare a CSV file for submission.\n",
    "\n",
    "**Steps:**\n",
    "1. Predict loan default status using the best model from GridSearchCV.\n",
    "2. Combine predictions with the test set IDs.\n",
    "3. Save the final DataFrame as `final_submission.csv`.\n",
    "\n",
    "This file is now ready to be submitted or used for evaluation.\n"
   ]
  },
  {
   "cell_type": "code",
   "execution_count": 267,
   "metadata": {},
   "outputs": [],
   "source": [
    "# Re-load test.csv to retrieve the ID column\n",
    "original_test = pd.read_csv(\"test.csv\")  # Adjust path if needed\n",
    "\n",
    "# Generate submission using original IDs\n",
    "submission = pd.DataFrame({\n",
    "    \"ID\": original_test[\"ID\"],\n",
    "    \"Loan Status\": y_pred_final\n",
    "})\n",
    "\n",
    "submission.to_csv(\"final_submission.csv\", index=False)\n",
    "print(\"✅ Submission file created using reloaded test.csv.\")"
   ]
  },
  {
   "cell_type": "code",
   "execution_count": 268,
   "metadata": {},
   "outputs": [],
   "source": [
    "# ## 📌 Feature Importance Plot for Final Random Forest Model\n",
    "\n",
    "# Extract trained model from GridSearchCV\n",
    "final_rf = modelgrid.best_estimator_\n",
    "\n",
    "# Get feature importances\n",
    "importances = final_rf.feature_importances_\n",
    "feature_names = X.columns  # Make sure this matches the columns used in training\n",
    "\n",
    "# Create a DataFrame for easier plotting\n",
    "importances_df = pd.DataFrame({\n",
    "    \"Feature\": feature_names,\n",
    "    \"Importance\": importances\n",
    "}).sort_values(by=\"Importance\", ascending=False).reset_index(drop=True)\n",
    "\n",
    "# Display Top 20 Features\n",
    "top_n = 20\n",
    "top_features = importances_df.head(top_n)\n",
    "\n",
    "# Plot\n",
    "plt.figure(figsize=(10, 6))\n",
    "sns.barplot(x=\"Importance\", y=\"Feature\", data=top_features, palette=\"viridis\")\n",
    "plt.title(f\"🔍 Top {top_n} Important Features - Random Forest\")\n",
    "plt.xlabel(\"Importance Score\")\n",
    "plt.ylabel(\"Feature\")\n",
    "plt.tight_layout()\n",
    "plt.show()"
   ]
  },
  {
   "attachments": {
    "image.png": {
     "image/png": "[encoded data removed]"
    }
   },
   "cell_type": "markdown",
   "metadata": {},
   "source": [
    "## 🔍 Feature Importance: Random Forest Classifier\n",
    "\n",
    "The plot below illustrates the top features that contributed most to the predictions of the final model, based on the feature importance scores from the trained Random Forest Classifier.\n",
    "\n",
    "![image.png](attachment:image.png)\n",
    "\n",
    "### 🎯 Why it matters:\n",
    "- Helps explain the **drivers of loan default prediction**\n",
    "- Offers **transparency** for business or regulatory reporting\n",
    "- Can inform **feature selection** for future modeling\n",
    "\n",
    "### 🛠️ Method:\n",
    "- We extracted `.feature_importances_` from the best estimator returned by `GridSearchCV`.\n",
    "- We visualized the **top 20 most influential features**.\n",
    "\n",
    "### 📈 Insights: Top 20 Features Driving Loan Default Prediction\n",
    "\n",
    "From the plot above, we can observe several key insights about the features contributing most to the model’s decisions:\n",
    "\n",
    "1. **💥 Total Collection Amount**  \n",
    "   - This is the most important feature. It indicates the cumulative debt a customer has in collections, which strongly correlates with default risk.\n",
    "\n",
    "2. **💰 Loan Amount**  \n",
    "   - The size of the loan also ranks high. Larger loan requests may signal higher financial risk.\n",
    "\n",
    "3. **💸 Collection Recovery Fee & Total Received Late Fee**  \n",
    "   - These metrics reflect historical delinquency or fees incurred, showing strong predictive power.\n",
    "\n",
    "4. **📊 Revolving Utilities, Interest Rate, and Revolving Balance**  \n",
    "   - These are indicators of credit card utilization and ongoing liabilities, which reflect a borrower's debt behavior.\n",
    "\n",
    "5. **🏦 Funded Amount & Funded Amount by Investor**  \n",
    "   - These provide context on the confidence and investment made in the borrower.\n",
    "\n",
    "6. **🧾 Debt to Income**  \n",
    "   - A classic metric in credit scoring, showing the borrower's ability to manage debt based on income.\n",
    "\n",
    "7. **🏠 Home Ownership & Total Current Balance**  \n",
    "   - Suggest that asset ownership and total liabilities play a substantial role in predicting defaults.\n",
    "\n",
    "8. **💳 Total Revolving Credit Limit & Total Received Interest**  \n",
    "   - Provide insight into credit availability and how much a borrower is already repaying.\n",
    "\n",
    "9. **📋 Loan Title, Sub Grade, Term**  \n",
    "   - While less important than financial indicators, these represent administrative or classification details that add additional context to risk.\n",
    "\n",
    "### 🧠 Conclusion\n",
    "The model relies heavily on **credit behavior, past delinquency**, and **loan characteristics** to predict loan defaults. Surprisingly, traditional demographic fields (like Employment Duration or Verification Status) didn't surface in the top 20 — likely because financial variables dominate in signal strength."
   ]
  },
  {
   "cell_type": "code",
   "execution_count": 269,
   "metadata": {},
   "outputs": [],
   "source": [
    "from sklearn.metrics import confusion_matrix, classification_report\n",
    "\n",
    "# Predict\n",
    "y_pred = modelgrid.best_estimator_.predict(X_kaggle_test)\n",
    "y_prob = modelgrid.best_estimator_.predict_proba(X_kaggle_test)[:, 1]\n",
    "\n",
    "# Confusion Matrix\n",
    "conf_matrix = confusion_matrix(y_kaggle_test, y_pred)\n",
    "print(\"🔍 Confusion Matrix:\\n\", conf_matrix)\n",
    "\n",
    "# Classification Report\n",
    "print(\"📋 Classification Report:\\n\", classification_report(y_kaggle_test, y_pred))"
   ]
  },
  {
   "cell_type": "code",
   "execution_count": 270,
   "metadata": {},
   "outputs": [],
   "source": [
    "import seaborn as sns\n",
    "import matplotlib.pyplot as plt\n",
    "from sklearn.metrics import ConfusionMatrixDisplay\n",
    "\n",
    "disp = ConfusionMatrixDisplay(confusion_matrix=conf_matrix,\n",
    "                              display_labels=[\"Non-Defaulter\", \"Defaulter\"])\n",
    "disp.plot(cmap=\"Blues\")\n",
    "plt.title(\"Confusion Matrix - Error Analysis\")\n",
    "plt.show()"
   ]
  },
  {
   "cell_type": "code",
   "execution_count": 271,
   "metadata": {},
   "outputs": [],
   "source": [
    "# Add predictions to original test set\n",
    "df_errors = df_test_encoded.copy()\n",
    "df_errors[\"Actual\"] = y_kaggle_test\n",
    "df_errors[\"Predicted\"] = y_pred\n",
    "df_errors[\"Probability\"] = y_prob\n",
    "\n",
    "# False Positives (Predicted 1 but Actual 0)\n",
    "false_positives = df_errors[(df_errors[\"Actual\"] == 0) & (df_errors[\"Predicted\"] == 1)]\n",
    "\n",
    "# False Negatives (Predicted 0 but Actual 1)\n",
    "false_negatives = df_errors[(df_errors[\"Actual\"] == 1) & (df_errors[\"Predicted\"] == 0)]\n",
    "\n",
    "print(f\"🔺 False Positives: {len(false_positives)}\")\n",
    "print(f\"🔻 False Negatives: {len(false_negatives)}\")"
   ]
  },
  {
   "cell_type": "code",
   "execution_count": 272,
   "metadata": {},
   "outputs": [],
   "source": [
    "sns.boxplot(data=false_negatives, x=\"Actual\", y=\"Loan Amount\")\n",
    "plt.title(\"Loan Amount in False Negatives\")\n",
    "plt.show()"
   ]
  },
  {
   "cell_type": "markdown",
   "metadata": {},
   "source": [
    "## 📉 Error Analysis of Final Random Forest Model\n",
    "\n",
    "### 🔹 Confusion Matrix\n",
    "\n",
    "The confusion matrix shows a **serious imbalance** in prediction, where all test samples are predicted as **Non-Defaulter (class 0)**, regardless of their actual class:\n",
    "\n",
    "|                  | Predicted: Non-Defaulter | Predicted: Defaulter |\n",
    "|------------------|--------------------------|-----------------------|\n",
    "| **Actual: Non-Defaulter** | 15,300                   | 0                     |\n",
    "| **Actual: Defaulter**     | 13,613                   | 0                     |\n",
    "\n",
    "- 🔺 **False Positives** (Predicted as Defaulter but actually Non-Defaulter): `0`  \n",
    "- 🔻 **False Negatives** (Predicted as Non-Defaulter but actually Defaulter): `13,613`\n",
    "\n",
    "This suggests **extreme bias** in the model toward the majority class.\n",
    "\n",
    "---\n",
    "\n",
    "### 🔹 False Negatives (Defaulters missed)\n",
    "\n",
    "A box plot was generated for **Loan Amount** in false negatives. Key insights:\n",
    "\n",
    "- The **median loan amount** of missed defaulters is relatively high (~\\$12,500).\n",
    "- The **range of loan amounts** is wide, indicating **no specific amount range** is exclusively being misclassified.\n",
    "- From a **financial risk perspective**, these false negatives could represent **significant loss exposure**.\n",
    "\n",
    "---\n",
    "\n",
    "### 🔍 Takeaways\n",
    "\n",
    "- Despite resampling and tuning, the model **fails to capture minority class (Defaulters)**.\n",
    "- Class imbalance still persists post-SMOTE, or the model is **too risk-averse**, defaulting to the safe class.\n",
    "- 🛠️ **Recommendations to improve performance**:\n",
    "  - Use `class_weight=\"balanced\"` in models like Logistic Regression, Decision Trees, or Random Forest.\n",
    "  - Consider **threshold tuning** instead of default `0.5`.\n",
    "  - Explore **advanced models** like XGBoost, LightGBM, or CatBoost.\n",
    "  - Perform further **feature selection/engineering** to better differentiate the minority class."
   ]
  },
  {
   "cell_type": "markdown",
   "metadata": {},
   "source": [
    "# Improving the models."
   ]
  },
  {
   "cell_type": "markdown",
   "metadata": {},
   "source": [
    "### 📌 Step 1: Class Weighting in Random Forest"
   ]
  },
  {
   "cell_type": "code",
   "execution_count": 278,
   "metadata": {},
   "outputs": [],
   "source": [
    "# --- 1. Import and Prepare ---\n",
    "from sklearn.ensemble import RandomForestClassifier\n",
    "from sklearn.metrics import classification_report, confusion_matrix\n",
    "\n",
    "# Define your training and test sets\n",
    "X = df_train_encoded.drop(columns=[\"Loan Status\"])\n",
    "y = df_train_encoded[\"Loan Status\"]\n",
    "X_test = df_test_encoded.drop(columns=[\"Loan Status\"])\n",
    "y_test = df_target[\"Loan Status\"]\n",
    "\n",
    "# Check how many NaNs exist in y_test\n",
    "print(\"NaNs in y_test:\", y_test.isna().sum())\n",
    "\n",
    "# Drop or fix them\n",
    "# Option 1: Drop rows with NaN in y_test and update X_test accordingly\n",
    "valid_idx = y_test.dropna().index\n",
    "X_test_clean = X_test.loc[valid_idx]\n",
    "y_test_clean = y_test.loc[valid_idx]\n",
    "\n",
    "# --- 2. Train RandomForest with Balanced Class Weights ---\n",
    "rf_balanced = RandomForestClassifier(class_weight=\"balanced\", random_state=42)\n",
    "rf_balanced.fit(X, y)\n",
    "\n",
    "# --- 3. Predict and Evaluate ---\n",
    "y_pred_balanced = rf_balanced.predict(X_test)\n",
    "\n",
    "print(\"📊 Classification Report - Class Weighted Random Forest\")\n",
    "print(classification_report(y_test, y_pred_balanced))\n",
    "\n",
    "# --- 4. Confusion Matrix ---\n",
    "import matplotlib.pyplot as plt\n",
    "import seaborn as sns\n",
    "\n",
    "cm = confusion_matrix(y_test, y_pred_balanced)\n",
    "sns.heatmap(cm, annot=True, fmt=\"d\", cmap=\"Blues\", xticklabels=[\"Non-Defaulter\", \"Defaulter\"], yticklabels=[\"Non-Defaulter\", \"Defaulter\"])\n",
    "plt.xlabel(\"Predicted\")\n",
    "plt.ylabel(\"Actual\")\n",
    "plt.title(\"Confusion Matrix - Random Forest with Class Weights\")\n",
    "plt.show()"
   ]
  },
  {
   "cell_type": "markdown",
   "metadata": {},
   "source": [
    "## 🧪 Step 1: Class Weighting in Random Forest\n",
    "\n",
    "### What We Did:\n",
    "We trained a `RandomForestClassifier` with `class_weight=\"balanced\"` to automatically adjust for class imbalance. This gives more importance to the minority class (Defaulters), ensuring that the model doesn't ignore them.\n",
    "\n",
    "### Code Snippet:\n",
    "```python\n",
    "rf_balanced = RandomForestClassifier(class_weight=\"balanced\", random_state=42)\n",
    "rf_balanced.fit(X, y)"
   ]
  },
  {
   "cell_type": "code",
   "execution_count": 289,
   "metadata": {},
   "outputs": [],
   "source": [
    "from sklearn.metrics import precision_score, recall_score, f1_score\n",
    "\n",
    "# Initialize\n",
    "thresholds = np.linspace(0.0, 1.0, 100)\n",
    "f1_scores = []\n",
    "precisions = []\n",
    "recalls = []\n",
    "threshold_results = []\n",
    "\n",
    "for t in thresholds:\n",
    "    y_pred_thresh = (y_probs >= t).astype(int)\n",
    "    f1_scores.append(f1_score(y_test, y_pred_thresh))\n",
    "    precisions.append(precision_score(y_test, y_pred_thresh, zero_division=0))\n",
    "    recalls.append(recall_score(y_test, y_pred_thresh))\n",
    "    threshold_results.append((t, f1_score(y_test, y_pred_thresh), precision_score(y_test, y_pred_thresh, zero_division=0), recall_score(y_test, y_pred_thresh)))\n",
    "\n",
    "# Data frame\n",
    "#print (threshold_df)\n",
    "threshold_df = pd.DataFrame(threshold_results, columns=[\"Threshold\", \"F1 Score\", \"Precision\", \"Recall\"])\n",
    "#display(threshold_df)\n",
    "print (threshold_df.sort_values(by=\"F1 Score\", ascending=False).head(10))\n",
    "#print (threshold_df.head(5))\n",
    "\n",
    "# Plot\n",
    "plt.figure(figsize=(10, 6))\n",
    "plt.plot(thresholds, f1_scores, label=\"F1 Score\", color=\"blue\")\n",
    "plt.plot(thresholds, precisions, label=\"Precision\", linestyle=\"--\", color=\"green\")\n",
    "plt.plot(thresholds, recalls, label=\"Recall\", linestyle=\"--\", color=\"orange\")\n",
    "plt.xlabel(\"Threshold\")\n",
    "plt.ylabel(\"Score\")\n",
    "plt.title(\"Precision, Recall and F1 Score vs Threshold\")\n",
    "plt.legend()\n",
    "plt.grid(True)\n",
    "plt.show()\n",
    "\n",
    "# Best threshold\n",
    "#best_threshold = thresholds[np.argmax(f1_scores)]\n",
    "#print(f\"✅ Best Threshold for Max F1 Score: {best_threshold:.2f}\")"
   ]
  },
  {
   "attachments": {
    "image.png": {
     "image/png": "[encoded data removed]"
    }
   },
   "cell_type": "markdown",
   "metadata": {},
   "source": [
    "## 🔧 Threshold Optimization for Imbalanced Classification\n",
    "\n",
    "In binary classification problems, especially when dealing with **imbalanced datasets**, the default threshold of `0.5` used to convert probabilities into class predictions may not yield optimal performance. A better threshold can often improve **recall**, **precision**, or **F1-score**, depending on what the use-case prioritizes.\n",
    "\n",
    "### 🧠 Concept\n",
    "\n",
    "- By default, classifiers like `RandomForestClassifier` output probabilities for each class.\n",
    "- We usually predict class `1` (defaulter) if probability > 0.5.\n",
    "- But in imbalanced problems, adjusting this threshold helps find a better balance between:\n",
    "  - **Precision**: Out of predicted defaulters, how many were actually defaulters?\n",
    "  - **Recall**: Out of all actual defaulters, how many did we correctly predict?\n",
    "  - **F1 Score**: Harmonic mean of precision and recall.\n",
    "\n",
    "### 📈 Approach\n",
    "\n",
    "1. Vary the classification threshold from 0.0 to 1.0 (in steps).\n",
    "2. For each threshold, compute:\n",
    "   - F1 Score\n",
    "   - Precision\n",
    "   - Recall\n",
    "3. Plot them to observe the trade-off.\n",
    "4. Select the threshold that gives **maximum F1 Score** (or whichever metric is critical).\n",
    "\n",
    "### 📊 Result\n",
    "\n",
    "From our plot, we found:\n",
    "\n",
    "- **Best threshold (max F1)**: `0.00`\n",
    "- That means: for this model, **any predicted probability > 0.00** is classified as `1`, i.e., extremely lenient.\n",
    "\n",
    "This makes sense in our case because our model was heavily biased toward classifying all samples as non-defaulters (`0`). Setting the threshold lower allows the model to finally label some examples as defaulters.\n",
    "\n",
    "### 🔍 Plot\n",
    "\n",
    "The graph below illustrates how precision, recall, and F1 Score change as the threshold increases:\n",
    "\n",
    "![image.png](attachment:image.png)\n",
    "\n",
    "---\n",
    "\n",
    "### ✅ Next Step\n",
    "\n",
    "Now that we’ve found the optimal threshold, we can **re-evaluate the model’s predictions** on the test set using this threshold to **compare improvements in F1 or Recall**."
   ]
  },
  {
   "cell_type": "code",
   "execution_count": 290,
   "metadata": {},
   "outputs": [],
   "source": [
    "from sklearn.metrics import classification_report, confusion_matrix\n",
    "\n",
    "# --- 1. Set Best Threshold (optional: test slightly higher ones if needed) ---\n",
    "best_threshold = 0.00\n",
    "\n",
    "# --- 2. Predict using Probabilities ---\n",
    "y_probs = rf_balanced.predict_proba(X_test)[:, 1]  # Probabilities for class 1\n",
    "y_pred_final = (y_probs >= best_threshold).astype(int)\n",
    "\n",
    "# --- 3. Evaluation ---\n",
    "print(\"📌 Updated Evaluation using Best Threshold\")\n",
    "print(classification_report(y_test, y_pred_final))\n",
    "print(\"🧱 Confusion Matrix:\")\n",
    "print(confusion_matrix(y_test, y_pred_final))"
   ]
  },
  {
   "cell_type": "markdown",
   "metadata": {},
   "source": [
    "## 🎯 Final Evaluation with Threshold Optimization\n",
    "\n",
    "We applied a custom decision threshold of **0.00** to maximize recall and F1 score. Here's the classification report after threshold adjustment:\n",
    "\n",
    "- **Why adjust threshold?**\n",
    "  Logistic models and tree-based models output probabilities. By default, the decision threshold is `0.5`, but that might not be optimal, especially for imbalanced datasets. Lowering the threshold helps us **identify more defaulters (higher recall)** at the cost of some precision.\n",
    "\n",
    "- **How this helps?**\n",
    "  In financial risk modeling, missing a defaulter is **more costly** than incorrectly labeling a non-defaulter. Threshold tuning lets us **balance precision and recall** based on the application."
   ]
  },
  {
   "cell_type": "markdown",
   "metadata": {},
   "source": [
    "\n",
    "### 🔍 Interpretation:\n",
    "- **All predictions were labeled as defaulters (`class 1`)**.\n",
    "- Therefore, **recall is 1.00** (we caught *all* actual defaulters).\n",
    "- However, **precision is low (0.47)** because all non-defaulters were wrongly classified.\n",
    "- **No true negatives**: model failed to identify any non-defaulter.\n",
    "\n",
    "### ⚠️ Observation:\n",
    "Using a threshold of `0.00` means **even the lowest probability** of being a defaulter is treated as a defaulter, resulting in:\n",
    "- **Maximum recall**\n",
    "- **Zero precision for class 0**\n",
    "\n",
    "### 🧠 Insight:\n",
    "This result **prioritizes catching all defaulters** (very useful in high-stakes risk assessment), but at the cost of misclassifying every non-defaulter.\n",
    "\n",
    "### ✅ Recommendation:\n",
    "Try a **slightly higher threshold (e.g., 0.05 to 0.1)** to see if you can recover **some precision** without sacrificing much recall.\n",
    "\n"
   ]
  },
  {
   "cell_type": "code",
   "execution_count": 291,
   "metadata": {},
   "outputs": [],
   "source": [
    "from sklearn.metrics import classification_report, confusion_matrix\n",
    "\n",
    "# --- 1. Set Best Threshold (optional: test slightly higher ones if needed) ---\n",
    "best_threshold = 0.08\n",
    "\n",
    "# --- 2. Predict using Probabilities ---\n",
    "y_probs = rf_balanced.predict_proba(X_test)[:, 1]  # Probabilities for class 1\n",
    "y_pred_final = (y_probs >= best_threshold).astype(int)\n",
    "\n",
    "# --- 3. Evaluation ---\n",
    "print(\"📌 Updated Evaluation using Best Threshold\")\n",
    "print(classification_report(y_test, y_pred_final))\n",
    "print(\"🧱 Confusion Matrix:\")\n",
    "print(confusion_matrix(y_test, y_pred_final))"
   ]
  },
  {
   "cell_type": "markdown",
   "metadata": {},
   "source": [
    "## ✅ Updated Evaluation with Threshold = 0.08\n",
    "\n",
    "After analyzing the threshold-performance tradeoff, we tested the Random Forest model using a **custom threshold of 0.08**, rather than the default 0.50.\n",
    "\n",
    "### 📊 Classification Report:\n"
   ]
  },
  {
   "cell_type": "markdown",
   "metadata": {},
   "source": [
    "\n",
    "### 🧠 Key Observations:\n",
    "- **Precision-Recall Trade-off Balanced**: \n",
    "  - Recall for defaulters (class 1) = 70% ➝ majority of defaulters caught.\n",
    "  - Precision for defaulters = 50% ➝ half of the predicted defaulters are correct.\n",
    "- **True Positives = 9478** and **True Negatives = 5672**.\n",
    "- Accuracy = 52% ➝ still modest, but better than threshold = 0.00.\n",
    "\n",
    "### ✅ Why 0.08 is Better than 0.00:\n",
    "| Metric        | Threshold = 0.00 | Threshold = 0.08 |\n",
    "|---------------|------------------|------------------|\n",
    "| Precision (1) | 0.47             | 0.50             |\n",
    "| Recall (1)    | 1.00             | 0.70             |\n",
    "| F1 Score (1)  | 0.64             | 0.58             |\n",
    "| Accuracy      | 0.47             | 0.52             |\n",
    "\n",
    "While recall dropped slightly, we gained a **significant boost in precision**, making this a **much more realistic** and **deployable** model.\n",
    "\n",
    "### 📌 Final Thought:\n",
    "This threshold strikes a better **balance between catching defaulters and avoiding false alarms**. You may further fine-tune around 0.07–0.10 for optimal business value.\n",
    "\n"
   ]
  },
  {
   "cell_type": "code",
   "execution_count": 292,
   "metadata": {},
   "outputs": [],
   "source": [
    "from sklearn.metrics import classification_report, confusion_matrix\n",
    "\n",
    "# --- 1. Set Best Threshold (optional: test slightly higher ones if needed) ---\n",
    "best_threshold = 0.07\n",
    "\n",
    "# --- 2. Predict using Probabilities ---\n",
    "y_probs = rf_balanced.predict_proba(X_test)[:, 1]  # Probabilities for class 1\n",
    "y_pred_final = (y_probs >= best_threshold).astype(int)\n",
    "\n",
    "# --- 3. Evaluation ---\n",
    "print(\"📌 Updated Evaluation using Best Threshold\")\n",
    "print(classification_report(y_test, y_pred_final))\n",
    "print(\"🧱 Confusion Matrix:\")\n",
    "print(confusion_matrix(y_test, y_pred_final))"
   ]
  },
  {
   "cell_type": "code",
   "execution_count": 293,
   "metadata": {},
   "outputs": [],
   "source": [
    "from sklearn.metrics import classification_report, confusion_matrix\n",
    "\n",
    "# --- 1. Set Best Threshold (optional: test slightly higher ones if needed) ---\n",
    "best_threshold = 0.06\n",
    "\n",
    "# --- 2. Predict using Probabilities ---\n",
    "y_probs = rf_balanced.predict_proba(X_test)[:, 1]  # Probabilities for class 1\n",
    "y_pred_final = (y_probs >= best_threshold).astype(int)\n",
    "\n",
    "# --- 3. Evaluation ---\n",
    "print(\"📌 Updated Evaluation using Best Threshold\")\n",
    "print(classification_report(y_test, y_pred_final))\n",
    "print(\"🧱 Confusion Matrix:\")\n",
    "print(confusion_matrix(y_test, y_pred_final))"
   ]
  },
  {
   "cell_type": "code",
   "execution_count": 294,
   "metadata": {},
   "outputs": [],
   "source": [
    "from sklearn.metrics import classification_report, confusion_matrix\n",
    "\n",
    "# --- 1. Set Best Threshold (optional: test slightly higher ones if needed) ---\n",
    "best_threshold = 0.09\n",
    "\n",
    "# --- 2. Predict using Probabilities ---\n",
    "y_probs = rf_balanced.predict_proba(X_test)[:, 1]  # Probabilities for class 1\n",
    "y_pred_final = (y_probs >= best_threshold).astype(int)\n",
    "\n",
    "# --- 3. Evaluation ---\n",
    "print(\"📌 Updated Evaluation using Best Threshold\")\n",
    "print(classification_report(y_test, y_pred_final))\n",
    "print(\"🧱 Confusion Matrix:\")\n",
    "print(confusion_matrix(y_test, y_pred_final))"
   ]
  },
  {
   "cell_type": "code",
   "execution_count": 295,
   "metadata": {},
   "outputs": [],
   "source": [
    "from sklearn.metrics import classification_report, confusion_matrix\n",
    "\n",
    "# --- 1. Set Best Threshold (optional: test slightly higher ones if needed) ---\n",
    "best_threshold = 0.10\n",
    "\n",
    "# --- 2. Predict using Probabilities ---\n",
    "y_probs = rf_balanced.predict_proba(X_test)[:, 1]  # Probabilities for class 1\n",
    "y_pred_final = (y_probs >= best_threshold).astype(int)\n",
    "\n",
    "# --- 3. Evaluation ---\n",
    "print(\"📌 Updated Evaluation using Best Threshold\")\n",
    "print(classification_report(y_test, y_pred_final))\n",
    "print(\"🧱 Confusion Matrix:\")\n",
    "print(confusion_matrix(y_test, y_pred_final))"
   ]
  },
  {
   "cell_type": "code",
   "execution_count": 296,
   "metadata": {},
   "outputs": [],
   "source": [
    "from sklearn.metrics import classification_report, confusion_matrix\n",
    "\n",
    "# --- 1. Set Best Threshold (optional: test slightly higher ones if needed) ---\n",
    "best_threshold = 0.11\n",
    "\n",
    "# --- 2. Predict using Probabilities ---\n",
    "y_probs = rf_balanced.predict_proba(X_test)[:, 1]  # Probabilities for class 1\n",
    "y_pred_final = (y_probs >= best_threshold).astype(int)\n",
    "\n",
    "# --- 3. Evaluation ---\n",
    "print(\"📌 Updated Evaluation using Best Threshold\")\n",
    "print(classification_report(y_test, y_pred_final))\n",
    "print(\"🧱 Confusion Matrix:\")\n",
    "print(confusion_matrix(y_test, y_pred_final))"
   ]
  },
  {
   "cell_type": "code",
   "execution_count": 297,
   "metadata": {},
   "outputs": [],
   "source": [
    "from sklearn.metrics import classification_report, confusion_matrix\n",
    "\n",
    "# --- 1. Set Best Threshold (optional: test slightly higher ones if needed) ---\n",
    "best_threshold = 0.15\n",
    "\n",
    "# --- 2. Predict using Probabilities ---\n",
    "y_probs = rf_balanced.predict_proba(X_test)[:, 1]  # Probabilities for class 1\n",
    "y_pred_final = (y_probs >= best_threshold).astype(int)\n",
    "\n",
    "# --- 3. Evaluation ---\n",
    "print(\"📌 Updated Evaluation using Best Threshold\")\n",
    "print(classification_report(y_test, y_pred_final))\n",
    "print(\"🧱 Confusion Matrix:\")\n",
    "print(confusion_matrix(y_test, y_pred_final))"
   ]
  },
  {
   "cell_type": "code",
   "execution_count": 306,
   "metadata": {},
   "outputs": [],
   "source": [
    "from sklearn.metrics import classification_report, confusion_matrix\n",
    "\n",
    "# --- 1. Set Best Threshold (optional: test slightly higher ones if needed) ---\n",
    "best_threshold = np.arange(0.05, 0.15, 0.005)\n",
    "\n",
    "confusion_matrix_data = []\n",
    "\n",
    "# --- 2. Predict using Probabilities ---\n",
    "for i in best_threshold:\n",
    "    y_probs = rf_balanced.predict_proba(X_test)[:, 1]  # Probabilities for class 1\n",
    "    y_pred_final = (y_probs >= i).astype(int)\n",
    "    conf_norm = confusion_matrix(y_test, y_pred_final, normalize='true')\n",
    "    # Flatten the 2x2 matrix and store with threshold\n",
    "    row = [i] + conf_norm.flatten().tolist()\n",
    "    confusion_matrix_data.append(row)\n",
    "#y_pred_final = (y_probs >= best_threshold).astype(int)\n",
    "\n",
    "# Create DataFrame\n",
    "confusion_df = pd.DataFrame(confusion_matrix_data, columns=[\n",
    "    \"Threshold\", \n",
    "    \"True Negative Rate (TN)\", \"False Positive Rate (FP)\", \n",
    "    \"False Negative Rate (FN)\", \"True Positive Rate (TP)\"\n",
    "])\n",
    "\n",
    "# Display the DataFrame\n",
    "confusion_df.set_index(\"Threshold\", inplace=True)\n",
    "display(confusion_df)\n",
    "\n",
    "# --- 3. Evaluation ---\n",
    "#print(\"📌 Updated Evaluation using Best Threshold\")\n",
    "#print(classification_report(y_test, y_pred_final))\n",
    "#print(\"🧱 Confusion Matrix:\")\n",
    "#print(confusion_matrix(y_test, y_pred_final, normalize='all'))"
   ]
  },
  {
   "cell_type": "markdown",
   "metadata": {},
   "source": [
    "## 🔍 Model Comparison Summary: SVC + SMOTE vs. Random Forest (Weighted + Thresholded)\n",
    "\n",
    "### ✅ SVC + SMOTE (No Tuning, No Thresholding)\n",
    "\n",
    "| Metric                     | Value     |\n",
    "|---------------------------|-----------|\n",
    "| **Accuracy**              | 0.6173    |\n",
    "| **Precision**             | 0.6134    |\n",
    "| **Recall (TPR)**          | 0.5063    |\n",
    "| **F1 Score**              | 0.5547    |\n",
    "| **ROC AUC Score**         | 0.6822    |\n",
    "| **True Negative Rate (TNR)** | 0.7165    |\n",
    "| **False Positive Rate (FPR)** | 0.2835    |\n",
    "\n",
    "📌 *Balanced performance across both classes, especially better recall on defaulters.*\n",
    "\n",
    "---\n",
    "\n",
    "### 🟨 Random Forest + Class Weight + Threshold = 0.075\n",
    "\n",
    "| Metric                     | Value     |\n",
    "|---------------------------|-----------|\n",
    "| **Accuracy**              | 0.52      |\n",
    "| **Precision**             | 0.50      |\n",
    "| **Recall (TPR)**          | 0.6962    |\n",
    "| **F1 Score**              | 0.58      |\n",
    "| **ROC AUC Score**         | Lower than 0.6822 |\n",
    "| **True Negative Rate (TNR)** | 0.3707    |\n",
    "| **False Positive Rate (FPR)** | 0.6293    |\n",
    "\n",
    "📌 *Higher recall on defaulters but at the cost of many false positives.*\n",
    "\n",
    "---\n",
    "\n",
    "### 🧠 Final Conclusion\n",
    "\n",
    "- ✅ **SVC + SMOTE** provides the most **balanced** and **robust** performance among all strategies tested.\n",
    "- 🎯 Even without hyperparameter tuning, this model achieves the **highest ROC AUC Score** and **better generalization**.\n",
    "- 🧪 Techniques like **class weighting and threshold tuning** were explored but did **not outperform the baseline best**.\n",
    "- 🧾 *This strengthens confidence in model choice and serves as an excellent checkpoint in the project pipeline.*\n",
    "\n"
   ]
  },
  {
   "cell_type": "markdown",
   "metadata": {},
   "source": [
    "### ✅ 1. Model Interpretation (Optional but Valuable)\n",
    "#### Use SHAP or LIME for interpreting why the SVC model is making certain predictions.\n",
    "#### This adds value to explainability and trust in your model, especially for real-world applications.\n"
   ]
  },
  {
   "cell_type": "code",
   "execution_count": 308,
   "metadata": {},
   "outputs": [],
   "source": [
    "# Finalize the CSV for SVC + SMOTE\n",
    "submission = pd.DataFrame({\n",
    "    \"ID\": original_test[\"ID\"],\n",
    "    \"Loan Status\": svc.predict(X_test)\n",
    "})\n",
    "submission.to_csv(\"final_submission_svc_smote.csv\", index=False)\n"
   ]
  },
  {
   "cell_type": "markdown",
   "metadata": {},
   "source": [
    "### ✅ Step 1: Submission File Creation"
   ]
  },
  {
   "cell_type": "code",
   "execution_count": 309,
   "metadata": {},
   "outputs": [],
   "source": [
    "# --- 1. Predict on Test Set ---\n",
    "X_final_test = df_test_encoded.drop(columns=[\"Loan Status\"])  # Ensure 'Loan Status' is not in test\n",
    "y_pred_final = svc.predict(X_final_test)\n",
    "\n",
    "# --- 2. Build Submission File ---\n",
    "submission_df = pd.DataFrame({\n",
    "    \"ID\": original_test[\"ID\"],  # Assuming you restored 'ID' earlier from original test.csv\n",
    "    \"Loan Status\": y_pred_final\n",
    "})\n",
    "\n",
    "# --- 3. Save to CSV ---\n",
    "submission_df.to_csv(\"final_submission_svc_smote.csv\", index=False)\n",
    "print(\"✅ Final submission file 'final_submission_svc_smote.csv' created successfully.\")\n"
   ]
  },
  {
   "cell_type": "markdown",
   "metadata": {},
   "source": [
    "## 📁 Step 2: Project Documentation Structure (Markdown Format)\n",
    "\n",
    "### 🧠 1. Project Overview\n",
    "#### 🧠 Project Overview\n",
    "\n",
    "The goal of this project is to build a machine learning model that predicts **loan default risk** using historical data. This involves complete preprocessing, feature engineering, resampling, model selection, evaluation, and performance tuning.\n",
    "\n",
    "Data Source: Kaggle Bank Loan Defaulter Challenge  \n",
    "Objective: Predict the `Loan Status` of each application in the test set.\n",
    "\n",
    "\n",
    "### 📊 2. Exploratory Data Analysis (EDA)\n",
    "## 📊 Exploratory Data Analysis (EDA)\n",
    "\n",
    "We analyzed numerical and categorical columns to assess variance, cardinality, and dominant categories. Based on the insights, we dropped uninformative columns such as:\n",
    "- `Application Type`: Dominant category ratio > 99%\n",
    "- `Loan Title`: High cardinality with sparse distribution\n",
    "\n",
    "We also visualized missing values and distributions.\n",
    "\n",
    "### 🧼 3. Preprocessing & Feature Engineering\n",
    "## 🧼 Preprocessing & Feature Engineering\n",
    "\n",
    "- Mapped ordinal columns (like `Grade`) manually.\n",
    "- Applied:\n",
    "  - One-Hot Encoding to: `Initial List Status`, `Employment Duration`, `Verification Status`\n",
    "  - Label Encoding to: `Sub Grade`, `Batch Enrolled`\n",
    "  - Frequency Encoding to: `Loan Title`\n",
    "- Combined `train` and `test` datasets for uniform encoding, then split them back.\n",
    "\n",
    "### ⚖️ 4. Resampling Strategy\n",
    "## ⚖️ Resampling Strategy\n",
    "\n",
    "To handle class imbalance in `Loan Status`, we used:\n",
    "- **SMOTE** (oversampling) — better recall and balanced results\n",
    "- **NearMiss** (undersampling) — less effective on our data\n",
    "\n",
    "Final model selection was based on resampling performance.\n",
    "\n",
    "### 🤖 5. Model Training & Evaluation\n",
    "## 🤖 Model Training & Evaluation\n",
    "\n",
    "We evaluated multiple models before and after resampling:\n",
    "\n",
    "| Model            | Resampling | F1 Score | ROC AUC | Accuracy |\n",
    "|------------------|------------|----------|---------|----------|\n",
    "| LogisticRegression | SMOTE    | 0.516    | 0.584   | 0.556    |\n",
    "| DecisionTree       | SMOTE    | 0.278    | 0.502   | 0.520    |\n",
    "| RandomForest       | SMOTE    | 0.051    | 0.517   | 0.533    |\n",
    "| SVC                | **SMOTE** | **0.555** | **0.682** | **0.617** |\n",
    "| XGBoost            | NearMiss | 0.475    | 0.280   | 0.366    |\n",
    "\n",
    "✅ Best Model: **SVC + SMOTE**\n",
    "\n",
    "### 🎯 6. Error Analysis\n",
    "## 🎯 Error Analysis\n",
    "\n",
    "- False Negatives were significant in the original model.\n",
    "- Adjusting the classification threshold improved recall and F1-score.\n",
    "- Chose threshold = `0.075` for balanced performance.\n",
    "\n",
    "Normalized Confusion Matrix:\n",
    "| TN Rate | FP Rate | FN Rate | TP Rate |\n",
    "|---------|---------|---------|---------|\n",
    "| 0.370   | 0.630   | 0.304   | 0.696   |\n",
    "\n",
    "\n",
    "### 📝 7. Final Model & Submission\n",
    "## 📝 Final Model & Submission\n",
    "\n",
    "- Final Model: SVC trained with SMOTE\n",
    "- Final Threshold: `0.075`\n",
    "- Submission File: `final_submission_svc_smote.csv`\n",
    "\n",
    "\n",
    "### 🚀 8. Future Improvements\n",
    "## 🚀 Future Improvements\n",
    "\n",
    "- Try feature selection techniques like Recursive Feature Elimination (RFE)\n",
    "- Ensemble of top 3 models\n",
    "- Deep learning architectures\n",
    "- Bayesian optimization for hyperparameter tuning\n",
    "\n",
    "\n",
    "### ✅ 9. Interview Prep Insights\n",
    "## ✅ Interview Prep Insights\n",
    "\n",
    "- Explained EDA, preprocessing, encoding logic, model selection criteria\n",
    "- Covered metrics deeply: Accuracy, Precision, Recall, F1, ROC AUC\n",
    "- Understood threshold tuning, error analysis, and pipeline structuring\n",
    "\n"
   ]
  },
  {
   "cell_type": "markdown",
   "metadata": {},
   "source": [
    "# ⚙️ Step 3: Save & Load the Final Model"
   ]
  },
  {
   "cell_type": "code",
   "execution_count": 310,
   "metadata": {},
   "outputs": [],
   "source": [
    "import joblib\n",
    "\n",
    "# Save the final best model (SVC + SMOTE pipeline)\n",
    "joblib.dump(svc, \"svc_smote_model.pkl\")\n",
    "\n",
    "# If you used a scaler like StandardScaler or MinMaxScaler, also save it\n",
    "# joblib.dump(scaler, \"scaler.pkl\")  # optional\n",
    "print(\"✅ Model saved as 'svc_smote_model.pkl'\")\n"
   ]
  },
  {
   "cell_type": "code",
   "execution_count": 312,
   "metadata": {},
   "outputs": [],
   "source": [
    "# 📦 3.2 Load the Model Later for Inference\n",
    "# Load the model later\n",
    "loaded_model = joblib.load(\"svc_smote_model.pkl\")\n",
    "\n",
    "# Predict using loaded model\n",
    "y_pred_loaded = loaded_model.predict(X_kaggle_test)\n"
   ]
  },
  {
   "cell_type": "markdown",
   "metadata": {},
   "source": [
    "### 📁 3.3 Save Preprocessed Test Data (Optional)\n",
    "#### For reproducibility."
   ]
  },
  {
   "cell_type": "code",
   "execution_count": 313,
   "metadata": {},
   "outputs": [],
   "source": [
    "df_test_encoded.to_csv(\"encoded_test_data.csv\", index=False)"
   ]
  },
  {
   "cell_type": "markdown",
   "metadata": {},
   "source": [
    "### 🧪 3.4 Verify Predictions Consistency"
   ]
  },
  {
   "cell_type": "code",
   "execution_count": 315,
   "metadata": {},
   "outputs": [],
   "source": [
    "assert (y_pred_loaded == svc.predict(X_kaggle_test)).all()\n",
    "print(\"✅ Loaded model works identically to original!\")"
   ]
  },
  {
   "cell_type": "markdown",
   "metadata": {},
   "source": [
    "## 🎯 Why Save and Load the Model?\n",
    "\n",
    "When working on real-world machine learning projects, it’s essential to **preserve your trained model** so that it can be reused or deployed without retraining every time. This process is known as **model serialization**.\n",
    "\n",
    "### ✅ Benefits of Saving Your Model\n",
    "- **Reusability**: You don’t need to retrain the model each time you want to use it, saving time and compute.\n",
    "- **Deployment**: You can deploy the model in a web service (e.g., Flask, FastAPI, or Streamlit) or embed it into an app or pipeline.\n",
    "- **Reproducibility**: Saving both the model and any pre-processing steps ensures consistent results in future predictions.\n",
    "- **Portability**: You can easily share your model with others or move it between environments (local, cloud, server).\n",
    "\n",
    "---\n",
    "\n",
    "### 📦 What to Save?\n",
    "- **Trained Model**: e.g., `RandomForestClassifier`, `SVC`, etc.\n",
    "- **Preprocessing Steps**: Encoders, scalers (like `StandardScaler`, `MinMaxScaler`, `LabelEncoder`), and feature transformers.\n",
    "- **Pipelines**: Combining multiple steps (e.g., SMOTE + SVC) into a single object that encapsulates the full ML process.\n",
    "\n",
    "---\n",
    "\n",
    "### 🧪 What You Gain\n",
    "- 🕒 Save hours of training time  \n",
    "- 🚀 Easy integration into APIs or UI apps  \n",
    "- 🔄 Simplified version control and model updates  \n",
    "- 🧾 Helps you create reproducible notebooks and submissions\n",
    "\n",
    "---\n",
    "\n",
    "### 🛠 Tools Commonly Used\n",
    "| Library   | Description                                |\n",
    "|-----------|--------------------------------------------|\n",
    "| `joblib`  | Fast and efficient way to serialize models |\n",
    "| `pickle`  | Python's built-in serializer (less efficient for large NumPy arrays) |\n",
    "| `ONNX`    | Open Neural Network Exchange (for inter-framework compatibility) |"
   ]
  },
  {
   "cell_type": "code",
   "execution_count": 316,
   "metadata": {},
   "outputs": [],
   "source": [
    "# Extract the feauture names.\n",
    "feature_names = df_train_encoded.drop(columns=[\"Loan Status\"]).columns.tolist()\n",
    "print(feature_names)"
   ]
  },
  {
   "cell_type": "markdown",
   "metadata": {},
   "source": [
    "# Dash App creation"
   ]
  },
  {
   "cell_type": "markdown",
   "metadata": {},
   "source": [
    "## 💡 Feature: Guided User Input with Validation Hints\n",
    "\n",
    "To improve user experience and reduce input errors in the loan default prediction app, we implemented the following enhancements:\n",
    "\n",
    "### 1. Data Type Detection\n",
    "- For each input feature, we determine its **expected data type** from the training dataset.\n",
    "- This allows us to set suitable **placeholder values** and define meaningful **tooltip hints**.\n",
    "\n",
    "### 2. Placeholder Hints\n",
    "- Each input field displays `\"Enter Value (e.g., 15000)\"` as a placeholder.\n",
    "- The example is dynamically generated based on the actual data type or common value range.\n",
    "\n",
    "### 3. Mouse Hover Tooltip\n",
    "- When a user hovers over a field, a tooltip appears showing a **detailed description or example** for the input.\n",
    "- This helps prevent format errors (e.g., entering strings where integers are expected).\n",
    "\n",
    "### 4. Optional Future Enhancements\n",
    "- Input validation that restricts typing to allowed formats.\n",
    "- Auto-suggestion or drop-downs for categorical fields.\n",
    "\n",
    "This combination ensures a cleaner UI and smarter form input handling for model deployment."
   ]
  },
  {
   "cell_type": "markdown",
   "metadata": {},
   "source": [
    "# 🎛️ Input UI Design for Dash App\n",
    "\n",
    "## 🎯 Objective\n",
    "\n",
    "To enhance user experience and ensure data integrity, we aim to create a user-friendly input form where each input field:\n",
    "- Accepts only valid values based on the feature's data type.\n",
    "- Provides a default prompt like \"Enter Value\".\n",
    "- Shows an example tooltip on hover for guidance.\n",
    "\n",
    "## 🧠 How It Works\n",
    "\n",
    "1. **7x5 Grid Layout**:\n",
    "   - Inputs are arranged in a grid layout of 7 rows and 5 columns.\n",
    "   - This ensures compactness and better use of screen space.\n",
    "\n",
    "2. **Dynamic Tooltips**:\n",
    "   - Each input field has a tooltip that displays an example value extracted from the training dataset.\n",
    "   - Hovering over the input field will show guidance like:  \n",
    "     _\"Example: 12000\"_ or _\"Example: Verified\"_.\n",
    "\n",
    "3. **Input Type Enforcement**:\n",
    "   - Numerical fields use `type='number'` to prevent invalid entries.\n",
    "   - Categorical fields use dropdowns or text with validation logic in the backend.\n",
    "\n",
    "## ✅ Benefits\n",
    "\n",
    "- Prevents user input errors at the UI level.\n",
    "- Reduces backend validation complexity.\n",
    "- Ensures better form completion rate and usability.\n",
    "\n",
    "## 🔍 Example Input Field (in Dash)\n",
    "```python\n",
    "dcc.Input(\n",
    "    id='loan_amount',\n",
    "    type='number',\n",
    "    placeholder='Enter Loan Amount',\n",
    "    debounce=True,\n",
    "    title='Example: 12000'\n",
    ")\n"
   ]
  },
  {
   "cell_type": "markdown",
   "metadata": {},
   "source": [
    "# 🧠 Why the Dash App Fails Without Preprocessing?\n",
    "\n",
    "When we train a machine learning model using **scikit-learn**, we typically convert all categorical (text-based) features into **numerical representations** — because models like `SVC`, `RandomForest`, or `XGBoost` **cannot operate on raw string data**.\n",
    "\n",
    "This process is called **feature engineering**, which often includes:\n",
    "\n",
    "- **One-hot encoding** (e.g., `Home Ownership = RENT` → column `Home Ownership_RENT = 1`)\n",
    "- **Label encoding**\n",
    "- **Scaling** (e.g., MinMaxScaler or StandardScaler)\n",
    "- **Handling missing values**\n",
    "- **Date feature extraction** (e.g., month, year)\n",
    "\n",
    "During training, this transformation was applied **before the model saw the data**, and the model only learned from the transformed features — which are **all numeric**.\n",
    "\n",
    "---\n",
    "\n",
    "### ⚠️ Problem in the Current Dash App\n",
    "\n",
    "Right now, the app takes user input as raw values like:\n",
    "```python\n",
    "\"Term\" = \"Short Term\"  # string\n",
    "\"Home Ownership\" = \"RENT\"  # string\n",
    "```\n",
    "\n",
    "But then it sends these **raw strings** to the trained model:\n",
    "```python\n",
    "model.predict(input_data)\n",
    "```\n",
    "\n",
    "The model expects preprocessed numeric input like:\n",
    "```python\n",
    "\"Term_Short Term\" = 1\n",
    "\"Home Ownership_RENT\" = 1\n",
    "\"Home Ownership_OWN\" = 0\n",
    "```\n",
    "\n",
    "Hence, you're getting errors like:\n",
    "```plaintext\n",
    "could not convert string to float: 'Short Term'\n",
    "```\n",
    "\n",
    "---\n",
    "\n",
    "### ✅ Correct Approach for Deployment\n",
    "\n",
    "1. **Recreate your exact preprocessing pipeline** used during training.\n",
    "2. **Save this pipeline** as a `Pipeline` object that combines both preprocessing and the model.\n",
    "3. In the Dash app:\n",
    "   - Accept raw user input\n",
    "   - Pass it through the same pipeline\n",
    "   - Then send it to `.predict()` or `.predict_proba()`\n",
    "\n",
    "This ensures your input format **matches** the model’s training data structure.\n",
    "\n",
    "---\n",
    "\n",
    "### 🛠️ What Should You Do Next?\n",
    "\n",
    "You need to **retrain or refit** your model inside a `Pipeline`, like this:\n",
    "\n",
    "```python\n",
    "from sklearn.pipeline import Pipeline\n",
    "from sklearn.preprocessing import OneHotEncoder\n",
    "from sklearn.compose import ColumnTransformer\n",
    "from sklearn.svm import SVC\n",
    "\n",
    "# Step 1: Define preprocessing\n",
    "categorical_cols = [\"Term\", \"Home Ownership\", ...]\n",
    "numerical_cols = [\"Loan Amount\", \"Interest Rate\", ...]\n",
    "\n",
    "preprocessor = ColumnTransformer([\n",
    "    (\"cat\", OneHotEncoder(handle_unknown=\"ignore\"), categorical_cols),\n",
    "    (\"num\", \"passthrough\", numerical_cols)\n",
    "])\n",
    "\n",
    "# Step 2: Combine preprocessing + model\n",
    "pipeline = Pipeline([\n",
    "    (\"preprocessor\", preprocessor),\n",
    "    (\"classifier\", SVC(probability=True))\n",
    "])\n",
    "\n",
    "# Step 3: Fit pipeline\n",
    "pipeline.fit(X_raw, y)  # X_raw = original unprocessed DataFrame\n",
    "\n",
    "# Step 4: Save pipeline\n",
    "import joblib\n",
    "joblib.dump(pipeline, \"svc_pipeline_model.pkl\")\n",
    "```\n",
    "\n",
    "Then in your Dash app, simply load and use:\n",
    "\n",
    "```python\n",
    "model = joblib.load(\"svc_pipeline_model.pkl\")\n",
    "model.predict(user_input_df)\n",
    "```\n",
    "\n",
    "---\n",
    "\n",
    "This guarantees your deployed app is using the **same pipeline logic** as used during training, making it robust and production-ready."
   ]
  },
  {
   "cell_type": "markdown",
   "metadata": {},
   "source": [
    "## 🔁 Why Retrain Inside a Pipeline?\n",
    "When you trained your model earlier, you:\n",
    "\n",
    "    - Cleaned and encoded your DataFrame using pandas (like one-hot encoding)\n",
    "    - Dropped or transformed columns manually\n",
    "    - Fed the final numerical DataFrame into the model\n",
    "    - That was great for offline evaluation, but now in your Dash app:\n",
    "\n",
    "The user is entering raw values (like \"RENT\" or \"Short Term\")\n",
    "The model expects preprocessed numbers\n",
    "So you need to bundle the preprocessing + model together into a Pipeline so it handles everything seamlessly during prediction\n",
    "\n",
    "## 🧠 Next Step\n",
    "Now that you're ready, let’s:\n",
    "\n",
    "    - Rebuild your preprocessing logic using ```ColumnTransformer```\n",
    "    - Combine it with ```SVC(probability=True)``` inside a ```Pipeline```\n",
    "    - Fit the pipeline on raw training data (train.csv)\n",
    "    - Save the pipeline as ```svc_pipeline_model.pkl```\n",
    "\n",
    "## Use it in Dash 🎯"
   ]
  },
  {
   "cell_type": "code",
   "execution_count": 317,
   "metadata": {},
   "outputs": [],
   "source": [
    "from sklearn.base import BaseEstimator, TransformerMixin\n",
    "from sklearn.preprocessing import LabelEncoder\n",
    "import pandas as pd\n",
    "\n",
    "class BankLoanPreprocessor(BaseEstimator, TransformerMixin):\n",
    "    def __init__(self):\n",
    "        self.grade_order = {\"A\": 1, \"B\": 2, \"C\": 3, \"D\": 4, \"E\": 5, \"F\": 6, \"G\": 7}\n",
    "        self.label_cols = [\"Sub Grade\", \"Batch Enrolled\"]\n",
    "        self.label_encoders = {}\n",
    "        self.freq_map = None\n",
    "        self.one_hot_cols = [\"Initial List Status\", \"Employment Duration\", \"Verification Status\"]\n",
    "        self.one_hot_columns_fitted = None  # to align test data with train\n",
    "\n",
    "    def fit(self, X, y=None):\n",
    "        # Fit Label Encoders\n",
    "        for col in self.label_cols:\n",
    "            le = LabelEncoder()\n",
    "            le.fit(X[col].astype(str))\n",
    "            self.label_encoders[col] = le\n",
    "\n",
    "        # Fit Frequency Encoding\n",
    "        self.freq_map = X[\"Loan Title\"].value_counts().to_dict()\n",
    "\n",
    "        # Fit One-Hot Columns\n",
    "        dummies = pd.get_dummies(X[self.one_hot_cols], drop_first=True)\n",
    "        self.one_hot_columns_fitted = dummies.columns.tolist()\n",
    "\n",
    "        return self\n",
    "\n",
    "    def transform(self, X):\n",
    "        X = X.copy()\n",
    "\n",
    "        # Grade Ordinal Mapping\n",
    "        X[\"Grade\"] = X[\"Grade\"].map(self.grade_order)\n",
    "\n",
    "        # Label Encoding\n",
    "        for col in self.label_cols:\n",
    "            X[col] = self.label_encoders[col].transform(X[col].astype(str))\n",
    "\n",
    "        # Frequency Encoding\n",
    "        X[\"Loan Title\"] = X[\"Loan Title\"].map(self.freq_map).fillna(0)\n",
    "\n",
    "        # One-Hot Encoding (align columns)\n",
    "        dummies = pd.get_dummies(X[self.one_hot_cols], drop_first=True)\n",
    "        for col in self.one_hot_columns_fitted:\n",
    "            if col not in dummies:\n",
    "                dummies[col] = 0\n",
    "        dummies = dummies[self.one_hot_columns_fitted]\n",
    "        X = X.drop(columns=self.one_hot_cols)\n",
    "        X = pd.concat([X, dummies], axis=1)\n",
    "\n",
    "        return X"
   ]
  },
  {
   "cell_type": "code",
   "execution_count": 324,
   "metadata": {},
   "outputs": [],
   "source": [
    "# --- 1. Imports ---\n",
    "from sklearn.ensemble import RandomForestClassifier\n",
    "from imblearn.pipeline import Pipeline as ImbPipeline\n",
    "from imblearn.over_sampling import SMOTE\n",
    "from sklearn.model_selection import train_test_split\n",
    "from sklearn.metrics import classification_report, confusion_matrix\n",
    "import joblib\n",
    "\n",
    "# Custom transformer from previous step\n",
    "#from bank_preprocessor import BankLoanPreprocessor  # or copy-paste the class if in same notebook\n",
    "\n",
    "# --- 2. Prepare Data ---\n",
    "# 1. Split back into raw training and test data\n",
    "df_train_raw = df_combined.loc[\"train\"].copy()\n",
    "df_test_raw = df_combined.loc[\"test\"].copy()\n",
    "\n",
    "# 2. Define features and target\n",
    "X_raw = df_train_raw.drop(columns=[\"Loan Status\"])\n",
    "y_raw = df_train_raw[\"Loan Status\"]\n",
    "\n",
    "X_kaggle_test = df_test_raw.drop(columns=[\"Loan Status\"])\n",
    "y_kaggle_test = df_test_raw[\"Loan Status\"]\n",
    "\n",
    "\n",
    "# Split for evaluation purposes\n",
    "#X_train_raw, X_val_raw, y_train, y_val = train_test_split(X, y, test_size=0.2, random_state=42, stratify=y_raw)\n",
    "\n",
    "# --- 3. Define Pipeline ---\n",
    "pipeline = ImbPipeline([\n",
    "    (\"preprocessor\", BankLoanPreprocessor()),\n",
    "    (\"smote\", SMOTE(random_state=42)),\n",
    "    (\"classifier\", RandomForestClassifier(random_state=42))\n",
    "])\n",
    "\n",
    "# --- 4. Fit the Pipeline ---\n",
    "pipeline.fit(X_raw, y_raw)\n",
    "\n",
    "# --- 5. Evaluate ---\n",
    "y_pred = pipeline.predict(X_kaggle_test)\n",
    "print(\"📊 Classification Report:\\n\", classification_report(y_kaggle_test, y_pred))\n",
    "print(\"🧱 Confusion Matrix:\\n\", confusion_matrix(y_kaggle_test, y_pred))\n",
    "\n",
    "# --- 6. Save the model ---\n",
    "joblib.dump(pipeline, \"rf_pipeline_model.pkl\")\n",
    "print(\"✅ Model saved as 'rf_pipeline_model.pkl'\")\n"
   ]
  },
  {
   "cell_type": "code",
   "execution_count": 321,
   "metadata": {},
   "outputs": [],
   "source": [
    "# Predict on Kaggle test set (raw)\n",
    "y_pred_kaggle = pipeline.predict(df_test)\n",
    "print(classification_report(df_target[\"Loan Status\"], y_pred_kaggle))"
   ]
  },
  {
   "cell_type": "markdown",
   "metadata": {},
   "source": [
    "# 🧠 Why the Dash App Fails Without Preprocessing?\n",
    "\n",
    "When we train a machine learning model using **scikit-learn**, we typically convert all categorical (text-based) features into **numerical representations** — because models like `SVC`, `RandomForest`, or `XGBoost` **cannot operate on raw string data**.\n",
    "\n",
    "This process is called **feature engineering**, which often includes:\n",
    "\n",
    "- **One-hot encoding** (e.g., `Home Ownership = RENT` → column `Home Ownership_RENT = 1`)\n",
    "- **Label encoding**\n",
    "- **Scaling** (e.g., MinMaxScaler or StandardScaler)\n",
    "- **Handling missing values**\n",
    "- **Date feature extraction** (e.g., month, year)\n",
    "\n",
    "During training, this transformation was applied **after merging** `df_train` and `df_test` into `df_combined`. This ensured **consistent encoding across all values**, even if a value appeared only in the test set (e.g., `'n'` or `'BAT2522922'` in `Batch Enrolled`).\n",
    "\n",
    "---\n",
    "\n",
    "### ⚠️ Problem in the Current Pipeline\n",
    "\n",
    "Now, when trying to train or deploy a new model with only `df_train` or `df_test` separately, these inconsistencies **resurface** because unseen labels are not accounted for:\n",
    "\n",
    "```plaintext\n",
    "ValueError: could not convert string to float: 'n'\n",
    "```\n",
    "\n",
    "---\n",
    "\n",
    "### ✅ Solution: Reuse Consistent Transformation\n",
    "\n",
    "To ensure consistent encoding, we need to:\n",
    "\n",
    "1. Combine the original cleaned `df_train` and `df_test` again into `df_combined`:\n",
    "```python\n",
    "combined = pd.concat([df_train, df_test], axis=0, keys=[\"train\", \"test\"])\n",
    "```\n",
    "\n",
    "2. Apply encoding to the entire `df_combined`:\n",
    "```python\n",
    "# Grade ordinal encoding\n",
    "combined['Grade'] = combined['Grade'].map(grade_order)\n",
    "\n",
    "# Label encoding\n",
    "for col in label_cols:\n",
    "    le = LabelEncoder()\n",
    "    combined[col] = le.fit_transform(combined[col].astype(str))\n",
    "\n",
    "# Frequency encoding for Loan Title\n",
    "combined['Loan Title'] = combined['Loan Title'].map(freq_map).fillna(0)\n",
    "\n",
    "# One-hot encoding\n",
    "combined = pd.get_dummies(combined, columns=one_hot_cols, drop_first=True)\n",
    "```\n",
    "\n",
    "3. Split them back:\n",
    "```python\n",
    "X_train_final = combined.loc['train'].drop(columns=['Loan Status'])\n",
    "y_train_final = combined.loc['train']['Loan Status']\n",
    "X_test_final = combined.loc['test'].drop(columns=['Loan Status'])\n",
    "y_test_final = combined.loc['test']['Loan Status']\n",
    "```\n",
    "\n",
    "4. Use these for fitting your final pipeline.\n",
    "\n",
    "---\n",
    "\n",
    "### 🧱 Outcome\n",
    "\n",
    "By encoding consistently across both training and test datasets upfront, you avoid mismatches and ensure your model generalizes well at inference time — especially when deployed or reused in apps.\n",
    "\n",
    "Let me know to implement this in code.\n"
   ]
  },
  {
   "cell_type": "code",
   "execution_count": 325,
   "metadata": {},
   "outputs": [],
   "source": [
    "from imblearn.pipeline import Pipeline as ImbPipeline\n",
    "from imblearn.over_sampling import SMOTE\n",
    "from sklearn.ensemble import RandomForestClassifier\n",
    "from sklearn.metrics import classification_report, confusion_matrix\n",
    "from sklearn.preprocessing import LabelEncoder\n",
    "\n",
    "# Combine cleaned train and test sets\n",
    "combined = pd.concat([df_train, df_test], axis=0, keys=[\"train\", \"test\"])\n",
    "\n",
    "# Grade ordinal encoding\n",
    "grade_order = {\"A\": 1, \"B\": 2, \"C\": 3, \"D\": 4, \"E\": 5, \"F\": 6, \"G\": 7}\n",
    "combined['Grade'] = combined['Grade'].map(grade_order)\n",
    "\n",
    "# Label encoding\n",
    "label_cols = [\"Sub Grade\", \"Batch Enrolled\"]\n",
    "for col in label_cols:\n",
    "    le = LabelEncoder()\n",
    "    combined[col] = le.fit_transform(combined[col].astype(str))\n",
    "\n",
    "# Frequency encoding for Loan Title\n",
    "freq_map = combined[\"Loan Title\"].value_counts().to_dict()\n",
    "combined[\"Loan Title\"] = combined[\"Loan Title\"].map(freq_map).fillna(0)\n",
    "\n",
    "# One-hot encoding\n",
    "one_hot_cols = [\"Initial List Status\", \"Employment Duration\", \"Verification Status\"]\n",
    "combined = pd.get_dummies(combined, columns=one_hot_cols, drop_first=True)\n",
    "\n",
    "# Final train-test split\n",
    "X_train_final = combined.loc['train'].drop(columns=['Loan Status'])\n",
    "y_train_final = combined.loc['train']['Loan Status']\n",
    "X_test_final = combined.loc['test'].drop(columns=['Loan Status'])\n",
    "y_test_final = combined.loc['test']['Loan Status']\n",
    "\n",
    "# Define pipeline\n",
    "pipeline = ImbPipeline([\n",
    "    (\"smote\", SMOTE(random_state=42)),\n",
    "    (\"classifier\", RandomForestClassifier(random_state=42))\n",
    "])\n",
    "\n",
    "# Train pipeline\n",
    "pipeline.fit(X_train_final, y_train_final)\n",
    "\n",
    "# Evaluate\n",
    "y_pred = pipeline.predict(X_test_final)\n",
    "print(\"📊 Classification Report:\\n\", classification_report(y_test_final, y_pred))\n",
    "print(\"🧱 Confusion Matrix:\\n\", confusion_matrix(y_test_final, y_pred))\n",
    "\n",
    "# Save model\n",
    "import joblib\n",
    "joblib.dump(pipeline, \"final_rf_model.pkl\")\n",
    "print(\"✅ Model saved as 'final_rf_model.pkl'\")"
   ]
  },
  {
   "cell_type": "code",
   "execution_count": 327,
   "metadata": {},
   "outputs": [],
   "source": [
    "from imblearn.pipeline import Pipeline as ImbPipeline\n",
    "from imblearn.over_sampling import SMOTE\n",
    "from sklearn.ensemble import RandomForestClassifier\n",
    "from sklearn.metrics import classification_report, confusion_matrix\n",
    "from sklearn.preprocessing import LabelEncoder\n",
    "import joblib\n",
    "\n",
    "# Combine cleaned train and test sets\n",
    "combined = pd.concat([df_train, df_test], axis=0, keys=[\"train\", \"test\"])\n",
    "\n",
    "# Grade ordinal encoding\n",
    "grade_order = {\"A\": 1, \"B\": 2, \"C\": 3, \"D\": 4, \"E\": 5, \"F\": 6, \"G\": 7}\n",
    "combined['Grade'] = combined['Grade'].map(grade_order)\n",
    "\n",
    "# Label encoding\n",
    "label_cols = [\"Sub Grade\", \"Batch Enrolled\"]\n",
    "for col in label_cols:\n",
    "    le = LabelEncoder()\n",
    "    combined[col] = le.fit_transform(combined[col].astype(str))\n",
    "\n",
    "# Frequency encoding for Loan Title\n",
    "freq_map = combined[\"Loan Title\"].value_counts().to_dict()\n",
    "combined[\"Loan Title\"] = combined[\"Loan Title\"].map(freq_map).fillna(0)\n",
    "\n",
    "# One-hot encoding\n",
    "one_hot_cols = [\"Initial List Status\", \"Employment Duration\", \"Verification Status\"]\n",
    "combined = pd.get_dummies(combined, columns=one_hot_cols, drop_first=True)\n",
    "\n",
    "# Final train-test split\n",
    "X_train_final = combined.loc['train'].drop(columns=['Loan Status'])\n",
    "y_train_final = combined.loc['train']['Loan Status']\n",
    "X_test_final = combined.loc['test'].drop(columns=['Loan Status'], errors='ignore')\n",
    "\n",
    "# Define pipeline\n",
    "pipeline = ImbPipeline([\n",
    "    (\"smote\", SMOTE(random_state=42)),\n",
    "    (\"classifier\", RandomForestClassifier(random_state=42))\n",
    "])\n",
    "\n",
    "# Train pipeline\n",
    "pipeline.fit(X_train_final, y_train_final)\n",
    "\n",
    "# Save model\n",
    "joblib.dump(pipeline, \"final_rf_model.pkl\")\n",
    "print(\"✅ Model saved as 'final_rf_model.pkl'\")\n",
    "\n",
    "# Create final submission\n",
    "preds = pipeline.predict(X_test_final)\n",
    "submission = pd.DataFrame({\n",
    "    \"ID\": original_test[\"ID\"],\n",
    "    \"Loan Status\": preds\n",
    "})\n",
    "submission.to_csv(\"final_submission.csv\", index=False)\n",
    "print(\"📁 'final_submission.csv' created successfully!\")"
   ]
  }
 ],
 "metadata": {
  "kernelspec": {
   "display_name": "DS",
   "language": "python",
   "name": "python3"
  },
  "language_info": {
   "codemirror_mode": {
    "name": "ipython",
    "version": 3
   },
   "file_extension": ".py",
   "mimetype": "text/x-python",
   "name": "python",
   "nbconvert_exporter": "python",
   "pygments_lexer": "ipython3",
   "version": "3.11.8"
  }
 },
 "nbformat": 4,
 "nbformat_minor": 2
}
