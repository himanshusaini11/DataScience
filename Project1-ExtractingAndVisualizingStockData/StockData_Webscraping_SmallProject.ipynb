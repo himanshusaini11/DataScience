{
 "cells": [
  {
   "cell_type": "markdown",
   "metadata": {},
   "source": [
    "<h1>Extracting and Visualizing Stock Data</h1>\n",
    "<h2>Description</h2>\n"
   ]
  },
  {
   "cell_type": "markdown",
   "metadata": {},
   "source": [
    "Extracting essential data from a dataset and displaying it is a necessary part of data science; therefore individuals can make correct decisions based on the data. In this assignment, you will extract some stock data, you will then display this data in a graph.\n"
   ]
  },
  {
   "cell_type": "code",
   "execution_count": 1,
   "metadata": {},
   "outputs": [],
   "source": [
    "#!pip install yfinance==0.2.38\n",
    "#!pip install pandas==2.2.2\n",
    "#!pip install nbformat"
   ]
  },
  {
   "cell_type": "code",
   "execution_count": 2,
   "metadata": {},
   "outputs": [
    {
     "name": "stdout",
     "output_type": "stream",
     "text": [
      "Requirement already satisfied: yfinance in /Users/enigma/anaconda3/envs/DS/lib/python3.11/site-packages (0.2.52)\n",
      "Requirement already satisfied: pandas>=1.3.0 in /Users/enigma/anaconda3/envs/DS/lib/python3.11/site-packages (from yfinance) (2.2.3)\n",
      "Requirement already satisfied: numpy>=1.16.5 in /Users/enigma/anaconda3/envs/DS/lib/python3.11/site-packages (from yfinance) (1.26.4)\n",
      "Requirement already satisfied: requests>=2.31 in /Users/enigma/anaconda3/envs/DS/lib/python3.11/site-packages (from yfinance) (2.32.4)\n",
      "Requirement already satisfied: multitasking>=0.0.7 in /Users/enigma/anaconda3/envs/DS/lib/python3.11/site-packages (from yfinance) (0.0.9)\n",
      "Requirement already satisfied: lxml>=4.9.1 in /Users/enigma/anaconda3/envs/DS/lib/python3.11/site-packages (from yfinance) (5.3.0)\n",
      "Requirement already satisfied: platformdirs>=2.0.0 in /Users/enigma/anaconda3/envs/DS/lib/python3.11/site-packages (from yfinance) (4.3.7)\n",
      "Requirement already satisfied: pytz>=2022.5 in /Users/enigma/anaconda3/envs/DS/lib/python3.11/site-packages (from yfinance) (2025.2)\n",
      "Requirement already satisfied: frozendict>=2.3.4 in /Users/enigma/anaconda3/envs/DS/lib/python3.11/site-packages (from yfinance) (2.4.2)\n",
      "Requirement already satisfied: peewee>=3.16.2 in /Users/enigma/anaconda3/envs/DS/lib/python3.11/site-packages (from yfinance) (3.17.6)\n",
      "Requirement already satisfied: beautifulsoup4>=4.11.1 in /Users/enigma/anaconda3/envs/DS/lib/python3.11/site-packages (from yfinance) (4.13.4)\n",
      "Requirement already satisfied: html5lib>=1.1 in /Users/enigma/anaconda3/envs/DS/lib/python3.11/site-packages (from yfinance) (1.1)\n",
      "Requirement already satisfied: soupsieve>1.2 in /Users/enigma/anaconda3/envs/DS/lib/python3.11/site-packages (from beautifulsoup4>=4.11.1->yfinance) (2.5)\n",
      "Requirement already satisfied: typing-extensions>=4.0.0 in /Users/enigma/anaconda3/envs/DS/lib/python3.11/site-packages (from beautifulsoup4>=4.11.1->yfinance) (4.12.2)\n",
      "Requirement already satisfied: six>=1.9 in /Users/enigma/anaconda3/envs/DS/lib/python3.11/site-packages (from html5lib>=1.1->yfinance) (1.17.0)\n",
      "Requirement already satisfied: webencodings in /Users/enigma/anaconda3/envs/DS/lib/python3.11/site-packages (from html5lib>=1.1->yfinance) (0.5.1)\n",
      "Requirement already satisfied: python-dateutil>=2.8.2 in /Users/enigma/anaconda3/envs/DS/lib/python3.11/site-packages (from pandas>=1.3.0->yfinance) (2.9.0.post0)\n",
      "Requirement already satisfied: tzdata>=2022.7 in /Users/enigma/anaconda3/envs/DS/lib/python3.11/site-packages (from pandas>=1.3.0->yfinance) (2025.2)\n",
      "Requirement already satisfied: charset_normalizer<4,>=2 in /Users/enigma/anaconda3/envs/DS/lib/python3.11/site-packages (from requests>=2.31->yfinance) (3.3.2)\n",
      "Requirement already satisfied: idna<4,>=2.5 in /Users/enigma/anaconda3/envs/DS/lib/python3.11/site-packages (from requests>=2.31->yfinance) (3.7)\n",
      "Requirement already satisfied: urllib3<3,>=1.21.1 in /Users/enigma/anaconda3/envs/DS/lib/python3.11/site-packages (from requests>=2.31->yfinance) (2.5.0)\n",
      "Requirement already satisfied: certifi>=2017.4.17 in /Users/enigma/anaconda3/envs/DS/lib/python3.11/site-packages (from requests>=2.31->yfinance) (2025.7.14)\n",
      "Collecting bs4\n",
      "  Downloading bs4-0.0.2-py2.py3-none-any.whl.metadata (411 bytes)\n",
      "Requirement already satisfied: beautifulsoup4 in /Users/enigma/anaconda3/envs/DS/lib/python3.11/site-packages (from bs4) (4.13.4)\n",
      "Requirement already satisfied: soupsieve>1.2 in /Users/enigma/anaconda3/envs/DS/lib/python3.11/site-packages (from beautifulsoup4->bs4) (2.5)\n",
      "Requirement already satisfied: typing-extensions>=4.0.0 in /Users/enigma/anaconda3/envs/DS/lib/python3.11/site-packages (from beautifulsoup4->bs4) (4.12.2)\n",
      "Downloading bs4-0.0.2-py2.py3-none-any.whl (1.2 kB)\n",
      "Installing collected packages: bs4\n",
      "Successfully installed bs4-0.0.2\n",
      "Requirement already satisfied: nbformat in /Users/enigma/anaconda3/envs/DS/lib/python3.11/site-packages (5.10.4)\n",
      "Requirement already satisfied: fastjsonschema>=2.15 in /Users/enigma/anaconda3/envs/DS/lib/python3.11/site-packages (from nbformat) (2.20.0)\n",
      "Requirement already satisfied: jsonschema>=2.6 in /Users/enigma/anaconda3/envs/DS/lib/python3.11/site-packages (from nbformat) (4.23.0)\n",
      "Requirement already satisfied: jupyter-core!=5.0.*,>=4.12 in /Users/enigma/anaconda3/envs/DS/lib/python3.11/site-packages (from nbformat) (5.8.1)\n",
      "Requirement already satisfied: traitlets>=5.1 in /Users/enigma/anaconda3/envs/DS/lib/python3.11/site-packages (from nbformat) (5.14.3)\n",
      "Requirement already satisfied: attrs>=22.2.0 in /Users/enigma/anaconda3/envs/DS/lib/python3.11/site-packages (from jsonschema>=2.6->nbformat) (24.3.0)\n",
      "Requirement already satisfied: jsonschema-specifications>=2023.03.6 in /Users/enigma/anaconda3/envs/DS/lib/python3.11/site-packages (from jsonschema>=2.6->nbformat) (2023.7.1)\n",
      "Requirement already satisfied: referencing>=0.28.4 in /Users/enigma/anaconda3/envs/DS/lib/python3.11/site-packages (from jsonschema>=2.6->nbformat) (0.30.2)\n",
      "Requirement already satisfied: rpds-py>=0.7.1 in /Users/enigma/anaconda3/envs/DS/lib/python3.11/site-packages (from jsonschema>=2.6->nbformat) (0.22.3)\n",
      "Requirement already satisfied: platformdirs>=2.5 in /Users/enigma/anaconda3/envs/DS/lib/python3.11/site-packages (from jupyter-core!=5.0.*,>=4.12->nbformat) (4.3.7)\n"
     ]
    }
   ],
   "source": [
    "!pip install yfinance\n",
    "!pip install bs4\n",
    "!pip install nbformat"
   ]
  },
  {
   "cell_type": "code",
   "execution_count": 3,
   "metadata": {},
   "outputs": [],
   "source": [
    "import yfinance as yf\n",
    "import pandas as pd\n",
    "import requests\n",
    "from bs4 import BeautifulSoup\n",
    "import plotly.graph_objects as go\n",
    "from plotly.subplots import make_subplots"
   ]
  },
  {
   "cell_type": "code",
   "execution_count": 4,
   "metadata": {},
   "outputs": [],
   "source": [
    "import warnings\n",
    "# Ignore all warnings\n",
    "warnings.filterwarnings(\"ignore\", category=FutureWarning)"
   ]
  },
  {
   "cell_type": "markdown",
   "metadata": {},
   "source": [
    "## Define Graphing Function\n"
   ]
  },
  {
   "cell_type": "markdown",
   "metadata": {},
   "source": [
    "In this section, we define the function `make_graph`. **It takes a dataframe with stock data (dataframe must contain Date and Close columns), a dataframe with revenue data (dataframe must contain Date and Revenue columns), and the name of the stock.**\n"
   ]
  },
  {
   "cell_type": "code",
   "execution_count": 5,
   "metadata": {},
   "outputs": [],
   "source": [
    "def make_graph(stock_data, revenue_data, stock):\n",
    "    fig = make_subplots(rows=2, cols=1, shared_xaxes=True, subplot_titles=(\"Historical Share Price\", \"Historical Revenue\"), vertical_spacing = .3)\n",
    "    stock_data_specific = stock_data[stock_data.Date <= '2021--06-14']\n",
    "    revenue_data_specific = revenue_data[revenue_data.Date <= '2021-04-30']\n",
    "    fig.add_trace(go.Scatter(x=pd.to_datetime(stock_data_specific.Date), y=stock_data_specific.Close.astype(\"float\"), name=\"Share Price\"), row=1, col=1)\n",
    "    fig.add_trace(go.Scatter(x=pd.to_datetime(revenue_data_specific.Date), y=revenue_data_specific.Revenue.astype(\"float\"), name=\"Revenue\"), row=2, col=1)\n",
    "    fig.update_xaxes(title_text=\"Date\", row=1, col=1)\n",
    "    fig.update_xaxes(title_text=\"Date\", row=2, col=1)\n",
    "    fig.update_yaxes(title_text=\"Price ($US)\", row=1, col=1)\n",
    "    fig.update_yaxes(title_text=\"Revenue ($US Millions)\", row=2, col=1)\n",
    "    fig.update_layout(showlegend=False,\n",
    "    height=900,\n",
    "    title=stock,\n",
    "    xaxis_rangeslider_visible=True)\n",
    "    fig.show()"
   ]
  },
  {
   "cell_type": "markdown",
   "metadata": {},
   "source": [
    "## 1: ```yfinance``` to Extract Stock Data"
   ]
  },
  {
   "cell_type": "markdown",
   "metadata": {},
   "source": [
    "`Ticker` function has been used to extract the data of the required stock. For example, the stock is Tesla and its ticker symbol is `TSLA`."
   ]
  },
  {
   "cell_type": "code",
   "execution_count": 6,
   "metadata": {},
   "outputs": [],
   "source": [
    "tesla = yf.Ticker(\"TSLA\")"
   ]
  },
  {
   "cell_type": "markdown",
   "metadata": {},
   "source": [
    "`ticker.history` extract stock information and save it in a dataframe named `tesla_data`. Set the `period` parameter to ` \"max\" ` so that we get information for the maximum amount of time.\n"
   ]
  },
  {
   "cell_type": "code",
   "execution_count": null,
   "metadata": {},
   "outputs": [
    {
     "ename": "YFRateLimitError",
     "evalue": "Too Many Requests. Rate limited. Try after a while.",
     "output_type": "error",
     "traceback": [
      "\u001b[0;31m---------------------------------------------------------------------------\u001b[0m",
      "\u001b[0;31mYFRateLimitError\u001b[0m                          Traceback (most recent call last)",
      "Cell \u001b[0;32mIn[13], line 2\u001b[0m\n\u001b[1;32m      1\u001b[0m \u001b[38;5;28;01mimport\u001b[39;00m\u001b[38;5;250m \u001b[39m\u001b[38;5;21;01mtime\u001b[39;00m\n\u001b[0;32m----> 2\u001b[0m tesla_data \u001b[38;5;241m=\u001b[39m tesla\u001b[38;5;241m.\u001b[39mhistory(period\u001b[38;5;241m=\u001b[39m\u001b[38;5;124m\"\u001b[39m\u001b[38;5;124mmax\u001b[39m\u001b[38;5;124m\"\u001b[39m)\n\u001b[1;32m      3\u001b[0m time\u001b[38;5;241m.\u001b[39msleep(\u001b[38;5;241m2\u001b[39m)\n",
      "File \u001b[0;32m~/anaconda3/envs/DS/lib/python3.11/site-packages/yfinance/utils.py:104\u001b[0m, in \u001b[0;36mlog_indent_decorator.<locals>.wrapper\u001b[0;34m(*args, **kwargs)\u001b[0m\n\u001b[1;32m    101\u001b[0m logger\u001b[38;5;241m.\u001b[39mdebug(\u001b[38;5;124mf\u001b[39m\u001b[38;5;124m'\u001b[39m\u001b[38;5;124mEntering \u001b[39m\u001b[38;5;132;01m{\u001b[39;00mfunc\u001b[38;5;241m.\u001b[39m\u001b[38;5;18m__name__\u001b[39m\u001b[38;5;132;01m}\u001b[39;00m\u001b[38;5;124m()\u001b[39m\u001b[38;5;124m'\u001b[39m)\n\u001b[1;32m    103\u001b[0m \u001b[38;5;28;01mwith\u001b[39;00m IndentationContext():\n\u001b[0;32m--> 104\u001b[0m     result \u001b[38;5;241m=\u001b[39m func(\u001b[38;5;241m*\u001b[39margs, \u001b[38;5;241m*\u001b[39m\u001b[38;5;241m*\u001b[39mkwargs)\n\u001b[1;32m    106\u001b[0m logger\u001b[38;5;241m.\u001b[39mdebug(\u001b[38;5;124mf\u001b[39m\u001b[38;5;124m'\u001b[39m\u001b[38;5;124mExiting \u001b[39m\u001b[38;5;132;01m{\u001b[39;00mfunc\u001b[38;5;241m.\u001b[39m\u001b[38;5;18m__name__\u001b[39m\u001b[38;5;132;01m}\u001b[39;00m\u001b[38;5;124m()\u001b[39m\u001b[38;5;124m'\u001b[39m)\n\u001b[1;32m    107\u001b[0m \u001b[38;5;28;01mreturn\u001b[39;00m result\n",
      "File \u001b[0;32m~/anaconda3/envs/DS/lib/python3.11/site-packages/yfinance/base.py:81\u001b[0m, in \u001b[0;36mTickerBase.history\u001b[0;34m(self, *args, **kwargs)\u001b[0m\n\u001b[1;32m     79\u001b[0m \u001b[38;5;129m@utils\u001b[39m\u001b[38;5;241m.\u001b[39mlog_indent_decorator\n\u001b[1;32m     80\u001b[0m \u001b[38;5;28;01mdef\u001b[39;00m\u001b[38;5;250m \u001b[39m\u001b[38;5;21mhistory\u001b[39m(\u001b[38;5;28mself\u001b[39m, \u001b[38;5;241m*\u001b[39margs, \u001b[38;5;241m*\u001b[39m\u001b[38;5;241m*\u001b[39mkwargs) \u001b[38;5;241m-\u001b[39m\u001b[38;5;241m>\u001b[39m pd\u001b[38;5;241m.\u001b[39mDataFrame:\n\u001b[0;32m---> 81\u001b[0m     \u001b[38;5;28;01mreturn\u001b[39;00m \u001b[38;5;28mself\u001b[39m\u001b[38;5;241m.\u001b[39m_lazy_load_price_history()\u001b[38;5;241m.\u001b[39mhistory(\u001b[38;5;241m*\u001b[39margs, \u001b[38;5;241m*\u001b[39m\u001b[38;5;241m*\u001b[39mkwargs)\n",
      "File \u001b[0;32m~/anaconda3/envs/DS/lib/python3.11/site-packages/yfinance/base.py:87\u001b[0m, in \u001b[0;36mTickerBase._lazy_load_price_history\u001b[0;34m(self)\u001b[0m\n\u001b[1;32m     85\u001b[0m \u001b[38;5;28;01mdef\u001b[39;00m\u001b[38;5;250m \u001b[39m\u001b[38;5;21m_lazy_load_price_history\u001b[39m(\u001b[38;5;28mself\u001b[39m):\n\u001b[1;32m     86\u001b[0m     \u001b[38;5;28;01mif\u001b[39;00m \u001b[38;5;28mself\u001b[39m\u001b[38;5;241m.\u001b[39m_price_history \u001b[38;5;129;01mis\u001b[39;00m \u001b[38;5;28;01mNone\u001b[39;00m:\n\u001b[0;32m---> 87\u001b[0m         \u001b[38;5;28mself\u001b[39m\u001b[38;5;241m.\u001b[39m_price_history \u001b[38;5;241m=\u001b[39m PriceHistory(\u001b[38;5;28mself\u001b[39m\u001b[38;5;241m.\u001b[39m_data, \u001b[38;5;28mself\u001b[39m\u001b[38;5;241m.\u001b[39mticker, \u001b[38;5;28mself\u001b[39m\u001b[38;5;241m.\u001b[39m_get_ticker_tz(\u001b[38;5;28mself\u001b[39m\u001b[38;5;241m.\u001b[39mproxy, timeout\u001b[38;5;241m=\u001b[39m\u001b[38;5;241m10\u001b[39m))\n\u001b[1;32m     88\u001b[0m     \u001b[38;5;28;01mreturn\u001b[39;00m \u001b[38;5;28mself\u001b[39m\u001b[38;5;241m.\u001b[39m_price_history\n",
      "File \u001b[0;32m~/anaconda3/envs/DS/lib/python3.11/site-packages/yfinance/base.py:103\u001b[0m, in \u001b[0;36mTickerBase._get_ticker_tz\u001b[0;34m(self, proxy, timeout)\u001b[0m\n\u001b[1;32m    100\u001b[0m     tz \u001b[38;5;241m=\u001b[39m \u001b[38;5;28;01mNone\u001b[39;00m\n\u001b[1;32m    102\u001b[0m \u001b[38;5;28;01mif\u001b[39;00m tz \u001b[38;5;129;01mis\u001b[39;00m \u001b[38;5;28;01mNone\u001b[39;00m:\n\u001b[0;32m--> 103\u001b[0m     tz \u001b[38;5;241m=\u001b[39m \u001b[38;5;28mself\u001b[39m\u001b[38;5;241m.\u001b[39m_fetch_ticker_tz(proxy, timeout)\n\u001b[1;32m    105\u001b[0m     \u001b[38;5;28;01mif\u001b[39;00m utils\u001b[38;5;241m.\u001b[39mis_valid_timezone(tz):\n\u001b[1;32m    106\u001b[0m         \u001b[38;5;66;03m# info fetch is relatively slow so cache timezone\u001b[39;00m\n\u001b[1;32m    107\u001b[0m         c\u001b[38;5;241m.\u001b[39mstore(\u001b[38;5;28mself\u001b[39m\u001b[38;5;241m.\u001b[39mticker, tz)\n",
      "File \u001b[0;32m~/anaconda3/envs/DS/lib/python3.11/site-packages/yfinance/utils.py:104\u001b[0m, in \u001b[0;36mlog_indent_decorator.<locals>.wrapper\u001b[0;34m(*args, **kwargs)\u001b[0m\n\u001b[1;32m    101\u001b[0m logger\u001b[38;5;241m.\u001b[39mdebug(\u001b[38;5;124mf\u001b[39m\u001b[38;5;124m'\u001b[39m\u001b[38;5;124mEntering \u001b[39m\u001b[38;5;132;01m{\u001b[39;00mfunc\u001b[38;5;241m.\u001b[39m\u001b[38;5;18m__name__\u001b[39m\u001b[38;5;132;01m}\u001b[39;00m\u001b[38;5;124m()\u001b[39m\u001b[38;5;124m'\u001b[39m)\n\u001b[1;32m    103\u001b[0m \u001b[38;5;28;01mwith\u001b[39;00m IndentationContext():\n\u001b[0;32m--> 104\u001b[0m     result \u001b[38;5;241m=\u001b[39m func(\u001b[38;5;241m*\u001b[39margs, \u001b[38;5;241m*\u001b[39m\u001b[38;5;241m*\u001b[39mkwargs)\n\u001b[1;32m    106\u001b[0m logger\u001b[38;5;241m.\u001b[39mdebug(\u001b[38;5;124mf\u001b[39m\u001b[38;5;124m'\u001b[39m\u001b[38;5;124mExiting \u001b[39m\u001b[38;5;132;01m{\u001b[39;00mfunc\u001b[38;5;241m.\u001b[39m\u001b[38;5;18m__name__\u001b[39m\u001b[38;5;132;01m}\u001b[39;00m\u001b[38;5;124m()\u001b[39m\u001b[38;5;124m'\u001b[39m)\n\u001b[1;32m    107\u001b[0m \u001b[38;5;28;01mreturn\u001b[39;00m result\n",
      "File \u001b[0;32m~/anaconda3/envs/DS/lib/python3.11/site-packages/yfinance/base.py:126\u001b[0m, in \u001b[0;36mTickerBase._fetch_ticker_tz\u001b[0;34m(self, proxy, timeout)\u001b[0m\n\u001b[1;32m    123\u001b[0m url \u001b[38;5;241m=\u001b[39m \u001b[38;5;124mf\u001b[39m\u001b[38;5;124m\"\u001b[39m\u001b[38;5;132;01m{\u001b[39;00m_BASE_URL_\u001b[38;5;132;01m}\u001b[39;00m\u001b[38;5;124m/v8/finance/chart/\u001b[39m\u001b[38;5;132;01m{\u001b[39;00m\u001b[38;5;28mself\u001b[39m\u001b[38;5;241m.\u001b[39mticker\u001b[38;5;132;01m}\u001b[39;00m\u001b[38;5;124m\"\u001b[39m\n\u001b[1;32m    125\u001b[0m \u001b[38;5;28;01mtry\u001b[39;00m:\n\u001b[0;32m--> 126\u001b[0m     data \u001b[38;5;241m=\u001b[39m \u001b[38;5;28mself\u001b[39m\u001b[38;5;241m.\u001b[39m_data\u001b[38;5;241m.\u001b[39mcache_get(url\u001b[38;5;241m=\u001b[39murl, params\u001b[38;5;241m=\u001b[39mparams, proxy\u001b[38;5;241m=\u001b[39mproxy, timeout\u001b[38;5;241m=\u001b[39mtimeout)\n\u001b[1;32m    127\u001b[0m     data \u001b[38;5;241m=\u001b[39m data\u001b[38;5;241m.\u001b[39mjson()\n\u001b[1;32m    128\u001b[0m \u001b[38;5;28;01mexcept\u001b[39;00m YFRateLimitError:\n\u001b[1;32m    129\u001b[0m     \u001b[38;5;66;03m# Must propagate this\u001b[39;00m\n",
      "File \u001b[0;32m~/anaconda3/envs/DS/lib/python3.11/site-packages/yfinance/data.py:30\u001b[0m, in \u001b[0;36mlru_cache_freezeargs.<locals>.wrapped\u001b[0;34m(*args, **kwargs)\u001b[0m\n\u001b[1;32m     28\u001b[0m args \u001b[38;5;241m=\u001b[39m \u001b[38;5;28mtuple\u001b[39m([\u001b[38;5;28mtuple\u001b[39m(arg) \u001b[38;5;28;01mif\u001b[39;00m \u001b[38;5;28misinstance\u001b[39m(arg, \u001b[38;5;28mlist\u001b[39m) \u001b[38;5;28;01melse\u001b[39;00m arg \u001b[38;5;28;01mfor\u001b[39;00m arg \u001b[38;5;129;01min\u001b[39;00m args])\n\u001b[1;32m     29\u001b[0m kwargs \u001b[38;5;241m=\u001b[39m {k: \u001b[38;5;28mtuple\u001b[39m(v) \u001b[38;5;28;01mif\u001b[39;00m \u001b[38;5;28misinstance\u001b[39m(v, \u001b[38;5;28mlist\u001b[39m) \u001b[38;5;28;01melse\u001b[39;00m v \u001b[38;5;28;01mfor\u001b[39;00m k, v \u001b[38;5;129;01min\u001b[39;00m kwargs\u001b[38;5;241m.\u001b[39mitems()}\n\u001b[0;32m---> 30\u001b[0m \u001b[38;5;28;01mreturn\u001b[39;00m func(\u001b[38;5;241m*\u001b[39margs, \u001b[38;5;241m*\u001b[39m\u001b[38;5;241m*\u001b[39mkwargs)\n",
      "File \u001b[0;32m~/anaconda3/envs/DS/lib/python3.11/site-packages/yfinance/data.py:404\u001b[0m, in \u001b[0;36mYfData.cache_get\u001b[0;34m(self, url, user_agent_headers, params, proxy, timeout)\u001b[0m\n\u001b[1;32m    401\u001b[0m \u001b[38;5;129m@lru_cache_freezeargs\u001b[39m\n\u001b[1;32m    402\u001b[0m \u001b[38;5;129m@lru_cache\u001b[39m(maxsize\u001b[38;5;241m=\u001b[39mcache_maxsize)\n\u001b[1;32m    403\u001b[0m \u001b[38;5;28;01mdef\u001b[39;00m\u001b[38;5;250m \u001b[39m\u001b[38;5;21mcache_get\u001b[39m(\u001b[38;5;28mself\u001b[39m, url, user_agent_headers\u001b[38;5;241m=\u001b[39m\u001b[38;5;28;01mNone\u001b[39;00m, params\u001b[38;5;241m=\u001b[39m\u001b[38;5;28;01mNone\u001b[39;00m, proxy\u001b[38;5;241m=\u001b[39m\u001b[38;5;28;01mNone\u001b[39;00m, timeout\u001b[38;5;241m=\u001b[39m\u001b[38;5;241m30\u001b[39m):\n\u001b[0;32m--> 404\u001b[0m     \u001b[38;5;28;01mreturn\u001b[39;00m \u001b[38;5;28mself\u001b[39m\u001b[38;5;241m.\u001b[39mget(url, user_agent_headers, params, proxy, timeout)\n",
      "File \u001b[0;32m~/anaconda3/envs/DS/lib/python3.11/site-packages/yfinance/utils.py:104\u001b[0m, in \u001b[0;36mlog_indent_decorator.<locals>.wrapper\u001b[0;34m(*args, **kwargs)\u001b[0m\n\u001b[1;32m    101\u001b[0m logger\u001b[38;5;241m.\u001b[39mdebug(\u001b[38;5;124mf\u001b[39m\u001b[38;5;124m'\u001b[39m\u001b[38;5;124mEntering \u001b[39m\u001b[38;5;132;01m{\u001b[39;00mfunc\u001b[38;5;241m.\u001b[39m\u001b[38;5;18m__name__\u001b[39m\u001b[38;5;132;01m}\u001b[39;00m\u001b[38;5;124m()\u001b[39m\u001b[38;5;124m'\u001b[39m)\n\u001b[1;32m    103\u001b[0m \u001b[38;5;28;01mwith\u001b[39;00m IndentationContext():\n\u001b[0;32m--> 104\u001b[0m     result \u001b[38;5;241m=\u001b[39m func(\u001b[38;5;241m*\u001b[39margs, \u001b[38;5;241m*\u001b[39m\u001b[38;5;241m*\u001b[39mkwargs)\n\u001b[1;32m    106\u001b[0m logger\u001b[38;5;241m.\u001b[39mdebug(\u001b[38;5;124mf\u001b[39m\u001b[38;5;124m'\u001b[39m\u001b[38;5;124mExiting \u001b[39m\u001b[38;5;132;01m{\u001b[39;00mfunc\u001b[38;5;241m.\u001b[39m\u001b[38;5;18m__name__\u001b[39m\u001b[38;5;132;01m}\u001b[39;00m\u001b[38;5;124m()\u001b[39m\u001b[38;5;124m'\u001b[39m)\n\u001b[1;32m    107\u001b[0m \u001b[38;5;28;01mreturn\u001b[39;00m result\n",
      "File \u001b[0;32m~/anaconda3/envs/DS/lib/python3.11/site-packages/yfinance/data.py:335\u001b[0m, in \u001b[0;36mYfData.get\u001b[0;34m(self, url, user_agent_headers, params, proxy, timeout)\u001b[0m\n\u001b[1;32m    333\u001b[0m \u001b[38;5;129m@utils\u001b[39m\u001b[38;5;241m.\u001b[39mlog_indent_decorator\n\u001b[1;32m    334\u001b[0m \u001b[38;5;28;01mdef\u001b[39;00m\u001b[38;5;250m \u001b[39m\u001b[38;5;21mget\u001b[39m(\u001b[38;5;28mself\u001b[39m, url, user_agent_headers\u001b[38;5;241m=\u001b[39m\u001b[38;5;28;01mNone\u001b[39;00m, params\u001b[38;5;241m=\u001b[39m\u001b[38;5;28;01mNone\u001b[39;00m, proxy\u001b[38;5;241m=\u001b[39m\u001b[38;5;28;01mNone\u001b[39;00m, timeout\u001b[38;5;241m=\u001b[39m\u001b[38;5;241m30\u001b[39m):\n\u001b[0;32m--> 335\u001b[0m     \u001b[38;5;28;01mreturn\u001b[39;00m \u001b[38;5;28mself\u001b[39m\u001b[38;5;241m.\u001b[39m_make_request(url, request_method \u001b[38;5;241m=\u001b[39m \u001b[38;5;28mself\u001b[39m\u001b[38;5;241m.\u001b[39m_session\u001b[38;5;241m.\u001b[39mget, user_agent_headers\u001b[38;5;241m=\u001b[39muser_agent_headers, params\u001b[38;5;241m=\u001b[39mparams, proxy\u001b[38;5;241m=\u001b[39mproxy, timeout\u001b[38;5;241m=\u001b[39mtimeout)\n",
      "File \u001b[0;32m~/anaconda3/envs/DS/lib/python3.11/site-packages/yfinance/utils.py:104\u001b[0m, in \u001b[0;36mlog_indent_decorator.<locals>.wrapper\u001b[0;34m(*args, **kwargs)\u001b[0m\n\u001b[1;32m    101\u001b[0m logger\u001b[38;5;241m.\u001b[39mdebug(\u001b[38;5;124mf\u001b[39m\u001b[38;5;124m'\u001b[39m\u001b[38;5;124mEntering \u001b[39m\u001b[38;5;132;01m{\u001b[39;00mfunc\u001b[38;5;241m.\u001b[39m\u001b[38;5;18m__name__\u001b[39m\u001b[38;5;132;01m}\u001b[39;00m\u001b[38;5;124m()\u001b[39m\u001b[38;5;124m'\u001b[39m)\n\u001b[1;32m    103\u001b[0m \u001b[38;5;28;01mwith\u001b[39;00m IndentationContext():\n\u001b[0;32m--> 104\u001b[0m     result \u001b[38;5;241m=\u001b[39m func(\u001b[38;5;241m*\u001b[39margs, \u001b[38;5;241m*\u001b[39m\u001b[38;5;241m*\u001b[39mkwargs)\n\u001b[1;32m    106\u001b[0m logger\u001b[38;5;241m.\u001b[39mdebug(\u001b[38;5;124mf\u001b[39m\u001b[38;5;124m'\u001b[39m\u001b[38;5;124mExiting \u001b[39m\u001b[38;5;132;01m{\u001b[39;00mfunc\u001b[38;5;241m.\u001b[39m\u001b[38;5;18m__name__\u001b[39m\u001b[38;5;132;01m}\u001b[39;00m\u001b[38;5;124m()\u001b[39m\u001b[38;5;124m'\u001b[39m)\n\u001b[1;32m    107\u001b[0m \u001b[38;5;28;01mreturn\u001b[39;00m result\n",
      "File \u001b[0;32m~/anaconda3/envs/DS/lib/python3.11/site-packages/yfinance/data.py:397\u001b[0m, in \u001b[0;36mYfData._make_request\u001b[0;34m(self, url, request_method, user_agent_headers, body, params, proxy, timeout)\u001b[0m\n\u001b[1;32m    395\u001b[0m     \u001b[38;5;66;03m# Raise exception if rate limited\u001b[39;00m\n\u001b[1;32m    396\u001b[0m     \u001b[38;5;28;01mif\u001b[39;00m response\u001b[38;5;241m.\u001b[39mstatus_code \u001b[38;5;241m==\u001b[39m \u001b[38;5;241m429\u001b[39m:\n\u001b[0;32m--> 397\u001b[0m         \u001b[38;5;28;01mraise\u001b[39;00m YFRateLimitError()\n\u001b[1;32m    399\u001b[0m \u001b[38;5;28;01mreturn\u001b[39;00m response\n",
      "\u001b[0;31mYFRateLimitError\u001b[0m: Too Many Requests. Rate limited. Try after a while."
     ]
    }
   ],
   "source": [
    "tesla_data = tesla.history(period=\"max\")"
   ]
  },
  {
   "cell_type": "code",
   "execution_count": null,
   "metadata": {},
   "outputs": [
    {
     "name": "stdout",
     "output_type": "stream",
     "text": [
      "Collecting pandas-datareader\n",
      "  Downloading pandas_datareader-0.10.0-py3-none-any.whl.metadata (2.9 kB)\n",
      "Requirement already satisfied: lxml in /Users/enigma/anaconda3/envs/DS/lib/python3.11/site-packages (from pandas-datareader) (5.3.0)\n",
      "Requirement already satisfied: pandas>=0.23 in /Users/enigma/anaconda3/envs/DS/lib/python3.11/site-packages (from pandas-datareader) (2.2.3)\n",
      "Requirement already satisfied: requests>=2.19.0 in /Users/enigma/anaconda3/envs/DS/lib/python3.11/site-packages (from pandas-datareader) (2.32.4)\n",
      "Requirement already satisfied: numpy>=1.23.2 in /Users/enigma/anaconda3/envs/DS/lib/python3.11/site-packages (from pandas>=0.23->pandas-datareader) (1.26.4)\n",
      "Requirement already satisfied: python-dateutil>=2.8.2 in /Users/enigma/anaconda3/envs/DS/lib/python3.11/site-packages (from pandas>=0.23->pandas-datareader) (2.9.0.post0)\n",
      "Requirement already satisfied: pytz>=2020.1 in /Users/enigma/anaconda3/envs/DS/lib/python3.11/site-packages (from pandas>=0.23->pandas-datareader) (2025.2)\n",
      "Requirement already satisfied: tzdata>=2022.7 in /Users/enigma/anaconda3/envs/DS/lib/python3.11/site-packages (from pandas>=0.23->pandas-datareader) (2025.2)\n",
      "Requirement already satisfied: six>=1.5 in /Users/enigma/anaconda3/envs/DS/lib/python3.11/site-packages (from python-dateutil>=2.8.2->pandas>=0.23->pandas-datareader) (1.17.0)\n",
      "Requirement already satisfied: charset_normalizer<4,>=2 in /Users/enigma/anaconda3/envs/DS/lib/python3.11/site-packages (from requests>=2.19.0->pandas-datareader) (3.3.2)\n",
      "Requirement already satisfied: idna<4,>=2.5 in /Users/enigma/anaconda3/envs/DS/lib/python3.11/site-packages (from requests>=2.19.0->pandas-datareader) (3.7)\n",
      "Requirement already satisfied: urllib3<3,>=1.21.1 in /Users/enigma/anaconda3/envs/DS/lib/python3.11/site-packages (from requests>=2.19.0->pandas-datareader) (2.5.0)\n",
      "Requirement already satisfied: certifi>=2017.4.17 in /Users/enigma/anaconda3/envs/DS/lib/python3.11/site-packages (from requests>=2.19.0->pandas-datareader) (2025.7.14)\n",
      "Downloading pandas_datareader-0.10.0-py3-none-any.whl (109 kB)\n",
      "Installing collected packages: pandas-datareader\n",
      "Successfully installed pandas-datareader-0.10.0\n",
      "Note: you may need to restart the kernel to use updated packages.\n",
      "yfinance failed (Too Many Requests. Rate limited. Try after a while.). Using Stooq fallback...\n",
      "Downloaded TSLA via Stooq.\n",
      "Saved TSLA to tesla_data.csv\n",
      "                Open      High       Low     Close     Volume\n",
      "Date                                                         \n",
      "2020-08-10   96.5333   97.1667   92.3900   94.5700  112833960\n",
      "2020-08-11   93.0667   94.6667   91.0000   91.6267  129387510\n",
      "2020-08-12   98.0000  105.6670   95.6667  103.6500  328482510\n",
      "2020-08-13  107.4000  110.0800  104.4830  108.0670  306379620\n",
      "2020-08-14  111.0000  111.2530  108.4430  110.0470  188664210\n"
     ]
    }
   ],
   "source": [
    "# I was facing a problem to download the data from yfinance due to rate limiting, so I used a fallback to Stooq via pandas-datareader with the help of ChatGPT.\n",
    "%pip install pandas-datareader\n",
    "import os\n",
    "import pandas as pd\n",
    "\n",
    "CACHE_PATH = \"tesla_data.csv\"\n",
    "\n",
    "def load_from_cache(path=CACHE_PATH):\n",
    "    if os.path.exists(path):\n",
    "        df = pd.read_csv(path, index_col=0, parse_dates=True)\n",
    "        if not df.empty:\n",
    "            print(\"Loaded TSLA from cache.\")\n",
    "            return df\n",
    "    return None\n",
    "\n",
    "def save_cache(df, path=CACHE_PATH):\n",
    "    df.to_csv(path)\n",
    "    print(f\"Saved TSLA to {path}\")\n",
    "\n",
    "tesla_data = load_from_cache()\n",
    "if tesla_data is None:\n",
    "    try:\n",
    "        import yfinance as yf\n",
    "        tesla = yf.Ticker(\"TSLA\")\n",
    "        # Try ONCE — if rate-limited, bail out to fallback\n",
    "        tesla_data = tesla.history(period=\"max\", timeout=30)\n",
    "        if tesla_data is None or tesla_data.empty:\n",
    "            raise RuntimeError(\"Empty response from yfinance; using fallback.\")\n",
    "        print(\"Downloaded TSLA via yfinance.\")\n",
    "    except Exception as e:\n",
    "        print(f\"yfinance failed ({e}). Using Stooq fallback...\")\n",
    "        from pandas_datareader import data as pdr\n",
    "        tesla_data = pdr.DataReader(\"TSLA\", \"stooq\").sort_index()\n",
    "        print(\"Downloaded TSLA via Stooq.\")\n",
    "\n",
    "    save_cache(tesla_data)\n",
    "\n",
    "print(tesla_data.head())\n"
   ]
  },
  {
   "cell_type": "code",
   "execution_count": 19,
   "metadata": {},
   "outputs": [
    {
     "data": {
      "text/html": [
       "<div>\n",
       "<style scoped>\n",
       "    .dataframe tbody tr th:only-of-type {\n",
       "        vertical-align: middle;\n",
       "    }\n",
       "\n",
       "    .dataframe tbody tr th {\n",
       "        vertical-align: top;\n",
       "    }\n",
       "\n",
       "    .dataframe thead th {\n",
       "        text-align: right;\n",
       "    }\n",
       "</style>\n",
       "<table border=\"1\" class=\"dataframe\">\n",
       "  <thead>\n",
       "    <tr style=\"text-align: right;\">\n",
       "      <th></th>\n",
       "      <th>index</th>\n",
       "      <th>Date</th>\n",
       "      <th>Open</th>\n",
       "      <th>High</th>\n",
       "      <th>Low</th>\n",
       "      <th>Close</th>\n",
       "      <th>Volume</th>\n",
       "    </tr>\n",
       "  </thead>\n",
       "  <tbody>\n",
       "    <tr>\n",
       "      <th>0</th>\n",
       "      <td>0</td>\n",
       "      <td>2020-08-10</td>\n",
       "      <td>96.5333</td>\n",
       "      <td>97.1667</td>\n",
       "      <td>92.3900</td>\n",
       "      <td>94.5700</td>\n",
       "      <td>112833960</td>\n",
       "    </tr>\n",
       "    <tr>\n",
       "      <th>1</th>\n",
       "      <td>1</td>\n",
       "      <td>2020-08-11</td>\n",
       "      <td>93.0667</td>\n",
       "      <td>94.6667</td>\n",
       "      <td>91.0000</td>\n",
       "      <td>91.6267</td>\n",
       "      <td>129387510</td>\n",
       "    </tr>\n",
       "    <tr>\n",
       "      <th>2</th>\n",
       "      <td>2</td>\n",
       "      <td>2020-08-12</td>\n",
       "      <td>98.0000</td>\n",
       "      <td>105.6670</td>\n",
       "      <td>95.6667</td>\n",
       "      <td>103.6500</td>\n",
       "      <td>328482510</td>\n",
       "    </tr>\n",
       "    <tr>\n",
       "      <th>3</th>\n",
       "      <td>3</td>\n",
       "      <td>2020-08-13</td>\n",
       "      <td>107.4000</td>\n",
       "      <td>110.0800</td>\n",
       "      <td>104.4830</td>\n",
       "      <td>108.0670</td>\n",
       "      <td>306379620</td>\n",
       "    </tr>\n",
       "    <tr>\n",
       "      <th>4</th>\n",
       "      <td>4</td>\n",
       "      <td>2020-08-14</td>\n",
       "      <td>111.0000</td>\n",
       "      <td>111.2530</td>\n",
       "      <td>108.4430</td>\n",
       "      <td>110.0470</td>\n",
       "      <td>188664210</td>\n",
       "    </tr>\n",
       "  </tbody>\n",
       "</table>\n",
       "</div>"
      ],
      "text/plain": [
       "   index       Date      Open      High       Low     Close     Volume\n",
       "0      0 2020-08-10   96.5333   97.1667   92.3900   94.5700  112833960\n",
       "1      1 2020-08-11   93.0667   94.6667   91.0000   91.6267  129387510\n",
       "2      2 2020-08-12   98.0000  105.6670   95.6667  103.6500  328482510\n",
       "3      3 2020-08-13  107.4000  110.0800  104.4830  108.0670  306379620\n",
       "4      4 2020-08-14  111.0000  111.2530  108.4430  110.0470  188664210"
      ]
     },
     "execution_count": 19,
     "metadata": {},
     "output_type": "execute_result"
    }
   ],
   "source": [
    "tesla_data.reset_index(inplace=True)\n",
    "tesla_data.head()"
   ]
  },
  {
   "cell_type": "markdown",
   "metadata": {},
   "source": [
    "## 2: Webscraping to Extract Tesla Revenue Data"
   ]
  },
  {
   "cell_type": "markdown",
   "metadata": {},
   "source": [
    "Use the `requests` library to download the webpage."
   ]
  },
  {
   "cell_type": "code",
   "execution_count": 20,
   "metadata": {},
   "outputs": [],
   "source": [
    "html_data = requests.get(\"https://cf-courses-data.s3.us.cloud-object-storage.appdomain.cloud/IBMDeveloperSkillsNetwork-PY0220EN-SkillsNetwork/labs/project/revenue.htm\")"
   ]
  },
  {
   "cell_type": "markdown",
   "metadata": {},
   "source": [
    "Using `beautiful_soup` the html data has been parse (parser `html.parser`)."
   ]
  },
  {
   "cell_type": "code",
   "execution_count": 21,
   "metadata": {},
   "outputs": [],
   "source": [
    "soup = BeautifulSoup(html_data.content, 'html.parser')"
   ]
  },
  {
   "cell_type": "markdown",
   "metadata": {},
   "source": [
    "Using `BeautifulSoup` or the `read_html` function extract the table with `Tesla Revenue` and store it into a dataframe named `tesla_revenue`. The dataframe should have columns `Date` and `Revenue`.\n"
   ]
  },
  {
   "cell_type": "markdown",
   "metadata": {},
   "source": [
    "```\n",
    "1. Find All Tables: using `soup.find_all('table')`.\n",
    "2. Identify the Relevant Table: then loops through each table. If a table contains the text “Tesla Quarterly Revenue,”, select that table.\n",
    "3. Initialize a DataFrame: Pandas DataFrame called `tesla_revenue` with columns “Date” and “Revenue.”\n",
    "4. Loop Through Rows: For each row in the relevant table, extract the data from the first and second columns (date and revenue).\n",
    "5. Clean Revenue Data: Remove dollar signs and commas from the revenue value.\n",
    "6. Add Rows to DataFrame: Create a new row in the DataFrame with the extracted date and cleaned revenue values.\n",
    "7. Repeat for All Rows: Continue this process for all rows in the table.\n",
    "```"
   ]
  },
  {
   "cell_type": "code",
   "execution_count": 22,
   "metadata": {},
   "outputs": [],
   "source": [
    "revenue_table = None\n",
    "for table in soup.find_all('table'):\n",
    "    if \"Tesla Quarterly Revenue\" in table.text:\n",
    "        revenue_table = table\n",
    "        break\n",
    "tesla_revenue = pd.DataFrame(columns=[\"Date\", \"Revenue\"])\n",
    "\n",
    "for row in revenue_table.find(\"tbody\").find_all(\"tr\"):\n",
    "    col = row.find_all(\"td\")\n",
    "    date = col[0].text\n",
    "    revenue = col[1].text\n",
    "    \n",
    "    tesla_revenue = pd.concat([tesla_revenue, pd.DataFrame({\"Date\": [date], \"Revenue\": [revenue]})], ignore_index=True)"
   ]
  },
  {
   "cell_type": "code",
   "execution_count": 23,
   "metadata": {},
   "outputs": [],
   "source": [
    "tesla_revenue[\"Revenue\"] = tesla_revenue['Revenue'].str.replace(',|\\$',\"\", regex=True)"
   ]
  },
  {
   "cell_type": "code",
   "execution_count": 24,
   "metadata": {},
   "outputs": [],
   "source": [
    "tesla_revenue.dropna(inplace=True)\n",
    "tesla_revenue = tesla_revenue[tesla_revenue['Revenue'] != \"\"]"
   ]
  },
  {
   "cell_type": "code",
   "execution_count": 25,
   "metadata": {},
   "outputs": [
    {
     "data": {
      "text/html": [
       "<div>\n",
       "<style scoped>\n",
       "    .dataframe tbody tr th:only-of-type {\n",
       "        vertical-align: middle;\n",
       "    }\n",
       "\n",
       "    .dataframe tbody tr th {\n",
       "        vertical-align: top;\n",
       "    }\n",
       "\n",
       "    .dataframe thead th {\n",
       "        text-align: right;\n",
       "    }\n",
       "</style>\n",
       "<table border=\"1\" class=\"dataframe\">\n",
       "  <thead>\n",
       "    <tr style=\"text-align: right;\">\n",
       "      <th></th>\n",
       "      <th>Date</th>\n",
       "      <th>Revenue</th>\n",
       "    </tr>\n",
       "  </thead>\n",
       "  <tbody>\n",
       "    <tr>\n",
       "      <th>48</th>\n",
       "      <td>2010-09-30</td>\n",
       "      <td>31</td>\n",
       "    </tr>\n",
       "    <tr>\n",
       "      <th>49</th>\n",
       "      <td>2010-06-30</td>\n",
       "      <td>28</td>\n",
       "    </tr>\n",
       "    <tr>\n",
       "      <th>50</th>\n",
       "      <td>2010-03-31</td>\n",
       "      <td>21</td>\n",
       "    </tr>\n",
       "    <tr>\n",
       "      <th>52</th>\n",
       "      <td>2009-09-30</td>\n",
       "      <td>46</td>\n",
       "    </tr>\n",
       "    <tr>\n",
       "      <th>53</th>\n",
       "      <td>2009-06-30</td>\n",
       "      <td>27</td>\n",
       "    </tr>\n",
       "  </tbody>\n",
       "</table>\n",
       "</div>"
      ],
      "text/plain": [
       "          Date Revenue\n",
       "48  2010-09-30      31\n",
       "49  2010-06-30      28\n",
       "50  2010-03-31      21\n",
       "52  2009-09-30      46\n",
       "53  2009-06-30      27"
      ]
     },
     "execution_count": 25,
     "metadata": {},
     "output_type": "execute_result"
    }
   ],
   "source": [
    "tesla_revenue.tail(5)"
   ]
  },
  {
   "cell_type": "markdown",
   "metadata": {},
   "source": [
    "## 3: Use ```yfinance``` to Extract Stock Data"
   ]
  },
  {
   "cell_type": "code",
   "execution_count": 26,
   "metadata": {},
   "outputs": [],
   "source": [
    "gamestop = yf.Ticker(\"GME\")"
   ]
  },
  {
   "cell_type": "code",
   "execution_count": 27,
   "metadata": {},
   "outputs": [
    {
     "ename": "YFRateLimitError",
     "evalue": "Too Many Requests. Rate limited. Try after a while.",
     "output_type": "error",
     "traceback": [
      "\u001b[0;31m---------------------------------------------------------------------------\u001b[0m",
      "\u001b[0;31mYFRateLimitError\u001b[0m                          Traceback (most recent call last)",
      "Cell \u001b[0;32mIn[27], line 1\u001b[0m\n\u001b[0;32m----> 1\u001b[0m gme_data \u001b[38;5;241m=\u001b[39m gamestop\u001b[38;5;241m.\u001b[39mhistory(period\u001b[38;5;241m=\u001b[39m\u001b[38;5;124m'\u001b[39m\u001b[38;5;124mmax\u001b[39m\u001b[38;5;124m'\u001b[39m)\n",
      "File \u001b[0;32m~/anaconda3/envs/DS/lib/python3.11/site-packages/yfinance/utils.py:104\u001b[0m, in \u001b[0;36mlog_indent_decorator.<locals>.wrapper\u001b[0;34m(*args, **kwargs)\u001b[0m\n\u001b[1;32m    101\u001b[0m logger\u001b[38;5;241m.\u001b[39mdebug(\u001b[38;5;124mf\u001b[39m\u001b[38;5;124m'\u001b[39m\u001b[38;5;124mEntering \u001b[39m\u001b[38;5;132;01m{\u001b[39;00mfunc\u001b[38;5;241m.\u001b[39m\u001b[38;5;18m__name__\u001b[39m\u001b[38;5;132;01m}\u001b[39;00m\u001b[38;5;124m()\u001b[39m\u001b[38;5;124m'\u001b[39m)\n\u001b[1;32m    103\u001b[0m \u001b[38;5;28;01mwith\u001b[39;00m IndentationContext():\n\u001b[0;32m--> 104\u001b[0m     result \u001b[38;5;241m=\u001b[39m func(\u001b[38;5;241m*\u001b[39margs, \u001b[38;5;241m*\u001b[39m\u001b[38;5;241m*\u001b[39mkwargs)\n\u001b[1;32m    106\u001b[0m logger\u001b[38;5;241m.\u001b[39mdebug(\u001b[38;5;124mf\u001b[39m\u001b[38;5;124m'\u001b[39m\u001b[38;5;124mExiting \u001b[39m\u001b[38;5;132;01m{\u001b[39;00mfunc\u001b[38;5;241m.\u001b[39m\u001b[38;5;18m__name__\u001b[39m\u001b[38;5;132;01m}\u001b[39;00m\u001b[38;5;124m()\u001b[39m\u001b[38;5;124m'\u001b[39m)\n\u001b[1;32m    107\u001b[0m \u001b[38;5;28;01mreturn\u001b[39;00m result\n",
      "File \u001b[0;32m~/anaconda3/envs/DS/lib/python3.11/site-packages/yfinance/base.py:81\u001b[0m, in \u001b[0;36mTickerBase.history\u001b[0;34m(self, *args, **kwargs)\u001b[0m\n\u001b[1;32m     79\u001b[0m \u001b[38;5;129m@utils\u001b[39m\u001b[38;5;241m.\u001b[39mlog_indent_decorator\n\u001b[1;32m     80\u001b[0m \u001b[38;5;28;01mdef\u001b[39;00m\u001b[38;5;250m \u001b[39m\u001b[38;5;21mhistory\u001b[39m(\u001b[38;5;28mself\u001b[39m, \u001b[38;5;241m*\u001b[39margs, \u001b[38;5;241m*\u001b[39m\u001b[38;5;241m*\u001b[39mkwargs) \u001b[38;5;241m-\u001b[39m\u001b[38;5;241m>\u001b[39m pd\u001b[38;5;241m.\u001b[39mDataFrame:\n\u001b[0;32m---> 81\u001b[0m     \u001b[38;5;28;01mreturn\u001b[39;00m \u001b[38;5;28mself\u001b[39m\u001b[38;5;241m.\u001b[39m_lazy_load_price_history()\u001b[38;5;241m.\u001b[39mhistory(\u001b[38;5;241m*\u001b[39margs, \u001b[38;5;241m*\u001b[39m\u001b[38;5;241m*\u001b[39mkwargs)\n",
      "File \u001b[0;32m~/anaconda3/envs/DS/lib/python3.11/site-packages/yfinance/base.py:87\u001b[0m, in \u001b[0;36mTickerBase._lazy_load_price_history\u001b[0;34m(self)\u001b[0m\n\u001b[1;32m     85\u001b[0m \u001b[38;5;28;01mdef\u001b[39;00m\u001b[38;5;250m \u001b[39m\u001b[38;5;21m_lazy_load_price_history\u001b[39m(\u001b[38;5;28mself\u001b[39m):\n\u001b[1;32m     86\u001b[0m     \u001b[38;5;28;01mif\u001b[39;00m \u001b[38;5;28mself\u001b[39m\u001b[38;5;241m.\u001b[39m_price_history \u001b[38;5;129;01mis\u001b[39;00m \u001b[38;5;28;01mNone\u001b[39;00m:\n\u001b[0;32m---> 87\u001b[0m         \u001b[38;5;28mself\u001b[39m\u001b[38;5;241m.\u001b[39m_price_history \u001b[38;5;241m=\u001b[39m PriceHistory(\u001b[38;5;28mself\u001b[39m\u001b[38;5;241m.\u001b[39m_data, \u001b[38;5;28mself\u001b[39m\u001b[38;5;241m.\u001b[39mticker, \u001b[38;5;28mself\u001b[39m\u001b[38;5;241m.\u001b[39m_get_ticker_tz(\u001b[38;5;28mself\u001b[39m\u001b[38;5;241m.\u001b[39mproxy, timeout\u001b[38;5;241m=\u001b[39m\u001b[38;5;241m10\u001b[39m))\n\u001b[1;32m     88\u001b[0m     \u001b[38;5;28;01mreturn\u001b[39;00m \u001b[38;5;28mself\u001b[39m\u001b[38;5;241m.\u001b[39m_price_history\n",
      "File \u001b[0;32m~/anaconda3/envs/DS/lib/python3.11/site-packages/yfinance/base.py:103\u001b[0m, in \u001b[0;36mTickerBase._get_ticker_tz\u001b[0;34m(self, proxy, timeout)\u001b[0m\n\u001b[1;32m    100\u001b[0m     tz \u001b[38;5;241m=\u001b[39m \u001b[38;5;28;01mNone\u001b[39;00m\n\u001b[1;32m    102\u001b[0m \u001b[38;5;28;01mif\u001b[39;00m tz \u001b[38;5;129;01mis\u001b[39;00m \u001b[38;5;28;01mNone\u001b[39;00m:\n\u001b[0;32m--> 103\u001b[0m     tz \u001b[38;5;241m=\u001b[39m \u001b[38;5;28mself\u001b[39m\u001b[38;5;241m.\u001b[39m_fetch_ticker_tz(proxy, timeout)\n\u001b[1;32m    105\u001b[0m     \u001b[38;5;28;01mif\u001b[39;00m utils\u001b[38;5;241m.\u001b[39mis_valid_timezone(tz):\n\u001b[1;32m    106\u001b[0m         \u001b[38;5;66;03m# info fetch is relatively slow so cache timezone\u001b[39;00m\n\u001b[1;32m    107\u001b[0m         c\u001b[38;5;241m.\u001b[39mstore(\u001b[38;5;28mself\u001b[39m\u001b[38;5;241m.\u001b[39mticker, tz)\n",
      "File \u001b[0;32m~/anaconda3/envs/DS/lib/python3.11/site-packages/yfinance/utils.py:104\u001b[0m, in \u001b[0;36mlog_indent_decorator.<locals>.wrapper\u001b[0;34m(*args, **kwargs)\u001b[0m\n\u001b[1;32m    101\u001b[0m logger\u001b[38;5;241m.\u001b[39mdebug(\u001b[38;5;124mf\u001b[39m\u001b[38;5;124m'\u001b[39m\u001b[38;5;124mEntering \u001b[39m\u001b[38;5;132;01m{\u001b[39;00mfunc\u001b[38;5;241m.\u001b[39m\u001b[38;5;18m__name__\u001b[39m\u001b[38;5;132;01m}\u001b[39;00m\u001b[38;5;124m()\u001b[39m\u001b[38;5;124m'\u001b[39m)\n\u001b[1;32m    103\u001b[0m \u001b[38;5;28;01mwith\u001b[39;00m IndentationContext():\n\u001b[0;32m--> 104\u001b[0m     result \u001b[38;5;241m=\u001b[39m func(\u001b[38;5;241m*\u001b[39margs, \u001b[38;5;241m*\u001b[39m\u001b[38;5;241m*\u001b[39mkwargs)\n\u001b[1;32m    106\u001b[0m logger\u001b[38;5;241m.\u001b[39mdebug(\u001b[38;5;124mf\u001b[39m\u001b[38;5;124m'\u001b[39m\u001b[38;5;124mExiting \u001b[39m\u001b[38;5;132;01m{\u001b[39;00mfunc\u001b[38;5;241m.\u001b[39m\u001b[38;5;18m__name__\u001b[39m\u001b[38;5;132;01m}\u001b[39;00m\u001b[38;5;124m()\u001b[39m\u001b[38;5;124m'\u001b[39m)\n\u001b[1;32m    107\u001b[0m \u001b[38;5;28;01mreturn\u001b[39;00m result\n",
      "File \u001b[0;32m~/anaconda3/envs/DS/lib/python3.11/site-packages/yfinance/base.py:126\u001b[0m, in \u001b[0;36mTickerBase._fetch_ticker_tz\u001b[0;34m(self, proxy, timeout)\u001b[0m\n\u001b[1;32m    123\u001b[0m url \u001b[38;5;241m=\u001b[39m \u001b[38;5;124mf\u001b[39m\u001b[38;5;124m\"\u001b[39m\u001b[38;5;132;01m{\u001b[39;00m_BASE_URL_\u001b[38;5;132;01m}\u001b[39;00m\u001b[38;5;124m/v8/finance/chart/\u001b[39m\u001b[38;5;132;01m{\u001b[39;00m\u001b[38;5;28mself\u001b[39m\u001b[38;5;241m.\u001b[39mticker\u001b[38;5;132;01m}\u001b[39;00m\u001b[38;5;124m\"\u001b[39m\n\u001b[1;32m    125\u001b[0m \u001b[38;5;28;01mtry\u001b[39;00m:\n\u001b[0;32m--> 126\u001b[0m     data \u001b[38;5;241m=\u001b[39m \u001b[38;5;28mself\u001b[39m\u001b[38;5;241m.\u001b[39m_data\u001b[38;5;241m.\u001b[39mcache_get(url\u001b[38;5;241m=\u001b[39murl, params\u001b[38;5;241m=\u001b[39mparams, proxy\u001b[38;5;241m=\u001b[39mproxy, timeout\u001b[38;5;241m=\u001b[39mtimeout)\n\u001b[1;32m    127\u001b[0m     data \u001b[38;5;241m=\u001b[39m data\u001b[38;5;241m.\u001b[39mjson()\n\u001b[1;32m    128\u001b[0m \u001b[38;5;28;01mexcept\u001b[39;00m YFRateLimitError:\n\u001b[1;32m    129\u001b[0m     \u001b[38;5;66;03m# Must propagate this\u001b[39;00m\n",
      "File \u001b[0;32m~/anaconda3/envs/DS/lib/python3.11/site-packages/yfinance/data.py:30\u001b[0m, in \u001b[0;36mlru_cache_freezeargs.<locals>.wrapped\u001b[0;34m(*args, **kwargs)\u001b[0m\n\u001b[1;32m     28\u001b[0m args \u001b[38;5;241m=\u001b[39m \u001b[38;5;28mtuple\u001b[39m([\u001b[38;5;28mtuple\u001b[39m(arg) \u001b[38;5;28;01mif\u001b[39;00m \u001b[38;5;28misinstance\u001b[39m(arg, \u001b[38;5;28mlist\u001b[39m) \u001b[38;5;28;01melse\u001b[39;00m arg \u001b[38;5;28;01mfor\u001b[39;00m arg \u001b[38;5;129;01min\u001b[39;00m args])\n\u001b[1;32m     29\u001b[0m kwargs \u001b[38;5;241m=\u001b[39m {k: \u001b[38;5;28mtuple\u001b[39m(v) \u001b[38;5;28;01mif\u001b[39;00m \u001b[38;5;28misinstance\u001b[39m(v, \u001b[38;5;28mlist\u001b[39m) \u001b[38;5;28;01melse\u001b[39;00m v \u001b[38;5;28;01mfor\u001b[39;00m k, v \u001b[38;5;129;01min\u001b[39;00m kwargs\u001b[38;5;241m.\u001b[39mitems()}\n\u001b[0;32m---> 30\u001b[0m \u001b[38;5;28;01mreturn\u001b[39;00m func(\u001b[38;5;241m*\u001b[39margs, \u001b[38;5;241m*\u001b[39m\u001b[38;5;241m*\u001b[39mkwargs)\n",
      "File \u001b[0;32m~/anaconda3/envs/DS/lib/python3.11/site-packages/yfinance/data.py:404\u001b[0m, in \u001b[0;36mYfData.cache_get\u001b[0;34m(self, url, user_agent_headers, params, proxy, timeout)\u001b[0m\n\u001b[1;32m    401\u001b[0m \u001b[38;5;129m@lru_cache_freezeargs\u001b[39m\n\u001b[1;32m    402\u001b[0m \u001b[38;5;129m@lru_cache\u001b[39m(maxsize\u001b[38;5;241m=\u001b[39mcache_maxsize)\n\u001b[1;32m    403\u001b[0m \u001b[38;5;28;01mdef\u001b[39;00m\u001b[38;5;250m \u001b[39m\u001b[38;5;21mcache_get\u001b[39m(\u001b[38;5;28mself\u001b[39m, url, user_agent_headers\u001b[38;5;241m=\u001b[39m\u001b[38;5;28;01mNone\u001b[39;00m, params\u001b[38;5;241m=\u001b[39m\u001b[38;5;28;01mNone\u001b[39;00m, proxy\u001b[38;5;241m=\u001b[39m\u001b[38;5;28;01mNone\u001b[39;00m, timeout\u001b[38;5;241m=\u001b[39m\u001b[38;5;241m30\u001b[39m):\n\u001b[0;32m--> 404\u001b[0m     \u001b[38;5;28;01mreturn\u001b[39;00m \u001b[38;5;28mself\u001b[39m\u001b[38;5;241m.\u001b[39mget(url, user_agent_headers, params, proxy, timeout)\n",
      "File \u001b[0;32m~/anaconda3/envs/DS/lib/python3.11/site-packages/yfinance/utils.py:104\u001b[0m, in \u001b[0;36mlog_indent_decorator.<locals>.wrapper\u001b[0;34m(*args, **kwargs)\u001b[0m\n\u001b[1;32m    101\u001b[0m logger\u001b[38;5;241m.\u001b[39mdebug(\u001b[38;5;124mf\u001b[39m\u001b[38;5;124m'\u001b[39m\u001b[38;5;124mEntering \u001b[39m\u001b[38;5;132;01m{\u001b[39;00mfunc\u001b[38;5;241m.\u001b[39m\u001b[38;5;18m__name__\u001b[39m\u001b[38;5;132;01m}\u001b[39;00m\u001b[38;5;124m()\u001b[39m\u001b[38;5;124m'\u001b[39m)\n\u001b[1;32m    103\u001b[0m \u001b[38;5;28;01mwith\u001b[39;00m IndentationContext():\n\u001b[0;32m--> 104\u001b[0m     result \u001b[38;5;241m=\u001b[39m func(\u001b[38;5;241m*\u001b[39margs, \u001b[38;5;241m*\u001b[39m\u001b[38;5;241m*\u001b[39mkwargs)\n\u001b[1;32m    106\u001b[0m logger\u001b[38;5;241m.\u001b[39mdebug(\u001b[38;5;124mf\u001b[39m\u001b[38;5;124m'\u001b[39m\u001b[38;5;124mExiting \u001b[39m\u001b[38;5;132;01m{\u001b[39;00mfunc\u001b[38;5;241m.\u001b[39m\u001b[38;5;18m__name__\u001b[39m\u001b[38;5;132;01m}\u001b[39;00m\u001b[38;5;124m()\u001b[39m\u001b[38;5;124m'\u001b[39m)\n\u001b[1;32m    107\u001b[0m \u001b[38;5;28;01mreturn\u001b[39;00m result\n",
      "File \u001b[0;32m~/anaconda3/envs/DS/lib/python3.11/site-packages/yfinance/data.py:335\u001b[0m, in \u001b[0;36mYfData.get\u001b[0;34m(self, url, user_agent_headers, params, proxy, timeout)\u001b[0m\n\u001b[1;32m    333\u001b[0m \u001b[38;5;129m@utils\u001b[39m\u001b[38;5;241m.\u001b[39mlog_indent_decorator\n\u001b[1;32m    334\u001b[0m \u001b[38;5;28;01mdef\u001b[39;00m\u001b[38;5;250m \u001b[39m\u001b[38;5;21mget\u001b[39m(\u001b[38;5;28mself\u001b[39m, url, user_agent_headers\u001b[38;5;241m=\u001b[39m\u001b[38;5;28;01mNone\u001b[39;00m, params\u001b[38;5;241m=\u001b[39m\u001b[38;5;28;01mNone\u001b[39;00m, proxy\u001b[38;5;241m=\u001b[39m\u001b[38;5;28;01mNone\u001b[39;00m, timeout\u001b[38;5;241m=\u001b[39m\u001b[38;5;241m30\u001b[39m):\n\u001b[0;32m--> 335\u001b[0m     \u001b[38;5;28;01mreturn\u001b[39;00m \u001b[38;5;28mself\u001b[39m\u001b[38;5;241m.\u001b[39m_make_request(url, request_method \u001b[38;5;241m=\u001b[39m \u001b[38;5;28mself\u001b[39m\u001b[38;5;241m.\u001b[39m_session\u001b[38;5;241m.\u001b[39mget, user_agent_headers\u001b[38;5;241m=\u001b[39muser_agent_headers, params\u001b[38;5;241m=\u001b[39mparams, proxy\u001b[38;5;241m=\u001b[39mproxy, timeout\u001b[38;5;241m=\u001b[39mtimeout)\n",
      "File \u001b[0;32m~/anaconda3/envs/DS/lib/python3.11/site-packages/yfinance/utils.py:104\u001b[0m, in \u001b[0;36mlog_indent_decorator.<locals>.wrapper\u001b[0;34m(*args, **kwargs)\u001b[0m\n\u001b[1;32m    101\u001b[0m logger\u001b[38;5;241m.\u001b[39mdebug(\u001b[38;5;124mf\u001b[39m\u001b[38;5;124m'\u001b[39m\u001b[38;5;124mEntering \u001b[39m\u001b[38;5;132;01m{\u001b[39;00mfunc\u001b[38;5;241m.\u001b[39m\u001b[38;5;18m__name__\u001b[39m\u001b[38;5;132;01m}\u001b[39;00m\u001b[38;5;124m()\u001b[39m\u001b[38;5;124m'\u001b[39m)\n\u001b[1;32m    103\u001b[0m \u001b[38;5;28;01mwith\u001b[39;00m IndentationContext():\n\u001b[0;32m--> 104\u001b[0m     result \u001b[38;5;241m=\u001b[39m func(\u001b[38;5;241m*\u001b[39margs, \u001b[38;5;241m*\u001b[39m\u001b[38;5;241m*\u001b[39mkwargs)\n\u001b[1;32m    106\u001b[0m logger\u001b[38;5;241m.\u001b[39mdebug(\u001b[38;5;124mf\u001b[39m\u001b[38;5;124m'\u001b[39m\u001b[38;5;124mExiting \u001b[39m\u001b[38;5;132;01m{\u001b[39;00mfunc\u001b[38;5;241m.\u001b[39m\u001b[38;5;18m__name__\u001b[39m\u001b[38;5;132;01m}\u001b[39;00m\u001b[38;5;124m()\u001b[39m\u001b[38;5;124m'\u001b[39m)\n\u001b[1;32m    107\u001b[0m \u001b[38;5;28;01mreturn\u001b[39;00m result\n",
      "File \u001b[0;32m~/anaconda3/envs/DS/lib/python3.11/site-packages/yfinance/data.py:397\u001b[0m, in \u001b[0;36mYfData._make_request\u001b[0;34m(self, url, request_method, user_agent_headers, body, params, proxy, timeout)\u001b[0m\n\u001b[1;32m    395\u001b[0m     \u001b[38;5;66;03m# Raise exception if rate limited\u001b[39;00m\n\u001b[1;32m    396\u001b[0m     \u001b[38;5;28;01mif\u001b[39;00m response\u001b[38;5;241m.\u001b[39mstatus_code \u001b[38;5;241m==\u001b[39m \u001b[38;5;241m429\u001b[39m:\n\u001b[0;32m--> 397\u001b[0m         \u001b[38;5;28;01mraise\u001b[39;00m YFRateLimitError()\n\u001b[1;32m    399\u001b[0m \u001b[38;5;28;01mreturn\u001b[39;00m response\n",
      "\u001b[0;31mYFRateLimitError\u001b[0m: Too Many Requests. Rate limited. Try after a while."
     ]
    }
   ],
   "source": [
    "gme_data = gamestop.history(period='max')"
   ]
  },
  {
   "cell_type": "code",
   "execution_count": 28,
   "metadata": {},
   "outputs": [
    {
     "name": "stdout",
     "output_type": "stream",
     "text": [
      "yfinance failed (Too Many Requests. Rate limited. Try after a while.). Using Stooq fallback...\n",
      "Downloaded TSLA via Stooq.\n",
      "Saved GME to gme_data.csv\n",
      "                Open      High       Low     Close     Volume\n",
      "Date                                                         \n",
      "2020-08-10   96.5333   97.1667   92.3900   94.5700  112833960\n",
      "2020-08-11   93.0667   94.6667   91.0000   91.6267  129387510\n",
      "2020-08-12   98.0000  105.6670   95.6667  103.6500  328482510\n",
      "2020-08-13  107.4000  110.0800  104.4830  108.0670  306379620\n",
      "2020-08-14  111.0000  111.2530  108.4430  110.0470  188664210\n"
     ]
    }
   ],
   "source": [
    "# I was facing a problem to download the data from yfinance due to rate limiting, so I used a fallback to Stooq via pandas-datareader with the help of ChatGPT.\n",
    "\n",
    "CACHE_PATH = \"gme_data.csv\"\n",
    "\n",
    "def load_from_cache(path=CACHE_PATH):\n",
    "    if os.path.exists(path):\n",
    "        df = pd.read_csv(path, index_col=0, parse_dates=True)\n",
    "        if not df.empty:\n",
    "            print(\"Loaded GME from cache.\")\n",
    "            return df\n",
    "    return None\n",
    "\n",
    "def save_cache(df, path=CACHE_PATH):\n",
    "    df.to_csv(path)\n",
    "    print(f\"Saved GME to {path}\")\n",
    "\n",
    "gme_data = load_from_cache()\n",
    "if gme_data is None:\n",
    "    try:\n",
    "        import yfinance as yf\n",
    "        gme = yf.Ticker(\"GME\")\n",
    "        # Try ONCE — if rate-limited, bail out to fallback\n",
    "        gme_data = tesla.history(period=\"max\", timeout=30)\n",
    "        if gme_data is None or gme_data.empty:\n",
    "            raise RuntimeError(\"Empty response from yfinance; using fallback.\")\n",
    "        print(\"Downloaded TSLA via yfinance.\")\n",
    "    except Exception as e:\n",
    "        print(f\"yfinance failed ({e}). Using Stooq fallback...\")\n",
    "        from pandas_datareader import data as pdr\n",
    "        gme_data = pdr.DataReader(\"TSLA\", \"stooq\").sort_index()\n",
    "        print(\"Downloaded TSLA via Stooq.\")\n",
    "\n",
    "    save_cache(gme_data)\n",
    "\n",
    "print(gme_data.head())"
   ]
  },
  {
   "cell_type": "code",
   "execution_count": 29,
   "metadata": {},
   "outputs": [
    {
     "data": {
      "text/html": [
       "<div>\n",
       "<style scoped>\n",
       "    .dataframe tbody tr th:only-of-type {\n",
       "        vertical-align: middle;\n",
       "    }\n",
       "\n",
       "    .dataframe tbody tr th {\n",
       "        vertical-align: top;\n",
       "    }\n",
       "\n",
       "    .dataframe thead th {\n",
       "        text-align: right;\n",
       "    }\n",
       "</style>\n",
       "<table border=\"1\" class=\"dataframe\">\n",
       "  <thead>\n",
       "    <tr style=\"text-align: right;\">\n",
       "      <th></th>\n",
       "      <th>Date</th>\n",
       "      <th>Open</th>\n",
       "      <th>High</th>\n",
       "      <th>Low</th>\n",
       "      <th>Close</th>\n",
       "      <th>Volume</th>\n",
       "    </tr>\n",
       "  </thead>\n",
       "  <tbody>\n",
       "    <tr>\n",
       "      <th>0</th>\n",
       "      <td>2020-08-10</td>\n",
       "      <td>96.5333</td>\n",
       "      <td>97.1667</td>\n",
       "      <td>92.3900</td>\n",
       "      <td>94.5700</td>\n",
       "      <td>112833960</td>\n",
       "    </tr>\n",
       "    <tr>\n",
       "      <th>1</th>\n",
       "      <td>2020-08-11</td>\n",
       "      <td>93.0667</td>\n",
       "      <td>94.6667</td>\n",
       "      <td>91.0000</td>\n",
       "      <td>91.6267</td>\n",
       "      <td>129387510</td>\n",
       "    </tr>\n",
       "    <tr>\n",
       "      <th>2</th>\n",
       "      <td>2020-08-12</td>\n",
       "      <td>98.0000</td>\n",
       "      <td>105.6670</td>\n",
       "      <td>95.6667</td>\n",
       "      <td>103.6500</td>\n",
       "      <td>328482510</td>\n",
       "    </tr>\n",
       "    <tr>\n",
       "      <th>3</th>\n",
       "      <td>2020-08-13</td>\n",
       "      <td>107.4000</td>\n",
       "      <td>110.0800</td>\n",
       "      <td>104.4830</td>\n",
       "      <td>108.0670</td>\n",
       "      <td>306379620</td>\n",
       "    </tr>\n",
       "    <tr>\n",
       "      <th>4</th>\n",
       "      <td>2020-08-14</td>\n",
       "      <td>111.0000</td>\n",
       "      <td>111.2530</td>\n",
       "      <td>108.4430</td>\n",
       "      <td>110.0470</td>\n",
       "      <td>188664210</td>\n",
       "    </tr>\n",
       "  </tbody>\n",
       "</table>\n",
       "</div>"
      ],
      "text/plain": [
       "        Date      Open      High       Low     Close     Volume\n",
       "0 2020-08-10   96.5333   97.1667   92.3900   94.5700  112833960\n",
       "1 2020-08-11   93.0667   94.6667   91.0000   91.6267  129387510\n",
       "2 2020-08-12   98.0000  105.6670   95.6667  103.6500  328482510\n",
       "3 2020-08-13  107.4000  110.0800  104.4830  108.0670  306379620\n",
       "4 2020-08-14  111.0000  111.2530  108.4430  110.0470  188664210"
      ]
     },
     "execution_count": 29,
     "metadata": {},
     "output_type": "execute_result"
    }
   ],
   "source": [
    "gme_data.reset_index(inplace=True)\n",
    "gme_data.head()"
   ]
  },
  {
   "cell_type": "markdown",
   "metadata": {},
   "source": [
    "## 4: Use Webscraping to Extract GME Revenue Data"
   ]
  },
  {
   "cell_type": "code",
   "execution_count": 30,
   "metadata": {},
   "outputs": [],
   "source": [
    "html_data_2 = requests.get(\"https://cf-courses-data.s3.us.cloud-object-storage.appdomain.cloud/IBMDeveloperSkillsNetwork-PY0220EN-SkillsNetwork/labs/project/stock.html\")"
   ]
  },
  {
   "cell_type": "code",
   "execution_count": 31,
   "metadata": {},
   "outputs": [],
   "source": [
    "soup = BeautifulSoup(html_data_2.content, 'html.parser')"
   ]
  },
  {
   "cell_type": "code",
   "execution_count": 32,
   "metadata": {},
   "outputs": [],
   "source": [
    "gme_revenue_table = None\n",
    "for table in soup.find_all('table'):\n",
    "    if \"GameStop Quarterly Revenue\" in table.text:\n",
    "        gme_revenue_table =  table\n",
    "        break\n",
    "\n",
    "gme_revenue = pd.DataFrame(columns=[\"Date\", \"Revenue\"])\n",
    "\n",
    "for row in gme_revenue_table.find('tbody').find_all('tr'):\n",
    "    col = row.find_all('td')\n",
    "    date = col[0].text\n",
    "    revenue = col[1].text\n",
    "    \n",
    "    gme_revenue = pd.concat([gme_revenue, pd.DataFrame({\"Date\": [date], \"Revenue\": [revenue]})], ignore_index=True)\n",
    "\n",
    "gme_revenue[\"Revenue\"] = gme_revenue['Revenue'].str.replace(',|\\$',\"\", regex=True)"
   ]
  },
  {
   "cell_type": "code",
   "execution_count": 33,
   "metadata": {},
   "outputs": [
    {
     "data": {
      "text/html": [
       "<div>\n",
       "<style scoped>\n",
       "    .dataframe tbody tr th:only-of-type {\n",
       "        vertical-align: middle;\n",
       "    }\n",
       "\n",
       "    .dataframe tbody tr th {\n",
       "        vertical-align: top;\n",
       "    }\n",
       "\n",
       "    .dataframe thead th {\n",
       "        text-align: right;\n",
       "    }\n",
       "</style>\n",
       "<table border=\"1\" class=\"dataframe\">\n",
       "  <thead>\n",
       "    <tr style=\"text-align: right;\">\n",
       "      <th></th>\n",
       "      <th>Date</th>\n",
       "      <th>Revenue</th>\n",
       "    </tr>\n",
       "  </thead>\n",
       "  <tbody>\n",
       "    <tr>\n",
       "      <th>57</th>\n",
       "      <td>2006-01-31</td>\n",
       "      <td>1667</td>\n",
       "    </tr>\n",
       "    <tr>\n",
       "      <th>58</th>\n",
       "      <td>2005-10-31</td>\n",
       "      <td>534</td>\n",
       "    </tr>\n",
       "    <tr>\n",
       "      <th>59</th>\n",
       "      <td>2005-07-31</td>\n",
       "      <td>416</td>\n",
       "    </tr>\n",
       "    <tr>\n",
       "      <th>60</th>\n",
       "      <td>2005-04-30</td>\n",
       "      <td>475</td>\n",
       "    </tr>\n",
       "    <tr>\n",
       "      <th>61</th>\n",
       "      <td>2005-01-31</td>\n",
       "      <td>709</td>\n",
       "    </tr>\n",
       "  </tbody>\n",
       "</table>\n",
       "</div>"
      ],
      "text/plain": [
       "          Date Revenue\n",
       "57  2006-01-31    1667\n",
       "58  2005-10-31     534\n",
       "59  2005-07-31     416\n",
       "60  2005-04-30     475\n",
       "61  2005-01-31     709"
      ]
     },
     "execution_count": 33,
     "metadata": {},
     "output_type": "execute_result"
    }
   ],
   "source": [
    "gme_revenue.tail(5)"
   ]
  },
  {
   "cell_type": "markdown",
   "metadata": {},
   "source": [
    "## 5: Plot Tesla Stock Graph\n"
   ]
  },
  {
   "cell_type": "code",
   "execution_count": 34,
   "metadata": {},
   "outputs": [
    {
     "data": {
      "application/vnd.plotly.v1+json": {
       "config": {
        "plotlyServerURL": "https://plot.ly"
       },
       "data": [
        {
         "name": "Share Price",
         "type": "scatter",
         "x": [
          "2020-08-10T00:00:00.000000000",
          "2020-08-11T00:00:00.000000000",
          "2020-08-12T00:00:00.000000000",
          "2020-08-13T00:00:00.000000000",
          "2020-08-14T00:00:00.000000000",
          "2020-08-17T00:00:00.000000000",
          "2020-08-18T00:00:00.000000000",
          "2020-08-19T00:00:00.000000000",
          "2020-08-20T00:00:00.000000000",
          "2020-08-21T00:00:00.000000000",
          "2020-08-24T00:00:00.000000000",
          "2020-08-25T00:00:00.000000000",
          "2020-08-26T00:00:00.000000000",
          "2020-08-27T00:00:00.000000000",
          "2020-08-28T00:00:00.000000000",
          "2020-08-31T00:00:00.000000000",
          "2020-09-01T00:00:00.000000000",
          "2020-09-02T00:00:00.000000000",
          "2020-09-03T00:00:00.000000000",
          "2020-09-04T00:00:00.000000000",
          "2020-09-08T00:00:00.000000000",
          "2020-09-09T00:00:00.000000000",
          "2020-09-10T00:00:00.000000000",
          "2020-09-11T00:00:00.000000000",
          "2020-09-14T00:00:00.000000000",
          "2020-09-15T00:00:00.000000000",
          "2020-09-16T00:00:00.000000000",
          "2020-09-17T00:00:00.000000000",
          "2020-09-18T00:00:00.000000000",
          "2020-09-21T00:00:00.000000000",
          "2020-09-22T00:00:00.000000000",
          "2020-09-23T00:00:00.000000000",
          "2020-09-24T00:00:00.000000000",
          "2020-09-25T00:00:00.000000000",
          "2020-09-28T00:00:00.000000000",
          "2020-09-29T00:00:00.000000000",
          "2020-09-30T00:00:00.000000000",
          "2020-10-01T00:00:00.000000000",
          "2020-10-02T00:00:00.000000000",
          "2020-10-05T00:00:00.000000000",
          "2020-10-06T00:00:00.000000000",
          "2020-10-07T00:00:00.000000000",
          "2020-10-08T00:00:00.000000000",
          "2020-10-09T00:00:00.000000000",
          "2020-10-12T00:00:00.000000000",
          "2020-10-13T00:00:00.000000000",
          "2020-10-14T00:00:00.000000000",
          "2020-10-15T00:00:00.000000000",
          "2020-10-16T00:00:00.000000000",
          "2020-10-19T00:00:00.000000000",
          "2020-10-20T00:00:00.000000000",
          "2020-10-21T00:00:00.000000000",
          "2020-10-22T00:00:00.000000000",
          "2020-10-23T00:00:00.000000000",
          "2020-10-26T00:00:00.000000000",
          "2020-10-27T00:00:00.000000000",
          "2020-10-28T00:00:00.000000000",
          "2020-10-29T00:00:00.000000000",
          "2020-10-30T00:00:00.000000000",
          "2020-11-02T00:00:00.000000000",
          "2020-11-03T00:00:00.000000000",
          "2020-11-04T00:00:00.000000000",
          "2020-11-05T00:00:00.000000000",
          "2020-11-06T00:00:00.000000000",
          "2020-11-09T00:00:00.000000000",
          "2020-11-10T00:00:00.000000000",
          "2020-11-11T00:00:00.000000000",
          "2020-11-12T00:00:00.000000000",
          "2020-11-13T00:00:00.000000000",
          "2020-11-16T00:00:00.000000000",
          "2020-11-17T00:00:00.000000000",
          "2020-11-18T00:00:00.000000000",
          "2020-11-19T00:00:00.000000000",
          "2020-11-20T00:00:00.000000000",
          "2020-11-23T00:00:00.000000000",
          "2020-11-24T00:00:00.000000000",
          "2020-11-25T00:00:00.000000000",
          "2020-11-27T00:00:00.000000000",
          "2020-11-30T00:00:00.000000000",
          "2020-12-01T00:00:00.000000000",
          "2020-12-02T00:00:00.000000000",
          "2020-12-03T00:00:00.000000000",
          "2020-12-04T00:00:00.000000000",
          "2020-12-07T00:00:00.000000000",
          "2020-12-08T00:00:00.000000000",
          "2020-12-09T00:00:00.000000000",
          "2020-12-10T00:00:00.000000000",
          "2020-12-11T00:00:00.000000000",
          "2020-12-14T00:00:00.000000000",
          "2020-12-15T00:00:00.000000000",
          "2020-12-16T00:00:00.000000000",
          "2020-12-17T00:00:00.000000000",
          "2020-12-18T00:00:00.000000000",
          "2020-12-21T00:00:00.000000000",
          "2020-12-22T00:00:00.000000000",
          "2020-12-23T00:00:00.000000000",
          "2020-12-24T00:00:00.000000000",
          "2020-12-28T00:00:00.000000000",
          "2020-12-29T00:00:00.000000000",
          "2020-12-30T00:00:00.000000000",
          "2020-12-31T00:00:00.000000000",
          "2021-01-04T00:00:00.000000000",
          "2021-01-05T00:00:00.000000000",
          "2021-01-06T00:00:00.000000000",
          "2021-01-07T00:00:00.000000000",
          "2021-01-08T00:00:00.000000000",
          "2021-01-11T00:00:00.000000000",
          "2021-01-12T00:00:00.000000000",
          "2021-01-13T00:00:00.000000000",
          "2021-01-14T00:00:00.000000000",
          "2021-01-15T00:00:00.000000000",
          "2021-01-19T00:00:00.000000000",
          "2021-01-20T00:00:00.000000000",
          "2021-01-21T00:00:00.000000000",
          "2021-01-22T00:00:00.000000000",
          "2021-01-25T00:00:00.000000000",
          "2021-01-26T00:00:00.000000000",
          "2021-01-27T00:00:00.000000000",
          "2021-01-28T00:00:00.000000000",
          "2021-01-29T00:00:00.000000000",
          "2021-02-01T00:00:00.000000000",
          "2021-02-02T00:00:00.000000000",
          "2021-02-03T00:00:00.000000000",
          "2021-02-04T00:00:00.000000000",
          "2021-02-05T00:00:00.000000000",
          "2021-02-08T00:00:00.000000000",
          "2021-02-09T00:00:00.000000000",
          "2021-02-10T00:00:00.000000000",
          "2021-02-11T00:00:00.000000000",
          "2021-02-12T00:00:00.000000000",
          "2021-02-16T00:00:00.000000000",
          "2021-02-17T00:00:00.000000000",
          "2021-02-18T00:00:00.000000000",
          "2021-02-19T00:00:00.000000000",
          "2021-02-22T00:00:00.000000000",
          "2021-02-23T00:00:00.000000000",
          "2021-02-24T00:00:00.000000000",
          "2021-02-25T00:00:00.000000000",
          "2021-02-26T00:00:00.000000000",
          "2021-03-01T00:00:00.000000000",
          "2021-03-02T00:00:00.000000000",
          "2021-03-03T00:00:00.000000000",
          "2021-03-04T00:00:00.000000000",
          "2021-03-05T00:00:00.000000000",
          "2021-03-08T00:00:00.000000000",
          "2021-03-09T00:00:00.000000000",
          "2021-03-10T00:00:00.000000000",
          "2021-03-11T00:00:00.000000000",
          "2021-03-12T00:00:00.000000000",
          "2021-03-15T00:00:00.000000000",
          "2021-03-16T00:00:00.000000000",
          "2021-03-17T00:00:00.000000000",
          "2021-03-18T00:00:00.000000000",
          "2021-03-19T00:00:00.000000000",
          "2021-03-22T00:00:00.000000000",
          "2021-03-23T00:00:00.000000000",
          "2021-03-24T00:00:00.000000000",
          "2021-03-25T00:00:00.000000000",
          "2021-03-26T00:00:00.000000000",
          "2021-03-29T00:00:00.000000000",
          "2021-03-30T00:00:00.000000000",
          "2021-03-31T00:00:00.000000000",
          "2021-04-01T00:00:00.000000000",
          "2021-04-05T00:00:00.000000000",
          "2021-04-06T00:00:00.000000000",
          "2021-04-07T00:00:00.000000000",
          "2021-04-08T00:00:00.000000000",
          "2021-04-09T00:00:00.000000000",
          "2021-04-12T00:00:00.000000000",
          "2021-04-13T00:00:00.000000000",
          "2021-04-14T00:00:00.000000000",
          "2021-04-15T00:00:00.000000000",
          "2021-04-16T00:00:00.000000000",
          "2021-04-19T00:00:00.000000000",
          "2021-04-20T00:00:00.000000000",
          "2021-04-21T00:00:00.000000000",
          "2021-04-22T00:00:00.000000000",
          "2021-04-23T00:00:00.000000000",
          "2021-04-26T00:00:00.000000000",
          "2021-04-27T00:00:00.000000000",
          "2021-04-28T00:00:00.000000000",
          "2021-04-29T00:00:00.000000000",
          "2021-04-30T00:00:00.000000000",
          "2021-05-03T00:00:00.000000000",
          "2021-05-04T00:00:00.000000000",
          "2021-05-05T00:00:00.000000000",
          "2021-05-06T00:00:00.000000000",
          "2021-05-07T00:00:00.000000000",
          "2021-05-10T00:00:00.000000000",
          "2021-05-11T00:00:00.000000000",
          "2021-05-12T00:00:00.000000000",
          "2021-05-13T00:00:00.000000000",
          "2021-05-14T00:00:00.000000000",
          "2021-05-17T00:00:00.000000000",
          "2021-05-18T00:00:00.000000000",
          "2021-05-19T00:00:00.000000000",
          "2021-05-20T00:00:00.000000000",
          "2021-05-21T00:00:00.000000000",
          "2021-05-24T00:00:00.000000000",
          "2021-05-25T00:00:00.000000000",
          "2021-05-26T00:00:00.000000000",
          "2021-05-27T00:00:00.000000000",
          "2021-05-28T00:00:00.000000000",
          "2021-06-01T00:00:00.000000000",
          "2021-06-02T00:00:00.000000000",
          "2021-06-03T00:00:00.000000000",
          "2021-06-04T00:00:00.000000000",
          "2021-06-07T00:00:00.000000000",
          "2021-06-08T00:00:00.000000000",
          "2021-06-09T00:00:00.000000000",
          "2021-06-10T00:00:00.000000000",
          "2021-06-11T00:00:00.000000000",
          "2021-06-14T00:00:00.000000000"
         ],
         "xaxis": "x",
         "y": {
          "bdata": "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",
          "dtype": "f8"
         },
         "yaxis": "y"
        },
        {
         "name": "Revenue",
         "type": "scatter",
         "x": [
          "2021-03-31T00:00:00.000000000",
          "2020-12-31T00:00:00.000000000",
          "2020-09-30T00:00:00.000000000",
          "2020-06-30T00:00:00.000000000",
          "2020-03-31T00:00:00.000000000",
          "2019-12-31T00:00:00.000000000",
          "2019-09-30T00:00:00.000000000",
          "2019-06-30T00:00:00.000000000",
          "2019-03-31T00:00:00.000000000",
          "2018-12-31T00:00:00.000000000",
          "2018-09-30T00:00:00.000000000",
          "2018-06-30T00:00:00.000000000",
          "2018-03-31T00:00:00.000000000",
          "2017-12-31T00:00:00.000000000",
          "2017-09-30T00:00:00.000000000",
          "2017-06-30T00:00:00.000000000",
          "2017-03-31T00:00:00.000000000",
          "2016-12-31T00:00:00.000000000",
          "2016-09-30T00:00:00.000000000",
          "2016-06-30T00:00:00.000000000",
          "2016-03-31T00:00:00.000000000",
          "2015-12-31T00:00:00.000000000",
          "2015-09-30T00:00:00.000000000",
          "2015-06-30T00:00:00.000000000",
          "2015-03-31T00:00:00.000000000",
          "2014-12-31T00:00:00.000000000",
          "2014-09-30T00:00:00.000000000",
          "2014-06-30T00:00:00.000000000",
          "2014-03-31T00:00:00.000000000",
          "2013-12-31T00:00:00.000000000",
          "2013-09-30T00:00:00.000000000",
          "2013-06-30T00:00:00.000000000",
          "2013-03-31T00:00:00.000000000",
          "2012-12-31T00:00:00.000000000",
          "2012-09-30T00:00:00.000000000",
          "2012-06-30T00:00:00.000000000",
          "2012-03-31T00:00:00.000000000",
          "2011-12-31T00:00:00.000000000",
          "2011-09-30T00:00:00.000000000",
          "2011-06-30T00:00:00.000000000",
          "2011-03-31T00:00:00.000000000",
          "2010-12-31T00:00:00.000000000",
          "2010-09-30T00:00:00.000000000",
          "2010-06-30T00:00:00.000000000",
          "2010-03-31T00:00:00.000000000",
          "2009-09-30T00:00:00.000000000",
          "2009-06-30T00:00:00.000000000"
         ],
         "xaxis": "x2",
         "y": {
          "bdata": "AAAAAIBKxEAAAAAAAPzEQAAAAACAIcFAAAAAAACUt0AAAAAAAGG3QAAAAAAA2LxAAAAAAACfuEAAAAAAAM64QAAAAAAAvbFAAAAAAAA6vEAAAAAAAKi6QAAAAAAARK9AAAAAAACiqkAAAAAAALCpQAAAAAAAUqdAAAAAAADMpUAAAAAAABClQAAAAAAA2qFAAAAAAAD0oUAAAAAAANiTQAAAAAAA7JFAAAAAAAD4kkAAAAAAAEiNQAAAAAAA2I1AAAAAAABgjUAAAAAAAOiNQAAAAAAAoIpAAAAAAAAIiEAAAAAAAGiDQAAAAAAAOINAAAAAAADwekAAAAAAAFB5QAAAAAAAkIFAAAAAAAAgc0AAAAAAAABJQAAAAAAAADtAAAAAAAAAPkAAAAAAAIBDQAAAAAAAAE1AAAAAAAAATUAAAAAAAIBIQAAAAAAAAEJAAAAAAAAAP0AAAAAAAAA8QAAAAAAAADVAAAAAAAAAR0AAAAAAAAA7QA==",
          "dtype": "f8"
         },
         "yaxis": "y2"
        }
       ],
       "layout": {
        "annotations": [
         {
          "font": {
           "size": 16
          },
          "showarrow": false,
          "text": "Historical Share Price",
          "x": 0.5,
          "xanchor": "center",
          "xref": "paper",
          "y": 0.9999999999999999,
          "yanchor": "bottom",
          "yref": "paper"
         },
         {
          "font": {
           "size": 16
          },
          "showarrow": false,
          "text": "Historical Revenue",
          "x": 0.5,
          "xanchor": "center",
          "xref": "paper",
          "y": 0.35,
          "yanchor": "bottom",
          "yref": "paper"
         }
        ],
        "height": 900,
        "showlegend": false,
        "template": {
         "data": {
          "bar": [
           {
            "error_x": {
             "color": "#2a3f5f"
            },
            "error_y": {
             "color": "#2a3f5f"
            },
            "marker": {
             "line": {
              "color": "#E5ECF6",
              "width": 0.5
             },
             "pattern": {
              "fillmode": "overlay",
              "size": 10,
              "solidity": 0.2
             }
            },
            "type": "bar"
           }
          ],
          "barpolar": [
           {
            "marker": {
             "line": {
              "color": "#E5ECF6",
              "width": 0.5
             },
             "pattern": {
              "fillmode": "overlay",
              "size": 10,
              "solidity": 0.2
             }
            },
            "type": "barpolar"
           }
          ],
          "carpet": [
           {
            "aaxis": {
             "endlinecolor": "#2a3f5f",
             "gridcolor": "white",
             "linecolor": "white",
             "minorgridcolor": "white",
             "startlinecolor": "#2a3f5f"
            },
            "baxis": {
             "endlinecolor": "#2a3f5f",
             "gridcolor": "white",
             "linecolor": "white",
             "minorgridcolor": "white",
             "startlinecolor": "#2a3f5f"
            },
            "type": "carpet"
           }
          ],
          "choropleth": [
           {
            "colorbar": {
             "outlinewidth": 0,
             "ticks": ""
            },
            "type": "choropleth"
           }
          ],
          "contour": [
           {
            "colorbar": {
             "outlinewidth": 0,
             "ticks": ""
            },
            "colorscale": [
             [
              0,
              "#0d0887"
             ],
             [
              0.1111111111111111,
              "#46039f"
             ],
             [
              0.2222222222222222,
              "#7201a8"
             ],
             [
              0.3333333333333333,
              "#9c179e"
             ],
             [
              0.4444444444444444,
              "#bd3786"
             ],
             [
              0.5555555555555556,
              "#d8576b"
             ],
             [
              0.6666666666666666,
              "#ed7953"
             ],
             [
              0.7777777777777778,
              "#fb9f3a"
             ],
             [
              0.8888888888888888,
              "#fdca26"
             ],
             [
              1,
              "#f0f921"
             ]
            ],
            "type": "contour"
           }
          ],
          "contourcarpet": [
           {
            "colorbar": {
             "outlinewidth": 0,
             "ticks": ""
            },
            "type": "contourcarpet"
           }
          ],
          "heatmap": [
           {
            "colorbar": {
             "outlinewidth": 0,
             "ticks": ""
            },
            "colorscale": [
             [
              0,
              "#0d0887"
             ],
             [
              0.1111111111111111,
              "#46039f"
             ],
             [
              0.2222222222222222,
              "#7201a8"
             ],
             [
              0.3333333333333333,
              "#9c179e"
             ],
             [
              0.4444444444444444,
              "#bd3786"
             ],
             [
              0.5555555555555556,
              "#d8576b"
             ],
             [
              0.6666666666666666,
              "#ed7953"
             ],
             [
              0.7777777777777778,
              "#fb9f3a"
             ],
             [
              0.8888888888888888,
              "#fdca26"
             ],
             [
              1,
              "#f0f921"
             ]
            ],
            "type": "heatmap"
           }
          ],
          "histogram": [
           {
            "marker": {
             "pattern": {
              "fillmode": "overlay",
              "size": 10,
              "solidity": 0.2
             }
            },
            "type": "histogram"
           }
          ],
          "histogram2d": [
           {
            "colorbar": {
             "outlinewidth": 0,
             "ticks": ""
            },
            "colorscale": [
             [
              0,
              "#0d0887"
             ],
             [
              0.1111111111111111,
              "#46039f"
             ],
             [
              0.2222222222222222,
              "#7201a8"
             ],
             [
              0.3333333333333333,
              "#9c179e"
             ],
             [
              0.4444444444444444,
              "#bd3786"
             ],
             [
              0.5555555555555556,
              "#d8576b"
             ],
             [
              0.6666666666666666,
              "#ed7953"
             ],
             [
              0.7777777777777778,
              "#fb9f3a"
             ],
             [
              0.8888888888888888,
              "#fdca26"
             ],
             [
              1,
              "#f0f921"
             ]
            ],
            "type": "histogram2d"
           }
          ],
          "histogram2dcontour": [
           {
            "colorbar": {
             "outlinewidth": 0,
             "ticks": ""
            },
            "colorscale": [
             [
              0,
              "#0d0887"
             ],
             [
              0.1111111111111111,
              "#46039f"
             ],
             [
              0.2222222222222222,
              "#7201a8"
             ],
             [
              0.3333333333333333,
              "#9c179e"
             ],
             [
              0.4444444444444444,
              "#bd3786"
             ],
             [
              0.5555555555555556,
              "#d8576b"
             ],
             [
              0.6666666666666666,
              "#ed7953"
             ],
             [
              0.7777777777777778,
              "#fb9f3a"
             ],
             [
              0.8888888888888888,
              "#fdca26"
             ],
             [
              1,
              "#f0f921"
             ]
            ],
            "type": "histogram2dcontour"
           }
          ],
          "mesh3d": [
           {
            "colorbar": {
             "outlinewidth": 0,
             "ticks": ""
            },
            "type": "mesh3d"
           }
          ],
          "parcoords": [
           {
            "line": {
             "colorbar": {
              "outlinewidth": 0,
              "ticks": ""
             }
            },
            "type": "parcoords"
           }
          ],
          "pie": [
           {
            "automargin": true,
            "type": "pie"
           }
          ],
          "scatter": [
           {
            "fillpattern": {
             "fillmode": "overlay",
             "size": 10,
             "solidity": 0.2
            },
            "type": "scatter"
           }
          ],
          "scatter3d": [
           {
            "line": {
             "colorbar": {
              "outlinewidth": 0,
              "ticks": ""
             }
            },
            "marker": {
             "colorbar": {
              "outlinewidth": 0,
              "ticks": ""
             }
            },
            "type": "scatter3d"
           }
          ],
          "scattercarpet": [
           {
            "marker": {
             "colorbar": {
              "outlinewidth": 0,
              "ticks": ""
             }
            },
            "type": "scattercarpet"
           }
          ],
          "scattergeo": [
           {
            "marker": {
             "colorbar": {
              "outlinewidth": 0,
              "ticks": ""
             }
            },
            "type": "scattergeo"
           }
          ],
          "scattergl": [
           {
            "marker": {
             "colorbar": {
              "outlinewidth": 0,
              "ticks": ""
             }
            },
            "type": "scattergl"
           }
          ],
          "scattermap": [
           {
            "marker": {
             "colorbar": {
              "outlinewidth": 0,
              "ticks": ""
             }
            },
            "type": "scattermap"
           }
          ],
          "scattermapbox": [
           {
            "marker": {
             "colorbar": {
              "outlinewidth": 0,
              "ticks": ""
             }
            },
            "type": "scattermapbox"
           }
          ],
          "scatterpolar": [
           {
            "marker": {
             "colorbar": {
              "outlinewidth": 0,
              "ticks": ""
             }
            },
            "type": "scatterpolar"
           }
          ],
          "scatterpolargl": [
           {
            "marker": {
             "colorbar": {
              "outlinewidth": 0,
              "ticks": ""
             }
            },
            "type": "scatterpolargl"
           }
          ],
          "scatterternary": [
           {
            "marker": {
             "colorbar": {
              "outlinewidth": 0,
              "ticks": ""
             }
            },
            "type": "scatterternary"
           }
          ],
          "surface": [
           {
            "colorbar": {
             "outlinewidth": 0,
             "ticks": ""
            },
            "colorscale": [
             [
              0,
              "#0d0887"
             ],
             [
              0.1111111111111111,
              "#46039f"
             ],
             [
              0.2222222222222222,
              "#7201a8"
             ],
             [
              0.3333333333333333,
              "#9c179e"
             ],
             [
              0.4444444444444444,
              "#bd3786"
             ],
             [
              0.5555555555555556,
              "#d8576b"
             ],
             [
              0.6666666666666666,
              "#ed7953"
             ],
             [
              0.7777777777777778,
              "#fb9f3a"
             ],
             [
              0.8888888888888888,
              "#fdca26"
             ],
             [
              1,
              "#f0f921"
             ]
            ],
            "type": "surface"
           }
          ],
          "table": [
           {
            "cells": {
             "fill": {
              "color": "#EBF0F8"
             },
             "line": {
              "color": "white"
             }
            },
            "header": {
             "fill": {
              "color": "#C8D4E3"
             },
             "line": {
              "color": "white"
             }
            },
            "type": "table"
           }
          ]
         },
         "layout": {
          "annotationdefaults": {
           "arrowcolor": "#2a3f5f",
           "arrowhead": 0,
           "arrowwidth": 1
          },
          "autotypenumbers": "strict",
          "coloraxis": {
           "colorbar": {
            "outlinewidth": 0,
            "ticks": ""
           }
          },
          "colorscale": {
           "diverging": [
            [
             0,
             "#8e0152"
            ],
            [
             0.1,
             "#c51b7d"
            ],
            [
             0.2,
             "#de77ae"
            ],
            [
             0.3,
             "#f1b6da"
            ],
            [
             0.4,
             "#fde0ef"
            ],
            [
             0.5,
             "#f7f7f7"
            ],
            [
             0.6,
             "#e6f5d0"
            ],
            [
             0.7,
             "#b8e186"
            ],
            [
             0.8,
             "#7fbc41"
            ],
            [
             0.9,
             "#4d9221"
            ],
            [
             1,
             "#276419"
            ]
           ],
           "sequential": [
            [
             0,
             "#0d0887"
            ],
            [
             0.1111111111111111,
             "#46039f"
            ],
            [
             0.2222222222222222,
             "#7201a8"
            ],
            [
             0.3333333333333333,
             "#9c179e"
            ],
            [
             0.4444444444444444,
             "#bd3786"
            ],
            [
             0.5555555555555556,
             "#d8576b"
            ],
            [
             0.6666666666666666,
             "#ed7953"
            ],
            [
             0.7777777777777778,
             "#fb9f3a"
            ],
            [
             0.8888888888888888,
             "#fdca26"
            ],
            [
             1,
             "#f0f921"
            ]
           ],
           "sequentialminus": [
            [
             0,
             "#0d0887"
            ],
            [
             0.1111111111111111,
             "#46039f"
            ],
            [
             0.2222222222222222,
             "#7201a8"
            ],
            [
             0.3333333333333333,
             "#9c179e"
            ],
            [
             0.4444444444444444,
             "#bd3786"
            ],
            [
             0.5555555555555556,
             "#d8576b"
            ],
            [
             0.6666666666666666,
             "#ed7953"
            ],
            [
             0.7777777777777778,
             "#fb9f3a"
            ],
            [
             0.8888888888888888,
             "#fdca26"
            ],
            [
             1,
             "#f0f921"
            ]
           ]
          },
          "colorway": [
           "#636efa",
           "#EF553B",
           "#00cc96",
           "#ab63fa",
           "#FFA15A",
           "#19d3f3",
           "#FF6692",
           "#B6E880",
           "#FF97FF",
           "#FECB52"
          ],
          "font": {
           "color": "#2a3f5f"
          },
          "geo": {
           "bgcolor": "white",
           "lakecolor": "white",
           "landcolor": "#E5ECF6",
           "showlakes": true,
           "showland": true,
           "subunitcolor": "white"
          },
          "hoverlabel": {
           "align": "left"
          },
          "hovermode": "closest",
          "mapbox": {
           "style": "light"
          },
          "paper_bgcolor": "white",
          "plot_bgcolor": "#E5ECF6",
          "polar": {
           "angularaxis": {
            "gridcolor": "white",
            "linecolor": "white",
            "ticks": ""
           },
           "bgcolor": "#E5ECF6",
           "radialaxis": {
            "gridcolor": "white",
            "linecolor": "white",
            "ticks": ""
           }
          },
          "scene": {
           "xaxis": {
            "backgroundcolor": "#E5ECF6",
            "gridcolor": "white",
            "gridwidth": 2,
            "linecolor": "white",
            "showbackground": true,
            "ticks": "",
            "zerolinecolor": "white"
           },
           "yaxis": {
            "backgroundcolor": "#E5ECF6",
            "gridcolor": "white",
            "gridwidth": 2,
            "linecolor": "white",
            "showbackground": true,
            "ticks": "",
            "zerolinecolor": "white"
           },
           "zaxis": {
            "backgroundcolor": "#E5ECF6",
            "gridcolor": "white",
            "gridwidth": 2,
            "linecolor": "white",
            "showbackground": true,
            "ticks": "",
            "zerolinecolor": "white"
           }
          },
          "shapedefaults": {
           "line": {
            "color": "#2a3f5f"
           }
          },
          "ternary": {
           "aaxis": {
            "gridcolor": "white",
            "linecolor": "white",
            "ticks": ""
           },
           "baxis": {
            "gridcolor": "white",
            "linecolor": "white",
            "ticks": ""
           },
           "bgcolor": "#E5ECF6",
           "caxis": {
            "gridcolor": "white",
            "linecolor": "white",
            "ticks": ""
           }
          },
          "title": {
           "x": 0.05
          },
          "xaxis": {
           "automargin": true,
           "gridcolor": "white",
           "linecolor": "white",
           "ticks": "",
           "title": {
            "standoff": 15
           },
           "zerolinecolor": "white",
           "zerolinewidth": 2
          },
          "yaxis": {
           "automargin": true,
           "gridcolor": "white",
           "linecolor": "white",
           "ticks": "",
           "title": {
            "standoff": 15
           },
           "zerolinecolor": "white",
           "zerolinewidth": 2
          }
         }
        },
        "title": {
         "text": "Tesla"
        },
        "xaxis": {
         "anchor": "y",
         "domain": [
          0,
          1
         ],
         "matches": "x2",
         "rangeslider": {
          "visible": true
         },
         "showticklabels": false,
         "title": {
          "text": "Date"
         }
        },
        "xaxis2": {
         "anchor": "y2",
         "domain": [
          0,
          1
         ],
         "title": {
          "text": "Date"
         }
        },
        "yaxis": {
         "anchor": "x",
         "domain": [
          0.6499999999999999,
          0.9999999999999999
         ],
         "title": {
          "text": "Price ($US)"
         }
        },
        "yaxis2": {
         "anchor": "x2",
         "domain": [
          0,
          0.35
         ],
         "title": {
          "text": "Revenue ($US Millions)"
         }
        }
       }
      }
     },
     "metadata": {},
     "output_type": "display_data"
    }
   ],
   "source": [
    "make_graph(tesla_data, tesla_revenue, 'Tesla')"
   ]
  },
  {
   "cell_type": "markdown",
   "metadata": {},
   "source": [
    "## 6: Plot GameStop Stock Graph\n"
   ]
  },
  {
   "cell_type": "code",
   "execution_count": 35,
   "metadata": {},
   "outputs": [
    {
     "data": {
      "application/vnd.plotly.v1+json": {
       "config": {
        "plotlyServerURL": "https://plot.ly"
       },
       "data": [
        {
         "name": "Share Price",
         "type": "scatter",
         "x": [
          "2020-08-10T00:00:00.000000000",
          "2020-08-11T00:00:00.000000000",
          "2020-08-12T00:00:00.000000000",
          "2020-08-13T00:00:00.000000000",
          "2020-08-14T00:00:00.000000000",
          "2020-08-17T00:00:00.000000000",
          "2020-08-18T00:00:00.000000000",
          "2020-08-19T00:00:00.000000000",
          "2020-08-20T00:00:00.000000000",
          "2020-08-21T00:00:00.000000000",
          "2020-08-24T00:00:00.000000000",
          "2020-08-25T00:00:00.000000000",
          "2020-08-26T00:00:00.000000000",
          "2020-08-27T00:00:00.000000000",
          "2020-08-28T00:00:00.000000000",
          "2020-08-31T00:00:00.000000000",
          "2020-09-01T00:00:00.000000000",
          "2020-09-02T00:00:00.000000000",
          "2020-09-03T00:00:00.000000000",
          "2020-09-04T00:00:00.000000000",
          "2020-09-08T00:00:00.000000000",
          "2020-09-09T00:00:00.000000000",
          "2020-09-10T00:00:00.000000000",
          "2020-09-11T00:00:00.000000000",
          "2020-09-14T00:00:00.000000000",
          "2020-09-15T00:00:00.000000000",
          "2020-09-16T00:00:00.000000000",
          "2020-09-17T00:00:00.000000000",
          "2020-09-18T00:00:00.000000000",
          "2020-09-21T00:00:00.000000000",
          "2020-09-22T00:00:00.000000000",
          "2020-09-23T00:00:00.000000000",
          "2020-09-24T00:00:00.000000000",
          "2020-09-25T00:00:00.000000000",
          "2020-09-28T00:00:00.000000000",
          "2020-09-29T00:00:00.000000000",
          "2020-09-30T00:00:00.000000000",
          "2020-10-01T00:00:00.000000000",
          "2020-10-02T00:00:00.000000000",
          "2020-10-05T00:00:00.000000000",
          "2020-10-06T00:00:00.000000000",
          "2020-10-07T00:00:00.000000000",
          "2020-10-08T00:00:00.000000000",
          "2020-10-09T00:00:00.000000000",
          "2020-10-12T00:00:00.000000000",
          "2020-10-13T00:00:00.000000000",
          "2020-10-14T00:00:00.000000000",
          "2020-10-15T00:00:00.000000000",
          "2020-10-16T00:00:00.000000000",
          "2020-10-19T00:00:00.000000000",
          "2020-10-20T00:00:00.000000000",
          "2020-10-21T00:00:00.000000000",
          "2020-10-22T00:00:00.000000000",
          "2020-10-23T00:00:00.000000000",
          "2020-10-26T00:00:00.000000000",
          "2020-10-27T00:00:00.000000000",
          "2020-10-28T00:00:00.000000000",
          "2020-10-29T00:00:00.000000000",
          "2020-10-30T00:00:00.000000000",
          "2020-11-02T00:00:00.000000000",
          "2020-11-03T00:00:00.000000000",
          "2020-11-04T00:00:00.000000000",
          "2020-11-05T00:00:00.000000000",
          "2020-11-06T00:00:00.000000000",
          "2020-11-09T00:00:00.000000000",
          "2020-11-10T00:00:00.000000000",
          "2020-11-11T00:00:00.000000000",
          "2020-11-12T00:00:00.000000000",
          "2020-11-13T00:00:00.000000000",
          "2020-11-16T00:00:00.000000000",
          "2020-11-17T00:00:00.000000000",
          "2020-11-18T00:00:00.000000000",
          "2020-11-19T00:00:00.000000000",
          "2020-11-20T00:00:00.000000000",
          "2020-11-23T00:00:00.000000000",
          "2020-11-24T00:00:00.000000000",
          "2020-11-25T00:00:00.000000000",
          "2020-11-27T00:00:00.000000000",
          "2020-11-30T00:00:00.000000000",
          "2020-12-01T00:00:00.000000000",
          "2020-12-02T00:00:00.000000000",
          "2020-12-03T00:00:00.000000000",
          "2020-12-04T00:00:00.000000000",
          "2020-12-07T00:00:00.000000000",
          "2020-12-08T00:00:00.000000000",
          "2020-12-09T00:00:00.000000000",
          "2020-12-10T00:00:00.000000000",
          "2020-12-11T00:00:00.000000000",
          "2020-12-14T00:00:00.000000000",
          "2020-12-15T00:00:00.000000000",
          "2020-12-16T00:00:00.000000000",
          "2020-12-17T00:00:00.000000000",
          "2020-12-18T00:00:00.000000000",
          "2020-12-21T00:00:00.000000000",
          "2020-12-22T00:00:00.000000000",
          "2020-12-23T00:00:00.000000000",
          "2020-12-24T00:00:00.000000000",
          "2020-12-28T00:00:00.000000000",
          "2020-12-29T00:00:00.000000000",
          "2020-12-30T00:00:00.000000000",
          "2020-12-31T00:00:00.000000000",
          "2021-01-04T00:00:00.000000000",
          "2021-01-05T00:00:00.000000000",
          "2021-01-06T00:00:00.000000000",
          "2021-01-07T00:00:00.000000000",
          "2021-01-08T00:00:00.000000000",
          "2021-01-11T00:00:00.000000000",
          "2021-01-12T00:00:00.000000000",
          "2021-01-13T00:00:00.000000000",
          "2021-01-14T00:00:00.000000000",
          "2021-01-15T00:00:00.000000000",
          "2021-01-19T00:00:00.000000000",
          "2021-01-20T00:00:00.000000000",
          "2021-01-21T00:00:00.000000000",
          "2021-01-22T00:00:00.000000000",
          "2021-01-25T00:00:00.000000000",
          "2021-01-26T00:00:00.000000000",
          "2021-01-27T00:00:00.000000000",
          "2021-01-28T00:00:00.000000000",
          "2021-01-29T00:00:00.000000000",
          "2021-02-01T00:00:00.000000000",
          "2021-02-02T00:00:00.000000000",
          "2021-02-03T00:00:00.000000000",
          "2021-02-04T00:00:00.000000000",
          "2021-02-05T00:00:00.000000000",
          "2021-02-08T00:00:00.000000000",
          "2021-02-09T00:00:00.000000000",
          "2021-02-10T00:00:00.000000000",
          "2021-02-11T00:00:00.000000000",
          "2021-02-12T00:00:00.000000000",
          "2021-02-16T00:00:00.000000000",
          "2021-02-17T00:00:00.000000000",
          "2021-02-18T00:00:00.000000000",
          "2021-02-19T00:00:00.000000000",
          "2021-02-22T00:00:00.000000000",
          "2021-02-23T00:00:00.000000000",
          "2021-02-24T00:00:00.000000000",
          "2021-02-25T00:00:00.000000000",
          "2021-02-26T00:00:00.000000000",
          "2021-03-01T00:00:00.000000000",
          "2021-03-02T00:00:00.000000000",
          "2021-03-03T00:00:00.000000000",
          "2021-03-04T00:00:00.000000000",
          "2021-03-05T00:00:00.000000000",
          "2021-03-08T00:00:00.000000000",
          "2021-03-09T00:00:00.000000000",
          "2021-03-10T00:00:00.000000000",
          "2021-03-11T00:00:00.000000000",
          "2021-03-12T00:00:00.000000000",
          "2021-03-15T00:00:00.000000000",
          "2021-03-16T00:00:00.000000000",
          "2021-03-17T00:00:00.000000000",
          "2021-03-18T00:00:00.000000000",
          "2021-03-19T00:00:00.000000000",
          "2021-03-22T00:00:00.000000000",
          "2021-03-23T00:00:00.000000000",
          "2021-03-24T00:00:00.000000000",
          "2021-03-25T00:00:00.000000000",
          "2021-03-26T00:00:00.000000000",
          "2021-03-29T00:00:00.000000000",
          "2021-03-30T00:00:00.000000000",
          "2021-03-31T00:00:00.000000000",
          "2021-04-01T00:00:00.000000000",
          "2021-04-05T00:00:00.000000000",
          "2021-04-06T00:00:00.000000000",
          "2021-04-07T00:00:00.000000000",
          "2021-04-08T00:00:00.000000000",
          "2021-04-09T00:00:00.000000000",
          "2021-04-12T00:00:00.000000000",
          "2021-04-13T00:00:00.000000000",
          "2021-04-14T00:00:00.000000000",
          "2021-04-15T00:00:00.000000000",
          "2021-04-16T00:00:00.000000000",
          "2021-04-19T00:00:00.000000000",
          "2021-04-20T00:00:00.000000000",
          "2021-04-21T00:00:00.000000000",
          "2021-04-22T00:00:00.000000000",
          "2021-04-23T00:00:00.000000000",
          "2021-04-26T00:00:00.000000000",
          "2021-04-27T00:00:00.000000000",
          "2021-04-28T00:00:00.000000000",
          "2021-04-29T00:00:00.000000000",
          "2021-04-30T00:00:00.000000000",
          "2021-05-03T00:00:00.000000000",
          "2021-05-04T00:00:00.000000000",
          "2021-05-05T00:00:00.000000000",
          "2021-05-06T00:00:00.000000000",
          "2021-05-07T00:00:00.000000000",
          "2021-05-10T00:00:00.000000000",
          "2021-05-11T00:00:00.000000000",
          "2021-05-12T00:00:00.000000000",
          "2021-05-13T00:00:00.000000000",
          "2021-05-14T00:00:00.000000000",
          "2021-05-17T00:00:00.000000000",
          "2021-05-18T00:00:00.000000000",
          "2021-05-19T00:00:00.000000000",
          "2021-05-20T00:00:00.000000000",
          "2021-05-21T00:00:00.000000000",
          "2021-05-24T00:00:00.000000000",
          "2021-05-25T00:00:00.000000000",
          "2021-05-26T00:00:00.000000000",
          "2021-05-27T00:00:00.000000000",
          "2021-05-28T00:00:00.000000000",
          "2021-06-01T00:00:00.000000000",
          "2021-06-02T00:00:00.000000000",
          "2021-06-03T00:00:00.000000000",
          "2021-06-04T00:00:00.000000000",
          "2021-06-07T00:00:00.000000000",
          "2021-06-08T00:00:00.000000000",
          "2021-06-09T00:00:00.000000000",
          "2021-06-10T00:00:00.000000000",
          "2021-06-11T00:00:00.000000000",
          "2021-06-14T00:00:00.000000000"
         ],
         "xaxis": "x",
         "y": {
          "bdata": "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",
          "dtype": "f8"
         },
         "yaxis": "y"
        },
        {
         "name": "Revenue",
         "type": "scatter",
         "x": [
          "2020-04-30T00:00:00.000000000",
          "2020-01-31T00:00:00.000000000",
          "2019-10-31T00:00:00.000000000",
          "2019-07-31T00:00:00.000000000",
          "2019-04-30T00:00:00.000000000",
          "2019-01-31T00:00:00.000000000",
          "2018-10-31T00:00:00.000000000",
          "2018-07-31T00:00:00.000000000",
          "2018-04-30T00:00:00.000000000",
          "2018-01-31T00:00:00.000000000",
          "2017-10-31T00:00:00.000000000",
          "2017-07-31T00:00:00.000000000",
          "2017-04-30T00:00:00.000000000",
          "2017-01-31T00:00:00.000000000",
          "2016-10-31T00:00:00.000000000",
          "2016-07-31T00:00:00.000000000",
          "2016-04-30T00:00:00.000000000",
          "2016-01-31T00:00:00.000000000",
          "2015-10-31T00:00:00.000000000",
          "2015-07-31T00:00:00.000000000",
          "2015-04-30T00:00:00.000000000",
          "2015-01-31T00:00:00.000000000",
          "2014-10-31T00:00:00.000000000",
          "2014-07-31T00:00:00.000000000",
          "2014-04-30T00:00:00.000000000",
          "2014-01-31T00:00:00.000000000",
          "2013-10-31T00:00:00.000000000",
          "2013-07-31T00:00:00.000000000",
          "2013-04-30T00:00:00.000000000",
          "2013-01-31T00:00:00.000000000",
          "2012-10-31T00:00:00.000000000",
          "2012-07-31T00:00:00.000000000",
          "2012-04-30T00:00:00.000000000",
          "2012-01-31T00:00:00.000000000",
          "2011-10-31T00:00:00.000000000",
          "2011-07-31T00:00:00.000000000",
          "2011-04-30T00:00:00.000000000",
          "2011-01-31T00:00:00.000000000",
          "2010-10-31T00:00:00.000000000",
          "2010-07-31T00:00:00.000000000",
          "2010-04-30T00:00:00.000000000",
          "2010-01-31T00:00:00.000000000",
          "2009-10-31T00:00:00.000000000",
          "2009-07-31T00:00:00.000000000",
          "2009-04-30T00:00:00.000000000",
          "2009-01-31T00:00:00.000000000",
          "2008-10-31T00:00:00.000000000",
          "2008-07-31T00:00:00.000000000",
          "2008-04-30T00:00:00.000000000",
          "2008-01-31T00:00:00.000000000",
          "2007-10-31T00:00:00.000000000",
          "2007-07-31T00:00:00.000000000",
          "2007-04-30T00:00:00.000000000",
          "2007-01-31T00:00:00.000000000",
          "2006-10-31T00:00:00.000000000",
          "2006-07-31T00:00:00.000000000",
          "2006-04-30T00:00:00.000000000",
          "2006-01-31T00:00:00.000000000",
          "2005-10-31T00:00:00.000000000",
          "2005-07-31T00:00:00.000000000",
          "2005-04-30T00:00:00.000000000",
          "2005-01-31T00:00:00.000000000"
         ],
         "xaxis": "x2",
         "y": {
          "bdata": "AAAAAADoj0AAAAAAACShQAAAAAAAfJZAAAAAAAAYlEAAAAAAADCYQAAAAAAA7qdAAAAAAAA8nkAAAAAAAHSXQAAAAAAA6JtAAAAAAAASpkAAAAAAABSfQAAAAAAAYJpAAAAAAAD4n0AAAAAAAMaiQAAAAAAAnJ5AAAAAAACAmUAAAAAAANCeQAAAAAAAiqtAAAAAAACAn0AAAAAAAIibQAAAAAAAGqBAAAAAAAAoq0AAAAAAAFigQAAAAAAADJtAAAAAAAAwn0AAAAAAAMisQAAAAAAAdqBAAAAAAACglUAAAAAAACSdQAAAAAAA1KtAAAAAAAC0m0AAAAAAADiYQAAAAAAASJ9AAAAAAAD2q0AAAAAAAGyeQAAAAAAAQJtAAAAAAADSoUAAAAAAANqsQAAAAAAArJ1AAAAAAAAcnEAAAAAAAEagQAAAAAAAiKtAAAAAAACsnEAAAAAAACybQAAAAAAA9J5AAAAAAABIq0AAAAAAAICaQAAAAAAAMJxAAAAAAABYnEAAAAAAAGSmQAAAAAAALJlAAAAAAADolEAAAAAAAPyTQAAAAAAAAKJAAAAAAACgj0AAAAAAABiOQAAAAAAAQJBAAAAAAAAMmkAAAAAAALCAQAAAAAAAAHpAAAAAAACwfUAAAAAAACiGQA==",
          "dtype": "f8"
         },
         "yaxis": "y2"
        }
       ],
       "layout": {
        "annotations": [
         {
          "font": {
           "size": 16
          },
          "showarrow": false,
          "text": "Historical Share Price",
          "x": 0.5,
          "xanchor": "center",
          "xref": "paper",
          "y": 0.9999999999999999,
          "yanchor": "bottom",
          "yref": "paper"
         },
         {
          "font": {
           "size": 16
          },
          "showarrow": false,
          "text": "Historical Revenue",
          "x": 0.5,
          "xanchor": "center",
          "xref": "paper",
          "y": 0.35,
          "yanchor": "bottom",
          "yref": "paper"
         }
        ],
        "height": 900,
        "showlegend": false,
        "template": {
         "data": {
          "bar": [
           {
            "error_x": {
             "color": "#2a3f5f"
            },
            "error_y": {
             "color": "#2a3f5f"
            },
            "marker": {
             "line": {
              "color": "#E5ECF6",
              "width": 0.5
             },
             "pattern": {
              "fillmode": "overlay",
              "size": 10,
              "solidity": 0.2
             }
            },
            "type": "bar"
           }
          ],
          "barpolar": [
           {
            "marker": {
             "line": {
              "color": "#E5ECF6",
              "width": 0.5
             },
             "pattern": {
              "fillmode": "overlay",
              "size": 10,
              "solidity": 0.2
             }
            },
            "type": "barpolar"
           }
          ],
          "carpet": [
           {
            "aaxis": {
             "endlinecolor": "#2a3f5f",
             "gridcolor": "white",
             "linecolor": "white",
             "minorgridcolor": "white",
             "startlinecolor": "#2a3f5f"
            },
            "baxis": {
             "endlinecolor": "#2a3f5f",
             "gridcolor": "white",
             "linecolor": "white",
             "minorgridcolor": "white",
             "startlinecolor": "#2a3f5f"
            },
            "type": "carpet"
           }
          ],
          "choropleth": [
           {
            "colorbar": {
             "outlinewidth": 0,
             "ticks": ""
            },
            "type": "choropleth"
           }
          ],
          "contour": [
           {
            "colorbar": {
             "outlinewidth": 0,
             "ticks": ""
            },
            "colorscale": [
             [
              0,
              "#0d0887"
             ],
             [
              0.1111111111111111,
              "#46039f"
             ],
             [
              0.2222222222222222,
              "#7201a8"
             ],
             [
              0.3333333333333333,
              "#9c179e"
             ],
             [
              0.4444444444444444,
              "#bd3786"
             ],
             [
              0.5555555555555556,
              "#d8576b"
             ],
             [
              0.6666666666666666,
              "#ed7953"
             ],
             [
              0.7777777777777778,
              "#fb9f3a"
             ],
             [
              0.8888888888888888,
              "#fdca26"
             ],
             [
              1,
              "#f0f921"
             ]
            ],
            "type": "contour"
           }
          ],
          "contourcarpet": [
           {
            "colorbar": {
             "outlinewidth": 0,
             "ticks": ""
            },
            "type": "contourcarpet"
           }
          ],
          "heatmap": [
           {
            "colorbar": {
             "outlinewidth": 0,
             "ticks": ""
            },
            "colorscale": [
             [
              0,
              "#0d0887"
             ],
             [
              0.1111111111111111,
              "#46039f"
             ],
             [
              0.2222222222222222,
              "#7201a8"
             ],
             [
              0.3333333333333333,
              "#9c179e"
             ],
             [
              0.4444444444444444,
              "#bd3786"
             ],
             [
              0.5555555555555556,
              "#d8576b"
             ],
             [
              0.6666666666666666,
              "#ed7953"
             ],
             [
              0.7777777777777778,
              "#fb9f3a"
             ],
             [
              0.8888888888888888,
              "#fdca26"
             ],
             [
              1,
              "#f0f921"
             ]
            ],
            "type": "heatmap"
           }
          ],
          "histogram": [
           {
            "marker": {
             "pattern": {
              "fillmode": "overlay",
              "size": 10,
              "solidity": 0.2
             }
            },
            "type": "histogram"
           }
          ],
          "histogram2d": [
           {
            "colorbar": {
             "outlinewidth": 0,
             "ticks": ""
            },
            "colorscale": [
             [
              0,
              "#0d0887"
             ],
             [
              0.1111111111111111,
              "#46039f"
             ],
             [
              0.2222222222222222,
              "#7201a8"
             ],
             [
              0.3333333333333333,
              "#9c179e"
             ],
             [
              0.4444444444444444,
              "#bd3786"
             ],
             [
              0.5555555555555556,
              "#d8576b"
             ],
             [
              0.6666666666666666,
              "#ed7953"
             ],
             [
              0.7777777777777778,
              "#fb9f3a"
             ],
             [
              0.8888888888888888,
              "#fdca26"
             ],
             [
              1,
              "#f0f921"
             ]
            ],
            "type": "histogram2d"
           }
          ],
          "histogram2dcontour": [
           {
            "colorbar": {
             "outlinewidth": 0,
             "ticks": ""
            },
            "colorscale": [
             [
              0,
              "#0d0887"
             ],
             [
              0.1111111111111111,
              "#46039f"
             ],
             [
              0.2222222222222222,
              "#7201a8"
             ],
             [
              0.3333333333333333,
              "#9c179e"
             ],
             [
              0.4444444444444444,
              "#bd3786"
             ],
             [
              0.5555555555555556,
              "#d8576b"
             ],
             [
              0.6666666666666666,
              "#ed7953"
             ],
             [
              0.7777777777777778,
              "#fb9f3a"
             ],
             [
              0.8888888888888888,
              "#fdca26"
             ],
             [
              1,
              "#f0f921"
             ]
            ],
            "type": "histogram2dcontour"
           }
          ],
          "mesh3d": [
           {
            "colorbar": {
             "outlinewidth": 0,
             "ticks": ""
            },
            "type": "mesh3d"
           }
          ],
          "parcoords": [
           {
            "line": {
             "colorbar": {
              "outlinewidth": 0,
              "ticks": ""
             }
            },
            "type": "parcoords"
           }
          ],
          "pie": [
           {
            "automargin": true,
            "type": "pie"
           }
          ],
          "scatter": [
           {
            "fillpattern": {
             "fillmode": "overlay",
             "size": 10,
             "solidity": 0.2
            },
            "type": "scatter"
           }
          ],
          "scatter3d": [
           {
            "line": {
             "colorbar": {
              "outlinewidth": 0,
              "ticks": ""
             }
            },
            "marker": {
             "colorbar": {
              "outlinewidth": 0,
              "ticks": ""
             }
            },
            "type": "scatter3d"
           }
          ],
          "scattercarpet": [
           {
            "marker": {
             "colorbar": {
              "outlinewidth": 0,
              "ticks": ""
             }
            },
            "type": "scattercarpet"
           }
          ],
          "scattergeo": [
           {
            "marker": {
             "colorbar": {
              "outlinewidth": 0,
              "ticks": ""
             }
            },
            "type": "scattergeo"
           }
          ],
          "scattergl": [
           {
            "marker": {
             "colorbar": {
              "outlinewidth": 0,
              "ticks": ""
             }
            },
            "type": "scattergl"
           }
          ],
          "scattermap": [
           {
            "marker": {
             "colorbar": {
              "outlinewidth": 0,
              "ticks": ""
             }
            },
            "type": "scattermap"
           }
          ],
          "scattermapbox": [
           {
            "marker": {
             "colorbar": {
              "outlinewidth": 0,
              "ticks": ""
             }
            },
            "type": "scattermapbox"
           }
          ],
          "scatterpolar": [
           {
            "marker": {
             "colorbar": {
              "outlinewidth": 0,
              "ticks": ""
             }
            },
            "type": "scatterpolar"
           }
          ],
          "scatterpolargl": [
           {
            "marker": {
             "colorbar": {
              "outlinewidth": 0,
              "ticks": ""
             }
            },
            "type": "scatterpolargl"
           }
          ],
          "scatterternary": [
           {
            "marker": {
             "colorbar": {
              "outlinewidth": 0,
              "ticks": ""
             }
            },
            "type": "scatterternary"
           }
          ],
          "surface": [
           {
            "colorbar": {
             "outlinewidth": 0,
             "ticks": ""
            },
            "colorscale": [
             [
              0,
              "#0d0887"
             ],
             [
              0.1111111111111111,
              "#46039f"
             ],
             [
              0.2222222222222222,
              "#7201a8"
             ],
             [
              0.3333333333333333,
              "#9c179e"
             ],
             [
              0.4444444444444444,
              "#bd3786"
             ],
             [
              0.5555555555555556,
              "#d8576b"
             ],
             [
              0.6666666666666666,
              "#ed7953"
             ],
             [
              0.7777777777777778,
              "#fb9f3a"
             ],
             [
              0.8888888888888888,
              "#fdca26"
             ],
             [
              1,
              "#f0f921"
             ]
            ],
            "type": "surface"
           }
          ],
          "table": [
           {
            "cells": {
             "fill": {
              "color": "#EBF0F8"
             },
             "line": {
              "color": "white"
             }
            },
            "header": {
             "fill": {
              "color": "#C8D4E3"
             },
             "line": {
              "color": "white"
             }
            },
            "type": "table"
           }
          ]
         },
         "layout": {
          "annotationdefaults": {
           "arrowcolor": "#2a3f5f",
           "arrowhead": 0,
           "arrowwidth": 1
          },
          "autotypenumbers": "strict",
          "coloraxis": {
           "colorbar": {
            "outlinewidth": 0,
            "ticks": ""
           }
          },
          "colorscale": {
           "diverging": [
            [
             0,
             "#8e0152"
            ],
            [
             0.1,
             "#c51b7d"
            ],
            [
             0.2,
             "#de77ae"
            ],
            [
             0.3,
             "#f1b6da"
            ],
            [
             0.4,
             "#fde0ef"
            ],
            [
             0.5,
             "#f7f7f7"
            ],
            [
             0.6,
             "#e6f5d0"
            ],
            [
             0.7,
             "#b8e186"
            ],
            [
             0.8,
             "#7fbc41"
            ],
            [
             0.9,
             "#4d9221"
            ],
            [
             1,
             "#276419"
            ]
           ],
           "sequential": [
            [
             0,
             "#0d0887"
            ],
            [
             0.1111111111111111,
             "#46039f"
            ],
            [
             0.2222222222222222,
             "#7201a8"
            ],
            [
             0.3333333333333333,
             "#9c179e"
            ],
            [
             0.4444444444444444,
             "#bd3786"
            ],
            [
             0.5555555555555556,
             "#d8576b"
            ],
            [
             0.6666666666666666,
             "#ed7953"
            ],
            [
             0.7777777777777778,
             "#fb9f3a"
            ],
            [
             0.8888888888888888,
             "#fdca26"
            ],
            [
             1,
             "#f0f921"
            ]
           ],
           "sequentialminus": [
            [
             0,
             "#0d0887"
            ],
            [
             0.1111111111111111,
             "#46039f"
            ],
            [
             0.2222222222222222,
             "#7201a8"
            ],
            [
             0.3333333333333333,
             "#9c179e"
            ],
            [
             0.4444444444444444,
             "#bd3786"
            ],
            [
             0.5555555555555556,
             "#d8576b"
            ],
            [
             0.6666666666666666,
             "#ed7953"
            ],
            [
             0.7777777777777778,
             "#fb9f3a"
            ],
            [
             0.8888888888888888,
             "#fdca26"
            ],
            [
             1,
             "#f0f921"
            ]
           ]
          },
          "colorway": [
           "#636efa",
           "#EF553B",
           "#00cc96",
           "#ab63fa",
           "#FFA15A",
           "#19d3f3",
           "#FF6692",
           "#B6E880",
           "#FF97FF",
           "#FECB52"
          ],
          "font": {
           "color": "#2a3f5f"
          },
          "geo": {
           "bgcolor": "white",
           "lakecolor": "white",
           "landcolor": "#E5ECF6",
           "showlakes": true,
           "showland": true,
           "subunitcolor": "white"
          },
          "hoverlabel": {
           "align": "left"
          },
          "hovermode": "closest",
          "mapbox": {
           "style": "light"
          },
          "paper_bgcolor": "white",
          "plot_bgcolor": "#E5ECF6",
          "polar": {
           "angularaxis": {
            "gridcolor": "white",
            "linecolor": "white",
            "ticks": ""
           },
           "bgcolor": "#E5ECF6",
           "radialaxis": {
            "gridcolor": "white",
            "linecolor": "white",
            "ticks": ""
           }
          },
          "scene": {
           "xaxis": {
            "backgroundcolor": "#E5ECF6",
            "gridcolor": "white",
            "gridwidth": 2,
            "linecolor": "white",
            "showbackground": true,
            "ticks": "",
            "zerolinecolor": "white"
           },
           "yaxis": {
            "backgroundcolor": "#E5ECF6",
            "gridcolor": "white",
            "gridwidth": 2,
            "linecolor": "white",
            "showbackground": true,
            "ticks": "",
            "zerolinecolor": "white"
           },
           "zaxis": {
            "backgroundcolor": "#E5ECF6",
            "gridcolor": "white",
            "gridwidth": 2,
            "linecolor": "white",
            "showbackground": true,
            "ticks": "",
            "zerolinecolor": "white"
           }
          },
          "shapedefaults": {
           "line": {
            "color": "#2a3f5f"
           }
          },
          "ternary": {
           "aaxis": {
            "gridcolor": "white",
            "linecolor": "white",
            "ticks": ""
           },
           "baxis": {
            "gridcolor": "white",
            "linecolor": "white",
            "ticks": ""
           },
           "bgcolor": "#E5ECF6",
           "caxis": {
            "gridcolor": "white",
            "linecolor": "white",
            "ticks": ""
           }
          },
          "title": {
           "x": 0.05
          },
          "xaxis": {
           "automargin": true,
           "gridcolor": "white",
           "linecolor": "white",
           "ticks": "",
           "title": {
            "standoff": 15
           },
           "zerolinecolor": "white",
           "zerolinewidth": 2
          },
          "yaxis": {
           "automargin": true,
           "gridcolor": "white",
           "linecolor": "white",
           "ticks": "",
           "title": {
            "standoff": 15
           },
           "zerolinecolor": "white",
           "zerolinewidth": 2
          }
         }
        },
        "title": {
         "text": "GameStop"
        },
        "xaxis": {
         "anchor": "y",
         "domain": [
          0,
          1
         ],
         "matches": "x2",
         "rangeslider": {
          "visible": true
         },
         "showticklabels": false,
         "title": {
          "text": "Date"
         }
        },
        "xaxis2": {
         "anchor": "y2",
         "domain": [
          0,
          1
         ],
         "title": {
          "text": "Date"
         }
        },
        "yaxis": {
         "anchor": "x",
         "domain": [
          0.6499999999999999,
          0.9999999999999999
         ],
         "title": {
          "text": "Price ($US)"
         }
        },
        "yaxis2": {
         "anchor": "x2",
         "domain": [
          0,
          0.35
         ],
         "title": {
          "text": "Revenue ($US Millions)"
         }
        }
       }
      }
     },
     "metadata": {},
     "output_type": "display_data"
    }
   ],
   "source": [
    "make_graph(gme_data, gme_revenue, 'GameStop')"
   ]
  }
 ],
 "metadata": {
  "kernelspec": {
   "display_name": "DS",
   "language": "python",
   "name": "python3"
  },
  "language_info": {
   "codemirror_mode": {
    "name": "ipython",
    "version": 3
   },
   "file_extension": ".py",
   "mimetype": "text/x-python",
   "name": "python",
   "nbconvert_exporter": "python",
   "pygments_lexer": "ipython3",
   "version": "3.11.8"
  },
  "prev_pub_hash": "3eff379447b11bb93fcfe9128340484c280bbca92c51ece98405a1f05537425b"
 },
 "nbformat": 4,
 "nbformat_minor": 4
}
